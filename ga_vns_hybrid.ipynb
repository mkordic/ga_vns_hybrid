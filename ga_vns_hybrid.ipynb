{
 "cells": [
  {
   "cell_type": "code",
   "execution_count": 1,
   "id": "6cb75926",
   "metadata": {},
   "outputs": [],
   "source": [
    "import networkx as nx\n",
    "import math\n",
    "import random\n",
    "import numpy as np\n",
    "from copy import deepcopy \n",
    "from matplotlib import pyplot as plt"
   ]
  },
  {
   "cell_type": "code",
   "execution_count": 2,
   "id": "3193f293",
   "metadata": {},
   "outputs": [],
   "source": [
    "def euclidean_distance(a_x, a_y, b_x, b_y):\n",
    "    return math.sqrt((a_x - b_x)**2 + (a_y - b_y)**2)"
   ]
  },
  {
   "cell_type": "code",
   "execution_count": 3,
   "id": "eb4dbd91",
   "metadata": {},
   "outputs": [],
   "source": [
    "def read_graph(file_path):\n",
    "    with open(file_path) as f:\n",
    "        g = nx.Graph()\n",
    "        for line in f:\n",
    "            if not line[0].isdigit():\n",
    "                continue\n",
    "            node, x, y = line.split()\n",
    "            node = int(node) - 1\n",
    "            x = float(x)\n",
    "            y = float(y)\n",
    "            g.add_node(node, x=x, y=y)\n",
    "        \n",
    "        for u in g.nodes:\n",
    "            for v in range(u + 1, len(g.nodes)):\n",
    "                g.add_edge(u, v,\n",
    "                           distance=euclidean_distance(g.nodes[u]['x'],\n",
    "                                                        g.nodes[u]['y'],\n",
    "                                                        g.nodes[v]['x'],\n",
    "                                                        g.nodes[v]['y']))\n",
    "        \n",
    "        return g"
   ]
  },
  {
   "cell_type": "code",
   "execution_count": 4,
   "id": "6ce61a2c",
   "metadata": {},
   "outputs": [],
   "source": [
    "graph = read_graph(\"wi29.tsp\")"
   ]
  },
  {
   "cell_type": "code",
   "execution_count": 5,
   "id": "3e7ba8a8",
   "metadata": {},
   "outputs": [
    {
     "data": {
      "text/plain": [
       "74.53561415712697"
      ]
     },
     "execution_count": 5,
     "metadata": {},
     "output_type": "execute_result"
    }
   ],
   "source": [
    "graph[0][1][\"distance\"]"
   ]
  },
  {
   "cell_type": "code",
   "execution_count": 6,
   "id": "e558e1eb",
   "metadata": {},
   "outputs": [
    {
     "data": {
      "text/plain": [
       "NodeView((0, 1, 2, 3, 4, 5, 6, 7, 8, 9, 10, 11, 12, 13, 14, 15, 16, 17, 18, 19, 20, 21, 22, 23, 24, 25, 26, 27, 28))"
      ]
     },
     "execution_count": 6,
     "metadata": {},
     "output_type": "execute_result"
    }
   ],
   "source": [
    "graph.nodes"
   ]
  },
  {
   "cell_type": "code",
   "execution_count": 7,
   "id": "e7762820",
   "metadata": {},
   "outputs": [],
   "source": [
    "def foo(path, g):\n",
    "    length = 0\n",
    "    for node in range(len(path) - 1):\n",
    "        length += g[node][node + 1][\"distance\"]\n",
    "        print(node, node + 1, g[node][node+1][\"distance\"])\n",
    "    length += g[path[len(path)-1]][path[0]][\"distance\"]\n",
    "    return length"
   ]
  },
  {
   "cell_type": "code",
   "execution_count": 8,
   "id": "cb03b7cd",
   "metadata": {},
   "outputs": [
    {
     "name": "stdout",
     "output_type": "stream",
     "text": [
      "0 1 74.53561415712697\n",
      "1 2 4069.7051490249282\n",
      "2 3 1172.3669941144244\n",
      "3 4 816.6666999999998\n",
      "4 5 1533.3333000000002\n",
      "5 6 3416.829291576882\n",
      "6 7 1233.3333648648647\n",
      "7 8 1586.4880519212525\n",
      "8 9 3285.3631816825923\n",
      "9 10 106.7186696152543\n",
      "10 11 1411.95293791574\n",
      "11 12 1314.2382487374398\n",
      "12 13 1321.7628393130476\n",
      "13 14 2350.1598668908555\n",
      "14 15 3950.03516172817\n",
      "15 16 2220.6731024123696\n",
      "16 17 683.3332682926836\n",
      "17 18 432.69187394470464\n",
      "18 19 2174.409273291893\n",
      "19 20 1399.5767871810572\n",
      "20 21 370.5605639341698\n",
      "21 22 220.14199962751314\n",
      "22 23 3370.025289028461\n",
      "23 24 620.2598281723953\n",
      "24 25 1333.3333000000002\n",
      "25 26 1400.396770760187\n",
      "26 27 2023.542026854013\n",
      "27 28 592.9399890054054\n"
     ]
    },
    {
     "data": {
      "text/plain": [
       "52284.07138604786"
      ]
     },
     "execution_count": 8,
     "metadata": {},
     "output_type": "execute_result"
    }
   ],
   "source": [
    "foo([0, 1, 2, 3, 4, 5, 6, 7, 8, 9, 10, 11, 12, 13, 14, 15, 16, 17, 18, 19, 20, 21, 22, 23, 24, 25, 26, 27, 28], graph)"
   ]
  },
  {
   "cell_type": "code",
   "execution_count": 9,
   "id": "86dd5281",
   "metadata": {},
   "outputs": [],
   "source": [
    "# kodiranje\n",
    "# fitness\n",
    "# ukrstanje\n",
    "# selekcija\n",
    "# mutacija"
   ]
  },
  {
   "cell_type": "code",
   "execution_count": 10,
   "id": "d51e6503",
   "metadata": {},
   "outputs": [],
   "source": [
    "class Individual:\n",
    "    def __init__(self, g):\n",
    "        num_cities = len(g.nodes)\n",
    "        self.code = np.random.permutation(num_cities).tolist()\n",
    "        self.fitness = self.calc_fitness(g)\n",
    "        \n",
    "        \n",
    "    def calc_fitness(self,g):\n",
    "        length = 0\n",
    "        n = len(self.code)\n",
    "        for i in range(n-1):\n",
    "            length += g[self.code[i]][self.code[i+1]][\"distance\"]\n",
    "        length += g[self.code[-1]][self.code[0]][\"distance\"]\n",
    "        return length\n",
    "    \n",
    "    def __lt__(self, other):\n",
    "        return self.fitness < other.fitness"
   ]
  },
  {
   "cell_type": "code",
   "execution_count": 11,
   "id": "2b7ba4e1",
   "metadata": {},
   "outputs": [],
   "source": [
    "i = Individual(graph)"
   ]
  },
  {
   "cell_type": "code",
   "execution_count": 12,
   "id": "59e97022",
   "metadata": {},
   "outputs": [
    {
     "data": {
      "text/plain": [
       "106601.40241390253"
      ]
     },
     "execution_count": 12,
     "metadata": {},
     "output_type": "execute_result"
    }
   ],
   "source": [
    "i.fitness"
   ]
  },
  {
   "cell_type": "code",
   "execution_count": 13,
   "id": "ef58897d",
   "metadata": {},
   "outputs": [
    {
     "data": {
      "text/plain": [
       "592.9399890054054"
      ]
     },
     "execution_count": 13,
     "metadata": {},
     "output_type": "execute_result"
    }
   ],
   "source": [
    "graph[27][28][\"distance\"]"
   ]
  },
  {
   "cell_type": "code",
   "execution_count": 14,
   "id": "8dcb449d",
   "metadata": {},
   "outputs": [
    {
     "data": {
      "text/plain": [
       "29"
      ]
     },
     "execution_count": 14,
     "metadata": {},
     "output_type": "execute_result"
    }
   ],
   "source": [
    "len(i.code)"
   ]
  },
  {
   "cell_type": "code",
   "execution_count": 15,
   "id": "8bd0aa95",
   "metadata": {},
   "outputs": [],
   "source": [
    "#TODO: benchmark algorithm, using vns for every individual, using vns only for the best individual of every generation\n",
    "# compare those results"
   ]
  },
  {
   "cell_type": "code",
   "execution_count": 16,
   "id": "644df15e",
   "metadata": {},
   "outputs": [],
   "source": [
    "#for now, tournament selection\n",
    "def selection(population, tournament_size,forbidden=None):\n",
    "    allowed = list(set(range(len(population))).difference({forbidden}))\n",
    "    chosen_indices = random.sample(allowed, tournament_size)\n",
    "    best_fitness = float('inf')\n",
    "    winner = None\n",
    "    for index in chosen_indices:\n",
    "        if best_fitness > population[index].fitness:\n",
    "            winner = population[index]\n",
    "            best_fitness = winner.fitness\n",
    "    return winner"
   ]
  },
  {
   "cell_type": "code",
   "execution_count": 17,
   "id": "b804fb49",
   "metadata": {},
   "outputs": [],
   "source": [
    "def crossover(parent1, parent2):\n",
    "    \n",
    "    n = len(parent1.code)\n",
    "    child1 = []\n",
    "    child2 = []\n",
    "    \n",
    "    breakpoint = random.randrange(n)\n",
    "    \n",
    "    child1.extend(parent1.code[:breakpoint])\n",
    "    child2.extend(parent2.code[:breakpoint])\n",
    "    \n",
    "    for city in parent2.code:\n",
    "        if city not in child1:\n",
    "            child1.append(city)\n",
    "    for city in parent1.code:\n",
    "        if city not in child2:\n",
    "            child2.append(city)\n",
    "            \n",
    "    return child1, child2"
   ]
  },
  {
   "cell_type": "code",
   "execution_count": 18,
   "id": "379ed919",
   "metadata": {},
   "outputs": [],
   "source": [
    "def mutation(child, mutation_prob):\n",
    "    \n",
    "    p = random.random()\n",
    "    # try using while instead of if\n",
    "    if p <= mutation_prob:\n",
    "        n = len(child.code)\n",
    "        random_index1 = random.randrange(n)\n",
    "        allowed = list(set(range(n)).difference({random_index1}))\n",
    "        random_index2 = random.choice(allowed)\n",
    "        child.code[random_index1], child.code[random_index2] = child.code[random_index2], child.code[random_index1]\n",
    "    "
   ]
  },
  {
   "cell_type": "code",
   "execution_count": 19,
   "id": "44b6bb1b",
   "metadata": {},
   "outputs": [],
   "source": [
    "def local_search(graph,solution_after_shaking):\n",
    "    n = len(solution_after_shaking.code)\n",
    "    swaps=[]\n",
    "    for i in range(n-1):\n",
    "        for j in range(i+1,n):\n",
    "#             if i != j:\n",
    "            swaps.append((i,j))\n",
    "    new_solution = Individual(graph)\n",
    "    for i,j in swaps:\n",
    "        new_solution.code[i], new_solution.code[j] = new_solution.code[j], new_solution.code[i]\n",
    "        new_solution.fitness = new_solution.calc_fitness(graph)\n",
    "        if new_solution.fitness < solution_after_shaking.fitness:\n",
    "            solution_after_shaking.code[:] = new_solution.code[:]\n",
    "            solution_after_shaking.fitness = new_solution.fitness\n",
    "        "
   ]
  },
  {
   "cell_type": "code",
   "execution_count": 20,
   "id": "37919ad8",
   "metadata": {},
   "outputs": [],
   "source": [
    "def shaking(solution, k):\n",
    "    n = len(solution)\n",
    "    chosen_cities = random.sample(range(n), 2*k)\n",
    "    new_solution = deepcopy(solution)\n",
    "    m = len(chosen_cities)\n",
    "    for i in range(0, m, 2):\n",
    "        new_solution[i], new_solution[i+1] = new_solution[i+1], new_solution[i]\n",
    "        \n",
    "    return new_solution\n",
    "\n",
    "def shaking2(solution, k):\n",
    "    n = len(solution.code)\n",
    "    new_solution = deepcopy(solution)\n",
    "    for _ in range(k):\n",
    "        i, j = random.sample(range(n), 2)\n",
    "        new_solution.code[i], new_solution.code[j] = new_solution.code[j], new_solution.code[i]\n",
    "    \n",
    "    return new_solution\n",
    "        "
   ]
  },
  {
   "cell_type": "code",
   "execution_count": 21,
   "id": "34161374",
   "metadata": {},
   "outputs": [],
   "source": [
    "def vns(graph,individual, max_k, max_iter, move_prob):\n",
    "    \n",
    "   # new_individual = Individual(graph)\n",
    "    solution = deepcopy(individual)\n",
    "#     solution.code[:] = individual.code[:]\n",
    "#     solution.fitness = solution.calc_fitness()\n",
    "    value = individual.fitness\n",
    "    \n",
    "    for i in range(max_iter):\n",
    "        for k in range(max_k):\n",
    "            new_solution = shaking2(solution, k)\n",
    "            local_search(graph,new_solution)\n",
    "           # new_individual.code = new_solution.code\n",
    "            \n",
    "            new_solution.fitness = new_solution.calc_fitness(graph)\n",
    "            new_value = new_solution.fitness\n",
    "            if new_value < value or (new_value == value and random.random() < move_prob):\n",
    "                value = new_value\n",
    "                solution = deepcopy(new_solution)\n",
    "        \n",
    "    individual.code[:] = solution.code[:]\n",
    "    individual.fitness = value"
   ]
  },
  {
   "cell_type": "code",
   "execution_count": 22,
   "id": "06a901c2",
   "metadata": {},
   "outputs": [],
   "source": [
    "def vns_benchmark_version(graph,individual, max_k, max_iter, move_prob):\n",
    "    \n",
    "   # new_individual = Individual(graph)\n",
    "    solution = deepcopy(individual)\n",
    "#     solution.code[:] = individual.code[:]\n",
    "#     solution.fitness = solution.calc_fitness()\n",
    "    value = individual.fitness\n",
    "    tmp = []\n",
    "    \n",
    "    for i in range(max_iter):\n",
    "        tmp.append(solution.fitness)\n",
    "        for k in range(max_k):\n",
    "            new_solution = shaking2(solution, k)\n",
    "            local_search(graph,new_solution)\n",
    "           # new_individual.code = new_solution.code\n",
    "            \n",
    "            new_solution.fitness = new_solution.calc_fitness(graph)\n",
    "            new_value = new_solution.fitness\n",
    "            if new_value < value or (new_value == value and random.random() < move_prob):\n",
    "                value = new_value\n",
    "                solution = deepcopy(new_solution)\n",
    "    \n",
    "    plt.plot(range(max_iter), tmp)\n",
    "    plt.xlabel(\"iterations\",color=\"red\",fontsize=10)\n",
    "    plt.ylabel(\"fitness\",color=\"blue\",fontsize=10)\n",
    "    \n",
    "    individual.code[:] = solution.code[:]\n",
    "    individual.fitness = value"
   ]
  },
  {
   "cell_type": "code",
   "execution_count": 23,
   "id": "4f2c3d95",
   "metadata": {},
   "outputs": [],
   "source": [
    "def rvns(graph,individual, max_k, max_iter, move_prob):\n",
    "    \n",
    "   # new_individual = Individual(graph)\n",
    "    solution = deepcopy(individual)\n",
    "#     solution.code[:] = individual.code[:]\n",
    "#     solution.fitness = solution.calc_fitness()\n",
    "    value = individual.fitness\n",
    "    \n",
    "    for i in range(max_iter):\n",
    "        for k in range(max_k):\n",
    "            new_solution = shaking2(solution, k)\n",
    "           # new_individual.code = new_solution.code\n",
    "            \n",
    "            new_solution.fitness = new_solution.calc_fitness(graph)\n",
    "            new_value = new_solution.fitness\n",
    "            if new_value < value or (new_value == value and random.random() < move_prob):\n",
    "                value = new_value\n",
    "                solution = deepcopy(new_solution)\n",
    "        \n",
    "    individual.code[:] = solution.code[:]\n",
    "    individual.fitness = value"
   ]
  },
  {
   "cell_type": "markdown",
   "id": "f5c4b0aa",
   "metadata": {},
   "source": [
    "## Pretraga uz pomoc VNS-a:"
   ]
  },
  {
   "cell_type": "code",
   "execution_count": 24,
   "id": "d4fd7452",
   "metadata": {},
   "outputs": [
    {
     "name": "stdout",
     "output_type": "stream",
     "text": [
      "[20, 7, 1, 16, 25, 26, 8, 0, 22, 2, 6, 9, 12, 17, 19, 5, 4, 24, 13, 10, 14, 21, 11, 15, 27, 23, 3, 18, 28]\n",
      "104655.47276349542\n",
      "\n",
      "[7, 21, 16, 24, 23, 15, 13, 14, 18, 17, 20, 22, 28, 27, 26, 25, 19, 6, 2, 3, 4, 0, 1, 5, 9, 10, 11, 12, 8]\n",
      "40445.87235070668\n"
     ]
    },
    {
     "data": {
      "image/png": "[encoded data removed]",
      "text/plain": [
       "<Figure size 432x288 with 1 Axes>"
      ]
     },
     "metadata": {
      "needs_background": "light"
     },
     "output_type": "display_data"
    }
   ],
   "source": [
    "i1 = Individual(graph)\n",
    "# i1.code = [8, 6, 3, 4, 0, 1, 5, 7, 12, 14, 17, 20, 25, 15, 13, 10, 9, 11, 18, 21, 22, 28, 19, 23, 26, 24, 27, 16, 2]\n",
    "# i1.fitness = i1.calc_fitness(graph)\n",
    "print(i1.code)\n",
    "print(i1.fitness)\n",
    "print()\n",
    "vns_benchmark_version(graph,i1, 10, 100, 0.5)\n",
    "print(i1.code)\n",
    "print(i1.fitness)\n"
   ]
  },
  {
   "cell_type": "markdown",
   "id": "df360f2d",
   "metadata": {},
   "source": [
    "## Genetski algoritam osnovna verzija:"
   ]
  },
  {
   "cell_type": "code",
   "execution_count": 25,
   "id": "fc233a6d",
   "metadata": {},
   "outputs": [],
   "source": [
    "def ga(g,num_iters, use_elitism, elitism_size, mutation_prob, tournament_size, population_size):\n",
    "    #init population\n",
    "    population = [Individual(g) for _ in range(population_size)]\n",
    "    new_population = [Individual(g) for _ in range(population_size)]\n",
    "    tmp = []\n",
    "    for _ in range(num_iters):\n",
    "        if use_elitism:\n",
    "            population.sort()\n",
    "            tmp.append(population[0].fitness)\n",
    "            new_population[:elitism_size] = population[:elitism_size]\n",
    "        for i in range(elitism_size, population_size, 2):\n",
    "            #selection\n",
    "            parent1 = selection(population, tournament_size)\n",
    "            parent2 = selection(population, tournament_size, parent1)\n",
    "            \n",
    "            #crossover\n",
    "            new_population[i].code , new_population[i+1].code = crossover(parent1, parent2)\n",
    "            \n",
    "            #mutation\n",
    "            mutation(new_population[i], mutation_prob)\n",
    "            mutation(new_population[i+1], mutation_prob)\n",
    "            \n",
    "            #calc_new_fitnesses\n",
    "            new_population[i].fitness = new_population[i].calc_fitness(g)\n",
    "            new_population[i+1].fitness = new_population[i+1].calc_fitness(g)\n",
    "            \n",
    "            #TODO: vns\n",
    "#             vns(new_population[i], 3, 10, 0.5)\n",
    "#             vns(new_population[i+1], 3, 10, 0.5)\n",
    "            \n",
    "            \n",
    "            #replace_population\n",
    "#         vns(graph,population[0], 3, 10, 0.5)\n",
    "        population[:] = new_population[:]\n",
    "\n",
    "    #find solution\n",
    "    best_individual = min(population)\n",
    "    print(f\"code: {best_individual.code}\")\n",
    "    print(f\"fitness: {best_individual.fitness}\")\n",
    "    \n",
    "    plt.plot(range(num_iters), tmp)\n",
    "    plt.xlabel(\"iterations\",color=\"red\",fontsize=10)\n",
    "    plt.ylabel(\"fitness\",color=\"blue\",fontsize=10)\n",
    "    \n",
    "    "
   ]
  },
  {
   "cell_type": "code",
   "execution_count": 26,
   "id": "a78f24bd",
   "metadata": {},
   "outputs": [
    {
     "name": "stdout",
     "output_type": "stream",
     "text": [
      "code: [6, 8, 12, 21, 22, 20, 28, 27, 25, 19, 24, 26, 23, 15, 13, 16, 17, 18, 14, 11, 7, 9, 10, 5, 1, 0, 4, 3, 2]\n",
      "fitness: 29995.318481442893\n"
     ]
    },
    {
     "data": {
      "image/png": "[encoded data removed]",
      "text/plain": [
       "<Figure size 432x288 with 1 Axes>"
      ]
     },
     "metadata": {
      "needs_background": "light"
     },
     "output_type": "display_data"
    }
   ],
   "source": [
    "ga( graph,\n",
    "    num_iters = 20,\n",
    "    use_elitism = True,\n",
    "    population_size = 1000,\n",
    "    elitism_size = 10,\n",
    "    mutation_prob = 0.15,\n",
    "    tournament_size = 10,\n",
    "    )"
   ]
  },
  {
   "cell_type": "markdown",
   "id": "febc892c",
   "metadata": {},
   "source": [
    "## Hibrid genetski algoritam i redukovani vns:"
   ]
  },
  {
   "cell_type": "code",
   "execution_count": 27,
   "id": "97fe9e42",
   "metadata": {},
   "outputs": [],
   "source": [
    "def ga_rvns(g,num_iters, use_elitism, elitism_size, mutation_prob, tournament_size, population_size):\n",
    "    #init population\n",
    "    population = [Individual(g) for _ in range(population_size)]\n",
    "    new_population = [Individual(g) for _ in range(population_size)]\n",
    "    tmp = []\n",
    "    for _ in range(num_iters):\n",
    "        if use_elitism:\n",
    "            population.sort()\n",
    "            tmp.append(population[0].fitness)\n",
    "            new_population[:elitism_size] = population[:elitism_size]\n",
    "        for i in range(elitism_size, population_size, 2):\n",
    "            #selection\n",
    "            parent1 = selection(population, tournament_size)\n",
    "            parent2 = selection(population, tournament_size, parent1)\n",
    "            \n",
    "            #crossover\n",
    "            new_population[i].code , new_population[i+1].code = crossover(parent1, parent2)\n",
    "            \n",
    "            #mutation\n",
    "            mutation(new_population[i], mutation_prob)\n",
    "            mutation(new_population[i+1], mutation_prob)\n",
    "            \n",
    "            #calc_new_fitnesses\n",
    "            new_population[i].fitness = new_population[i].calc_fitness(g)\n",
    "            new_population[i+1].fitness = new_population[i+1].calc_fitness(g)\n",
    "            \n",
    "            #TODO: vns\n",
    "            #moze da se poveca max_k i max_iters\n",
    "            rvns(graph,new_population[i], 2, 5, 0.5)\n",
    "            rvns(graph,new_population[i+1], 2, 5, 0.5)\n",
    "            \n",
    "            \n",
    "            #replace_population\n",
    "        rvns(graph,population[0], 3, 15, 0.5)\n",
    "        population[:] = new_population[:]\n",
    "\n",
    "    #find solution\n",
    "    best_individual = min(population)\n",
    "    print(tmp)\n",
    "    print(f\"code: {best_individual.code}\")\n",
    "    print(f\"fitness: {best_individual.fitness}\")\n",
    "\n",
    "    plt.plot(range(num_iters), tmp)\n",
    "    plt.xlabel(\"iterations\",color=\"red\",fontsize=10)\n",
    "    plt.ylabel(\"fitness\",color=\"blue\",fontsize=10)\n",
    "    "
   ]
  },
  {
   "cell_type": "code",
   "execution_count": 28,
   "id": "b523f3bd",
   "metadata": {
    "scrolled": true
   },
   "outputs": [
    {
     "name": "stdout",
     "output_type": "stream",
     "text": [
      "[77821.21916210394, 66766.30187625083, 44187.65541308982, 37565.0882981098, 31806.239871131453, 30169.636551412637, 29157.5893311669, 29006.858890173135, 29006.858890173135, 29006.858890173135, 29006.858890173135, 29006.858890173135, 29006.858890173135, 29006.858890173135, 29006.858890173135, 29006.858890173135, 29006.858890173135, 29006.858890173135, 29006.858890173135, 29006.858890173135]\n",
      "code: [6, 8, 13, 19, 15, 23, 26, 24, 25, 27, 28, 22, 21, 20, 16, 17, 18, 14, 12, 11, 10, 9, 5, 1, 0, 4, 7, 3, 2]\n",
      "fitness: 29006.858890173135\n"
     ]
    },
    {
     "data": {
      "image/png": "[encoded data removed]",
      "text/plain": [
       "<Figure size 432x288 with 1 Axes>"
      ]
     },
     "metadata": {
      "needs_background": "light"
     },
     "output_type": "display_data"
    }
   ],
   "source": [
    "ga_rvns( graph,\n",
    "    num_iters = 20,\n",
    "    use_elitism = True,\n",
    "    population_size = 1000,\n",
    "    elitism_size = 10,\n",
    "    mutation_prob = 0.15,\n",
    "    tournament_size = 10,\n",
    "    )"
   ]
  },
  {
   "cell_type": "markdown",
   "id": "64867c75",
   "metadata": {},
   "source": [
    "## Hibrid genetski algoritam i VNS koji se primenjuje samo na najbolju jedinku u generaciji:"
   ]
  },
  {
   "cell_type": "code",
   "execution_count": 29,
   "id": "91b42055",
   "metadata": {},
   "outputs": [],
   "source": [
    "def ga_vns_best_only(g,num_iters, use_elitism, elitism_size, mutation_prob, tournament_size, population_size):\n",
    "    #init population\n",
    "    population = [Individual(g) for _ in range(population_size)]\n",
    "    new_population = [Individual(g) for _ in range(population_size)]\n",
    "    tmp = []\n",
    "    for _ in range(num_iters):\n",
    "        if use_elitism:\n",
    "            population.sort()\n",
    "            tmp.append(population[0].fitness)\n",
    "            new_population[:elitism_size] = population[:elitism_size]\n",
    "        for i in range(elitism_size, population_size, 2):\n",
    "            #selection\n",
    "            parent1 = selection(population, tournament_size)\n",
    "            parent2 = selection(population, tournament_size, parent1)\n",
    "            \n",
    "            #crossover\n",
    "            new_population[i].code , new_population[i+1].code = crossover(parent1, parent2)\n",
    "            \n",
    "            #mutation\n",
    "            mutation(new_population[i], mutation_prob)\n",
    "            mutation(new_population[i+1], mutation_prob)\n",
    "            \n",
    "            #calc_new_fitnesses\n",
    "            new_population[i].fitness = new_population[i].calc_fitness(g)\n",
    "            new_population[i+1].fitness = new_population[i+1].calc_fitness(g)\n",
    "                        \n",
    "            #replace_population\n",
    "        vns(graph,population[0], 7, 30, 0.5)\n",
    "        population[:] = new_population[:]\n",
    "\n",
    "    #find solution\n",
    "    best_individual = min(population)\n",
    "    print(f\"code: {best_individual.code}\")\n",
    "    print(f\"fitness: {best_individual.fitness}\")\n",
    "\n",
    "    plt.plot(range(num_iters), tmp)\n",
    "    plt.xlabel(\"iterations\",color=\"red\",fontsize=10)\n",
    "    plt.ylabel(\"fitness\",color=\"blue\",fontsize=10)\n",
    "    "
   ]
  },
  {
   "cell_type": "code",
   "execution_count": 30,
   "id": "869bfbe4",
   "metadata": {},
   "outputs": [
    {
     "name": "stdout",
     "output_type": "stream",
     "text": [
      "code: [26, 23, 15, 12, 7, 5, 1, 0, 4, 3, 2, 6, 8, 13, 16, 19, 25, 27, 28, 20, 22, 21, 17, 18, 14, 10, 9, 11, 24]\n",
      "fitness: 35226.49571861618\n"
     ]
    },
    {
     "data": {
      "image/png": "[encoded data removed]",
      "text/plain": [
       "<Figure size 432x288 with 1 Axes>"
      ]
     },
     "metadata": {
      "needs_background": "light"
     },
     "output_type": "display_data"
    }
   ],
   "source": [
    "ga_vns_best_only( graph,\n",
    "    num_iters = 20,\n",
    "    use_elitism = True,\n",
    "    population_size = 1000,\n",
    "    elitism_size = 10,\n",
    "    mutation_prob = 0.15,\n",
    "    tournament_size = 10,\n",
    "    )"
   ]
  },
  {
   "cell_type": "markdown",
   "id": "9adbdf8c",
   "metadata": {},
   "source": [
    "## Hibrid genetski algoritam i VNS koji se primenjuje na najbolju jedniku nakon kraja genetskog:"
   ]
  },
  {
   "cell_type": "code",
   "execution_count": 31,
   "id": "95face6d",
   "metadata": {},
   "outputs": [],
   "source": [
    "def ga_vns_piped(g,num_iters, use_elitism, elitism_size, mutation_prob, tournament_size, population_size):\n",
    "    #init population\n",
    "    population = [Individual(g) for _ in range(population_size)]\n",
    "    new_population = [Individual(g) for _ in range(population_size)]\n",
    "    tmp = []\n",
    "    for _ in range(num_iters):\n",
    "        if use_elitism:\n",
    "            population.sort()\n",
    "            tmp.append(population[0].fitness)\n",
    "            new_population[:elitism_size] = population[:elitism_size]\n",
    "        for i in range(elitism_size, population_size, 2):\n",
    "            #selection\n",
    "            parent1 = selection(population, tournament_size)\n",
    "            parent2 = selection(population, tournament_size, parent1)\n",
    "            \n",
    "            #crossover\n",
    "            new_population[i].code , new_population[i+1].code = crossover(parent1, parent2)\n",
    "            \n",
    "            #mutation\n",
    "            mutation(new_population[i], mutation_prob)\n",
    "            mutation(new_population[i+1], mutation_prob)\n",
    "            \n",
    "            #calc_new_fitnesses\n",
    "            new_population[i].fitness = new_population[i].calc_fitness(g)\n",
    "            new_population[i+1].fitness = new_population[i+1].calc_fitness(g)\n",
    "            \n",
    "            #TODO: vns\n",
    "            rvns(graph,new_population[i], 2, 5, 0.5)\n",
    "            rvns(graph,new_population[i+1], 2, 5, 0.5)\n",
    "            \n",
    "            \n",
    "            #replace_population\n",
    "#         vns(graph,population[0], 7, 30, 0.5)\n",
    "        population[:] = new_population[:]\n",
    "\n",
    "    #find solution\n",
    "    best_individual = min(population)\n",
    "    print(f'best indivudual fitness before another vns: {best_individual.fitness}')\n",
    "    vns(graph, best_individual, 20, 200, 0.5)\n",
    "    tmp.append(best_individual.fitness)\n",
    "    print(f\"code: {best_individual.code}\")\n",
    "    print(f\"fitness: {best_individual.fitness}\")\n",
    "\n",
    "    plt.plot(range(num_iters+1), tmp)\n",
    "    plt.xlabel(\"iterations\",color=\"red\",fontsize=10)\n",
    "    plt.ylabel(\"fitness\",color=\"blue\",fontsize=10)"
   ]
  },
  {
   "cell_type": "code",
   "execution_count": 32,
   "id": "83b5c6a7",
   "metadata": {},
   "outputs": [
    {
     "name": "stdout",
     "output_type": "stream",
     "text": [
      "best indivudual fitness before another vns: 28019.968752626926\n",
      "code: [19, 15, 23, 26, 24, 25, 27, 28, 22, 21, 20, 16, 17, 18, 14, 11, 10, 9, 5, 1, 0, 4, 7, 3, 2, 6, 8, 12, 13]\n",
      "fitness: 28019.968752626926\n"
     ]
    },
    {
     "data": {
      "image/png": "[encoded data removed]",
      "text/plain": [
       "<Figure size 432x288 with 1 Axes>"
      ]
     },
     "metadata": {
      "needs_background": "light"
     },
     "output_type": "display_data"
    }
   ],
   "source": [
    "ga_vns_piped( graph,\n",
    "    num_iters = 20,\n",
    "    use_elitism = True,\n",
    "    population_size = 1000,\n",
    "    elitism_size = 10,\n",
    "    mutation_prob = 0.15,\n",
    "    tournament_size = 10,\n",
    "    )"
   ]
  },
  {
   "cell_type": "markdown",
   "id": "9a3b26f1",
   "metadata": {},
   "source": [
    "## Hibrid genetski algoritam i VNS sa dinamicki promenljivom verovatnocom mutacije:"
   ]
  },
  {
   "cell_type": "code",
   "execution_count": 33,
   "id": "e135a493",
   "metadata": {},
   "outputs": [],
   "source": [
    "def ga_rvns_dynamic_mutation_adjustment(g,num_iters, use_elitism, elitism_size, mutation_prob, tournament_size, population_size):\n",
    "    #init population\n",
    "    population = [Individual(g) for _ in range(population_size)]\n",
    "    new_population = [Individual(g) for _ in range(population_size)]\n",
    "    tmp = []\n",
    "\n",
    "    for j in range(num_iters):\n",
    "        if use_elitism:\n",
    "            population.sort()\n",
    "            tmp.append(population[0])\n",
    "            new_population[:elitism_size] = population[:elitism_size]\n",
    "                        \n",
    "        for i in range(elitism_size, population_size, 2):\n",
    "            #selection\n",
    "            parent1 = selection(population, tournament_size)\n",
    "            parent2 = selection(population, tournament_size, parent1)\n",
    "            \n",
    "            #crossover\n",
    "            new_population[i].code , new_population[i+1].code = crossover(parent1, parent2)\n",
    "            \n",
    "            new_population[i].fitness = new_population[i].calc_fitness(g)\n",
    "            new_population[i+1].fitness = new_population[i+1].calc_fitness(g)\n",
    "            \n",
    "            #mutation\n",
    "            mutation(new_population[i],   mutation_prob - 4000/new_population[i].fitness)\n",
    "            mutation(new_population[i+1], mutation_prob - 4000/new_population[i+1].fitness)\n",
    "            \n",
    "            #calc_new_fitnesses\n",
    "            new_population[i].fitness = new_population[i].calc_fitness(g)\n",
    "            new_population[i+1].fitness = new_population[i+1].calc_fitness(g)\n",
    "            \n",
    "            #TODO: vns\n",
    "            rvns(graph,new_population[i], 2, 5, 0.5)\n",
    "            rvns(graph,new_population[i+1], 2, 5, 0.5)\n",
    "            \n",
    "            \n",
    "            #replace_population\n",
    "        vns(graph,population[0], 3, 15, 0.5)\n",
    "        population[:] = new_population[:]\n",
    "\n",
    "    #find solution\n",
    "    best_individual = min(tmp)\n",
    "    fitnesses = list(map(lambda x: x.fitness, tmp))\n",
    "    print(f\"code: {best_individual.code}\")\n",
    "    print(f\"fitness: {best_individual.fitness}\")\n",
    "\n",
    "    plt.plot(range(num_iters), fitnesses)\n",
    "    plt.xlabel(\"iterations\",color=\"red\",fontsize=10)\n",
    "    plt.ylabel(\"fitness\",color=\"blue\",fontsize=10)\n",
    "    plt.show()\n",
    "    \n",
    "    "
   ]
  },
  {
   "cell_type": "code",
   "execution_count": 34,
   "id": "76fd80b3",
   "metadata": {},
   "outputs": [
    {
     "name": "stdout",
     "output_type": "stream",
     "text": [
      "code: [23, 26, 24, 25, 20, 17, 18, 14, 10, 9, 5, 1, 0, 4, 11, 7, 3, 2, 6, 8, 12, 13, 16, 21, 22, 28, 27, 19, 15]\n",
      "fitness: 30651.14123797178\n"
     ]
    },
    {
     "data": {
      "image/png": "[encoded data removed]",
      "text/plain": [
       "<Figure size 432x288 with 1 Axes>"
      ]
     },
     "metadata": {
      "needs_background": "light"
     },
     "output_type": "display_data"
    }
   ],
   "source": [
    "\n",
    "ga_rvns_dynamic_mutation_adjustment( graph,\n",
    "    num_iters = 20,\n",
    "    use_elitism = True,\n",
    "    population_size = 1000,\n",
    "    elitism_size = 60,\n",
    "    mutation_prob = 0.2,\n",
    "    tournament_size = 20,\n",
    "    )"
   ]
  },
  {
   "cell_type": "code",
   "execution_count": 35,
   "id": "3b2607fa",
   "metadata": {},
   "outputs": [
    {
     "data": {
      "text/plain": [
       "0.10065813982366821"
      ]
     },
     "execution_count": 35,
     "metadata": {},
     "output_type": "execute_result"
    }
   ],
   "source": [
    "0.20 - 4*1000/40265"
   ]
  },
  {
   "cell_type": "markdown",
   "id": "a149cc4a",
   "metadata": {},
   "source": [
    "## Hibrid genetksi algoritam i VNS (manja populacija i broj iteracija zbog velike slozenosti):"
   ]
  },
  {
   "cell_type": "code",
   "execution_count": 36,
   "id": "a05ab4aa",
   "metadata": {},
   "outputs": [],
   "source": [
    "def ga_vns(g,num_iters, use_elitism, elitism_size, mutation_prob, tournament_size, population_size):\n",
    "    #init population\n",
    "    population = [Individual(g) for _ in range(population_size)]\n",
    "    new_population = [Individual(g) for _ in range(population_size)]\n",
    "    tmp = []\n",
    "    for _ in range(num_iters):\n",
    "        if use_elitism:\n",
    "            population.sort()\n",
    "            tmp.append(population[0].fitness)\n",
    "            new_population[:elitism_size] = population[:elitism_size]\n",
    "        for i in range(elitism_size, population_size, 2):\n",
    "            #selection\n",
    "            parent1 = selection(population, tournament_size)\n",
    "            parent2 = selection(population, tournament_size, parent1)\n",
    "            \n",
    "            #crossover\n",
    "            new_population[i].code , new_population[i+1].code = crossover(parent1, parent2)\n",
    "            \n",
    "            #mutation\n",
    "            mutation(new_population[i], mutation_prob)\n",
    "            mutation(new_population[i+1], mutation_prob)\n",
    "            \n",
    "            #calc_new_fitnesses\n",
    "            new_population[i].fitness = new_population[i].calc_fitness(g)\n",
    "            new_population[i+1].fitness = new_population[i+1].calc_fitness(g)\n",
    "            \n",
    "            #TODO: vns\n",
    "            vns(graph,new_population[i], 2, 5, 0.5)\n",
    "            vns(graph,new_population[i+1], 2, 5, 0.5)\n",
    "            \n",
    "            \n",
    "            #replace_population\n",
    "        vns(graph,population[0], 3, 15, 0.5)\n",
    "        population[:] = new_population[:]\n",
    "\n",
    "    #find solution\n",
    "    best_individual = min(population)\n",
    "    print(tmp)\n",
    "    print(f\"code: {best_individual.code}\")\n",
    "    print(f\"fitness: {best_individual.fitness}\")\n",
    "\n",
    "    plt.plot(range(num_iters), tmp)\n",
    "    plt.xlabel(\"iterations\",color=\"red\",fontsize=10)\n",
    "    plt.ylabel(\"fitness\",color=\"blue\",fontsize=10)\n",
    "    "
   ]
  },
  {
   "cell_type": "code",
   "execution_count": 37,
   "id": "92ffbc41",
   "metadata": {},
   "outputs": [
    {
     "name": "stdout",
     "output_type": "stream",
     "text": [
      "[81022.92553891256, 62260.45490590024, 55268.779865090524, 49610.16908499279, 44319.276167171905, 41601.22144959423, 39820.43739978208, 38971.26451609818, 38969.14296043748, 38492.994899929945]\n",
      "code: [19, 15, 23, 24, 26, 25, 27, 7, 4, 0, 1, 5, 11, 18, 21, 22, 28, 20, 16, 13, 12, 8, 6, 2, 3, 9, 10, 14, 17]\n",
      "fitness: 38473.390545201626\n"
     ]
    },
    {
     "data": {
      "image/png": "[encoded data removed]",
      "text/plain": [
       "<Figure size 432x288 with 1 Axes>"
      ]
     },
     "metadata": {
      "needs_background": "light"
     },
     "output_type": "display_data"
    }
   ],
   "source": [
    "ga_vns( graph,\n",
    "    num_iters = 10,\n",
    "    use_elitism = True,\n",
    "    population_size = 100,\n",
    "    elitism_size = 16,\n",
    "    mutation_prob = 0.15,\n",
    "    tournament_size = 10,\n",
    "    )"
   ]
  },
  {
   "cell_type": "markdown",
   "id": "22bc3099",
   "metadata": {},
   "source": [
    "# Hibrid ga + vns + dinamicka mutacija (povezana sa brojem iteracije)"
   ]
  },
  {
   "cell_type": "code",
   "execution_count": 38,
   "id": "d2eacb12",
   "metadata": {},
   "outputs": [],
   "source": [
    "def ga_rvns_dynamic_iteration_depandent_mutation(g,num_iters, use_elitism, elitism_size, tournament_size, population_size):\n",
    "    #init population\n",
    "    population = [Individual(g) for _ in range(population_size)]\n",
    "    new_population = [Individual(g) for _ in range(population_size)]\n",
    "    tmp = []\n",
    "\n",
    "    for j in range(1,num_iters+1):\n",
    "        if use_elitism:\n",
    "            population.sort()\n",
    "            tmp.append(population[0])\n",
    "            new_population[:elitism_size] = population[:elitism_size]\n",
    "                        \n",
    "        for i in range(elitism_size, population_size, 2):\n",
    "            #selection\n",
    "            parent1 = selection(population, tournament_size)\n",
    "            parent2 = selection(population, tournament_size, parent1)\n",
    "            \n",
    "            #crossover\n",
    "            new_population[i].code , new_population[i+1].code = crossover(parent1, parent2)\n",
    "            \n",
    "            new_population[i].fitness = new_population[i].calc_fitness(g)\n",
    "            new_population[i+1].fitness = new_population[i+1].calc_fitness(g)\n",
    "            \n",
    "            #mutation\n",
    "            mutation(new_population[i],  1/j)\n",
    "            mutation(new_population[i+1],1/j)\n",
    "            \n",
    "            #calc_new_fitnesses\n",
    "            new_population[i].fitness = new_population[i].calc_fitness(g)\n",
    "            new_population[i+1].fitness = new_population[i+1].calc_fitness(g)\n",
    "            \n",
    "            #TODO: vns\n",
    "            rvns(graph,new_population[i], 2, 5, 0.5)\n",
    "            rvns(graph,new_population[i+1], 2, 5, 0.5)\n",
    "            \n",
    "            \n",
    "            #replace_population\n",
    "        vns(graph,population[0], 3, 15, 0.5)\n",
    "        population[:] = new_population[:]\n",
    "\n",
    "    #find solution\n",
    "    best_individual = min(tmp)\n",
    "    fitnesses = list(map(lambda x: x.fitness, tmp))\n",
    "    print(f\"code: {best_individual.code}\")\n",
    "    print(f\"fitness: {best_individual.fitness}\")\n",
    "\n",
    "    plt.plot(range(num_iters), fitnesses)\n",
    "    plt.xlabel(\"iterations\",color=\"red\",fontsize=10)\n",
    "    plt.ylabel(\"fitness\",color=\"blue\",fontsize=10)\n",
    "    plt.show()"
   ]
  },
  {
   "cell_type": "code",
   "execution_count": 39,
   "id": "47b1c30c",
   "metadata": {},
   "outputs": [
    {
     "name": "stdout",
     "output_type": "stream",
     "text": [
      "code: [26, 23, 15, 19, 17, 18, 21, 22, 20, 28, 27, 16, 13, 12, 8, 6, 2, 3, 7, 11, 4, 0, 1, 5, 9, 10, 14, 25, 24]\n",
      "fitness: 32722.1505981324\n"
     ]
    },
    {
     "data": {
      "image/png": "[encoded data removed]",
      "text/plain": [
       "<Figure size 432x288 with 1 Axes>"
      ]
     },
     "metadata": {
      "needs_background": "light"
     },
     "output_type": "display_data"
    }
   ],
   "source": [
    "ga_rvns_dynamic_iteration_depandent_mutation( graph,\n",
    "    num_iters = 20,\n",
    "    use_elitism = True,\n",
    "    population_size = 1000,\n",
    "    elitism_size = 60,\n",
    "    tournament_size = 20,\n",
    "    )"
   ]
  },
  {
   "cell_type": "code",
   "execution_count": null,
   "id": "8082dcfd",
   "metadata": {},
   "outputs": [],
   "source": []
  }
 ],
 "metadata": {
  "kernelspec": {
   "display_name": "Python 3 (ipykernel)",
   "language": "python",
   "name": "python3"
  },
  "language_info": {
   "codemirror_mode": {
    "name": "ipython",
    "version": 3
   },
   "file_extension": ".py",
   "mimetype": "text/x-python",
   "name": "python",
   "nbconvert_exporter": "python",
   "pygments_lexer": "ipython3",
   "version": "3.9.7"
  }
 },
 "nbformat": 4,
 "nbformat_minor": 5
}
