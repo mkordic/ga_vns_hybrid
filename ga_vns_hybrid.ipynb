{
 "cells": [
  {
   "cell_type": "code",
   "execution_count": 1,
   "id": "6cb75926",
   "metadata": {},
   "outputs": [],
   "source": [
    "import networkx as nx\n",
    "import math\n",
    "import random\n",
    "import numpy as np\n",
    "from copy import deepcopy \n",
    "from matplotlib import pyplot as plt"
   ]
  },
  {
   "cell_type": "code",
   "execution_count": 2,
   "id": "3193f293",
   "metadata": {},
   "outputs": [],
   "source": [
    "def euclidean_distance(a_x, a_y, b_x, b_y):\n",
    "    return math.sqrt((a_x - b_x)**2 + (a_y - b_y)**2)"
   ]
  },
  {
   "cell_type": "code",
   "execution_count": 3,
   "id": "eb4dbd91",
   "metadata": {},
   "outputs": [],
   "source": [
    "def read_graph(file_path):\n",
    "    with open(file_path) as f:\n",
    "        g = nx.Graph()\n",
    "        for line in f:\n",
    "            if not line[0].isdigit():\n",
    "                continue\n",
    "            node, x, y = line.split()\n",
    "            node = int(node) - 1\n",
    "            x = float(x)\n",
    "            y = float(y)\n",
    "            g.add_node(node, x=x, y=y)\n",
    "        \n",
    "        for u in g.nodes:\n",
    "            for v in range(u + 1, len(g.nodes)):\n",
    "                g.add_edge(u, v,\n",
    "                           distance=euclidean_distance(g.nodes[u]['x'],\n",
    "                                                        g.nodes[u]['y'],\n",
    "                                                        g.nodes[v]['x'],\n",
    "                                                        g.nodes[v]['y']))\n",
    "        \n",
    "        return g"
   ]
  },
  {
   "cell_type": "code",
   "execution_count": 4,
   "id": "6ce61a2c",
   "metadata": {},
   "outputs": [],
   "source": [
    "graph = read_graph(\"dj38.tsp\")"
   ]
  },
  {
   "cell_type": "code",
   "execution_count": 5,
   "id": "3e7ba8a8",
   "metadata": {},
   "outputs": [
    {
     "data": {
      "text/plain": [
       "290.99301545433866"
      ]
     },
     "execution_count": 5,
     "metadata": {},
     "output_type": "execute_result"
    }
   ],
   "source": [
    "graph[0][1][\"distance\"]"
   ]
  },
  {
   "cell_type": "code",
   "execution_count": 6,
   "id": "e558e1eb",
   "metadata": {},
   "outputs": [
    {
     "data": {
      "text/plain": [
       "NodeView((0, 1, 2, 3, 4, 5, 6, 7, 8, 9, 10, 11, 12, 13, 14, 15, 16, 17, 18, 19, 20, 21, 22, 23, 24, 25, 26, 27, 28, 29, 30, 31, 32, 33, 34, 35, 36, 37))"
      ]
     },
     "execution_count": 6,
     "metadata": {},
     "output_type": "execute_result"
    }
   ],
   "source": [
    "graph.nodes"
   ]
  },
  {
   "cell_type": "code",
   "execution_count": 7,
   "id": "e7762820",
   "metadata": {},
   "outputs": [],
   "source": [
    "def foo(path, g):\n",
    "    length = 0\n",
    "    for node in range(len(path) - 1):\n",
    "        length += g[node][node + 1][\"distance\"]\n",
    "        print(node, node + 1, g[node][node+1][\"distance\"])\n",
    "    length += g[path[len(path)-1]][path[0]][\"distance\"]\n",
    "    return length"
   ]
  },
  {
   "cell_type": "code",
   "execution_count": 8,
   "id": "cb03b7cd",
   "metadata": {},
   "outputs": [
    {
     "name": "stdout",
     "output_type": "stream",
     "text": [
      "0 1 290.99301545433866\n",
      "1 2 512.5409796925513\n",
      "2 3 174.78753642319424\n",
      "3 4 222.53897723520097\n",
      "4 5 139.40600915631273\n",
      "5 6 77.17623802732474\n",
      "6 7 119.25859124784168\n",
      "7 8 18.419453115936257\n",
      "8 9 943.1662130201299\n",
      "9 10 1195.7725623479646\n",
      "10 11 69.96477879341072\n",
      "11 12 332.40537704940243\n",
      "12 13 748.9352631784059\n",
      "13 14 735.6352723796917\n",
      "14 15 298.4814404450145\n",
      "15 16 19.2530109878937\n",
      "16 17 11.827619382191655\n",
      "17 18 5.36476386805619\n",
      "18 19 472.0996331075131\n",
      "19 20 850.9311316485309\n",
      "20 21 978.969135908649\n",
      "21 22 163.62644159453566\n",
      "22 23 232.983368505136\n",
      "23 24 214.14231340136712\n",
      "24 25 27.46762887127465\n",
      "25 26 640.610498482065\n",
      "26 27 264.63350804508644\n",
      "27 28 834.9219871925422\n"
     ]
    },
    {
     "data": {
      "text/plain": [
       "11655.132026750336"
      ]
     },
     "execution_count": 8,
     "metadata": {},
     "output_type": "execute_result"
    }
   ],
   "source": [
    "foo([0, 1, 2, 3, 4, 5, 6, 7, 8, 9, 10, 11, 12, 13, 14, 15, 16, 17, 18, 19, 20, 21, 22, 23, 24, 25, 26, 27, 28], graph)"
   ]
  },
  {
   "cell_type": "code",
   "execution_count": 9,
   "id": "86dd5281",
   "metadata": {},
   "outputs": [],
   "source": [
    "# kodiranje\n",
    "# fitness\n",
    "# ukrstanje\n",
    "# selekcija\n",
    "# mutacija"
   ]
  },
  {
   "cell_type": "code",
   "execution_count": 10,
   "id": "d51e6503",
   "metadata": {},
   "outputs": [],
   "source": [
    "class Individual:\n",
    "    def __init__(self, g):\n",
    "        num_cities = len(g.nodes)\n",
    "        self.code = np.random.permutation(num_cities).tolist()\n",
    "        self.fitness = self.calc_fitness(g)\n",
    "        \n",
    "        \n",
    "    def calc_fitness(self,g):\n",
    "        length = 0\n",
    "        n = len(self.code)\n",
    "        for i in range(n-1):\n",
    "            length += g[self.code[i]][self.code[i+1]][\"distance\"]\n",
    "        length += g[self.code[-1]][self.code[0]][\"distance\"]\n",
    "        return length\n",
    "    \n",
    "    def __lt__(self, other):\n",
    "        return self.fitness < other.fitness"
   ]
  },
  {
   "cell_type": "code",
   "execution_count": 11,
   "id": "2b7ba4e1",
   "metadata": {},
   "outputs": [],
   "source": [
    "i = Individual(graph)"
   ]
  },
  {
   "cell_type": "code",
   "execution_count": 12,
   "id": "59e97022",
   "metadata": {},
   "outputs": [
    {
     "data": {
      "text/plain": [
       "28588.990189964316"
      ]
     },
     "execution_count": 12,
     "metadata": {},
     "output_type": "execute_result"
    }
   ],
   "source": [
    "i.fitness"
   ]
  },
  {
   "cell_type": "code",
   "execution_count": 13,
   "id": "ef58897d",
   "metadata": {},
   "outputs": [
    {
     "data": {
      "text/plain": [
       "834.9219871925422"
      ]
     },
     "execution_count": 13,
     "metadata": {},
     "output_type": "execute_result"
    }
   ],
   "source": [
    "graph[27][28][\"distance\"]"
   ]
  },
  {
   "cell_type": "code",
   "execution_count": 14,
   "id": "8dcb449d",
   "metadata": {},
   "outputs": [
    {
     "data": {
      "text/plain": [
       "38"
      ]
     },
     "execution_count": 14,
     "metadata": {},
     "output_type": "execute_result"
    }
   ],
   "source": [
    "len(i.code)"
   ]
  },
  {
   "cell_type": "code",
   "execution_count": 15,
   "id": "644df15e",
   "metadata": {},
   "outputs": [],
   "source": [
    "#for now, tournament selection\n",
    "def selection(population, tournament_size,forbidden=None):\n",
    "    allowed = list(set(range(len(population))).difference({forbidden}))\n",
    "    chosen_indices = random.sample(allowed, tournament_size)\n",
    "    best_fitness = float('inf')\n",
    "    winner = None\n",
    "    winner_idx = None\n",
    "    for index in chosen_indices:\n",
    "        if best_fitness > population[index].fitness:\n",
    "            winner = population[index]\n",
    "            winner_idx = index\n",
    "            best_fitness = winner.fitness\n",
    "    return winner,winner_idx"
   ]
  },
  {
   "cell_type": "code",
   "execution_count": 16,
   "id": "b804fb49",
   "metadata": {},
   "outputs": [],
   "source": [
    "def crossover(parent1, parent2):\n",
    "    \n",
    "    n = len(parent1.code)\n",
    "    child1 = []\n",
    "    child2 = []\n",
    "    \n",
    "    breakpoint = random.randrange(n)\n",
    "    \n",
    "    child1.extend(parent1.code[:breakpoint])\n",
    "    child2.extend(parent2.code[:breakpoint])\n",
    "    \n",
    "    for city in parent2.code:\n",
    "        if city not in child1:\n",
    "            child1.append(city)\n",
    "    for city in parent1.code:\n",
    "        if city not in child2:\n",
    "            child2.append(city)\n",
    "            \n",
    "    return child1, child2"
   ]
  },
  {
   "cell_type": "code",
   "execution_count": 17,
   "id": "379ed919",
   "metadata": {},
   "outputs": [],
   "source": [
    "def mutation(child, mutation_prob):\n",
    "    \n",
    "    p = random.random()\n",
    "\n",
    "    if p <= mutation_prob:\n",
    "        n = len(child.code)\n",
    "        random_index1 = random.randrange(n)\n",
    "        allowed = list(set(range(n)).difference({random_index1}))\n",
    "        random_index2 = random.choice(allowed)\n",
    "        child.code[random_index1], child.code[random_index2] = child.code[random_index2], child.code[random_index1]\n",
    "    "
   ]
  },
  {
   "cell_type": "code",
   "execution_count": 18,
   "id": "44b6bb1b",
   "metadata": {},
   "outputs": [],
   "source": [
    "def local_search(graph,solution_after_shaking):\n",
    "    n = len(solution_after_shaking.code)\n",
    "    swaps=[]\n",
    "    for i in range(n-1):\n",
    "        for j in range(i+1,n):\n",
    "            swaps.append((i,j))\n",
    "    new_solution = Individual(graph)\n",
    "    for i,j in swaps:\n",
    "        new_solution.code[i], new_solution.code[j] = new_solution.code[j], new_solution.code[i]\n",
    "        new_solution.fitness = new_solution.calc_fitness(graph)\n",
    "        if new_solution.fitness < solution_after_shaking.fitness:\n",
    "            solution_after_shaking.code[:] = new_solution.code[:]\n",
    "            solution_after_shaking.fitness = new_solution.fitness\n",
    "        "
   ]
  },
  {
   "cell_type": "code",
   "execution_count": 19,
   "id": "37919ad8",
   "metadata": {},
   "outputs": [],
   "source": [
    "def shaking(solution, k):\n",
    "    n = len(solution.code)\n",
    "    new_solution = deepcopy(solution)\n",
    "    for _ in range(k):\n",
    "        i, j = random.sample(range(n), 2)\n",
    "        new_solution.code[i], new_solution.code[j] = new_solution.code[j], new_solution.code[i]\n",
    "    \n",
    "    return new_solution\n",
    "        "
   ]
  },
  {
   "cell_type": "code",
   "execution_count": 20,
   "id": "34161374",
   "metadata": {},
   "outputs": [],
   "source": [
    "def vns(graph,individual, max_k, max_iter, move_prob):\n",
    "    \n",
    "    solution = deepcopy(individual)\n",
    "    value = individual.fitness\n",
    "    \n",
    "    for i in range(max_iter):\n",
    "        for k in range(max_k):\n",
    "            new_solution = shaking(solution, k)\n",
    "            local_search(graph,new_solution)\n",
    "            \n",
    "            new_solution.fitness = new_solution.calc_fitness(graph)\n",
    "            new_value = new_solution.fitness\n",
    "            if new_value < value or (new_value == value and random.random() < move_prob):\n",
    "                value = new_value\n",
    "                solution = deepcopy(new_solution)\n",
    "        \n",
    "    individual.code[:] = solution.code[:]\n",
    "    individual.fitness = value"
   ]
  },
  {
   "cell_type": "code",
   "execution_count": 21,
   "id": "06a901c2",
   "metadata": {},
   "outputs": [],
   "source": [
    "def vns_benchmark_version(graph,individual, max_k, max_iter, move_prob):\n",
    "    \n",
    "    solution = deepcopy(individual)\n",
    "    value = individual.fitness\n",
    "    tmp = []\n",
    "    \n",
    "    for i in range(max_iter):\n",
    "        tmp.append(solution.fitness)\n",
    "        for k in range(max_k):\n",
    "            new_solution = shaking(solution, k)\n",
    "            local_search(graph,new_solution)\n",
    "            \n",
    "            new_solution.fitness = new_solution.calc_fitness(graph)\n",
    "            new_value = new_solution.fitness\n",
    "            if new_value < value or (new_value == value and random.random() < move_prob):\n",
    "                value = new_value\n",
    "                solution = deepcopy(new_solution)\n",
    "    \n",
    "    plt.plot(range(max_iter), tmp)\n",
    "    plt.xlabel(\"iterations\",color=\"red\",fontsize=10)\n",
    "    plt.ylabel(\"fitness\",color=\"blue\",fontsize=10)\n",
    "    \n",
    "    individual.code[:] = solution.code[:]\n",
    "    individual.fitness = value"
   ]
  },
  {
   "cell_type": "code",
   "execution_count": 22,
   "id": "4f2c3d95",
   "metadata": {},
   "outputs": [],
   "source": [
    "def rvns(graph,individual, max_k, max_iter, move_prob):\n",
    "    \n",
    "    solution = deepcopy(individual)\n",
    "    value = individual.fitness\n",
    "    \n",
    "    for i in range(max_iter):\n",
    "        for k in range(max_k):\n",
    "            new_solution = shaking(solution, k)\n",
    "            \n",
    "            new_solution.fitness = new_solution.calc_fitness(graph)\n",
    "            new_value = new_solution.fitness\n",
    "            if new_value < value or (new_value == value and random.random() < move_prob):\n",
    "                value = new_value\n",
    "                solution = deepcopy(new_solution)\n",
    "        \n",
    "    individual.code[:] = solution.code[:]\n",
    "    individual.fitness = value"
   ]
  },
  {
   "cell_type": "markdown",
   "id": "f5c4b0aa",
   "metadata": {},
   "source": [
    "## Pretraga uz pomoc VNS-a:"
   ]
  },
  {
   "cell_type": "code",
   "execution_count": 23,
   "id": "d4fd7452",
   "metadata": {},
   "outputs": [
    {
     "name": "stdout",
     "output_type": "stream",
     "text": [
      "[17, 19, 16, 28, 23, 9, 0, 34, 3, 1, 37, 36, 26, 32, 8, 15, 7, 21, 18, 24, 31, 33, 25, 29, 27, 35, 2, 4, 22, 12, 5, 13, 14, 11, 6, 20, 30, 10]\n",
      "24714.00119591673\n",
      "\n",
      "[33, 26, 11, 6, 14, 19, 24, 25, 21, 22, 31, 13, 29, 23, 27, 17, 10, 16, 15, 2, 8, 7, 4, 5, 18, 28, 34, 32, 36, 1, 3, 12, 0, 20, 9, 30, 35, 37]\n",
      "16482.75021078178\n"
     ]
    },
    {
     "data": {
      "image/png": "[encoded data removed]",
      "text/plain": [
       "<Figure size 432x288 with 1 Axes>"
      ]
     },
     "metadata": {
      "needs_background": "light"
     },
     "output_type": "display_data"
    }
   ],
   "source": [
    "i1 = Individual(graph)\n",
    "# i1.code = [8, 6, 3, 4, 0, 1, 5, 7, 12, 14, 17, 20, 25, 15, 13, 10, 9, 11, 18, 21, 22, 28, 19, 23, 26, 24, 27, 16, 2]\n",
    "# i1.fitness = i1.calc_fitness(graph)\n",
    "print(i1.code)\n",
    "print(i1.fitness)\n",
    "print()\n",
    "vns_benchmark_version(graph,i1, 10, 100, 0.5)\n",
    "print(i1.code)\n",
    "print(i1.fitness)\n"
   ]
  },
  {
   "cell_type": "markdown",
   "id": "df360f2d",
   "metadata": {},
   "source": [
    "## Genetski algoritam osnovna verzija:"
   ]
  },
  {
   "cell_type": "code",
   "execution_count": 24,
   "id": "fc233a6d",
   "metadata": {},
   "outputs": [],
   "source": [
    "def ga(g,num_iters, use_elitism, elitism_size, mutation_prob, tournament_size, population_size):\n",
    "    #init population\n",
    "    population = [Individual(g) for _ in range(population_size)]\n",
    "    new_population = [Individual(g) for _ in range(population_size)]\n",
    "    tmp = []\n",
    "    if not use_elitism:\n",
    "        elitism_size = 0\n",
    "        \n",
    "    for _ in range(num_iters):\n",
    "        if use_elitism:\n",
    "            population.sort()\n",
    "            tmp.append(population[0].fitness)\n",
    "            new_population[:elitism_size] = population[:elitism_size]\n",
    "        else:\n",
    "            current_best_fitness = min(population).fitness\n",
    "            tmp.append(current_best)\n",
    "            \n",
    "        for i in range(elitism_size, population_size, 2):\n",
    "            #selection\n",
    "            parent1, parent1_idx = selection(population, tournament_size)\n",
    "            parent2, _ = selection(population, tournament_size, parent1_idx)\n",
    "            \n",
    "            #crossover\n",
    "            new_population[i].code , new_population[i+1].code = crossover(parent1, parent2)\n",
    "            \n",
    "            #mutation\n",
    "            mutation(new_population[i], mutation_prob)\n",
    "            mutation(new_population[i+1], mutation_prob)\n",
    "            \n",
    "            #calc_new_fitnesses\n",
    "            new_population[i].fitness = new_population[i].calc_fitness(g)\n",
    "            new_population[i+1].fitness = new_population[i+1].calc_fitness(g)\n",
    "            \n",
    "            \n",
    "        #replace_population\n",
    "        population[:] = new_population[:]\n",
    "\n",
    "    #find solution\n",
    "    best_individual = min(population)\n",
    "    tmp.append(best_individual.fitness)\n",
    "    print(f\"code: {best_individual.code}\")\n",
    "    print(f\"fitness: {best_individual.fitness}\")\n",
    "    \n",
    "    #graph\n",
    "    plt.plot(range(num_iters+1), tmp)\n",
    "    plt.xlabel(\"iterations\",color=\"red\",fontsize=10)\n",
    "    plt.ylabel(\"fitness\",color=\"blue\",fontsize=10)\n",
    "    plt.show()\n",
    "    "
   ]
  },
  {
   "cell_type": "code",
   "execution_count": 25,
   "id": "a78f24bd",
   "metadata": {},
   "outputs": [
    {
     "name": "stdout",
     "output_type": "stream",
     "text": [
      "code: [30, 32, 33, 35, 37, 36, 34, 31, 25, 24, 22, 14, 12, 6, 4, 2, 3, 5, 7, 8, 11, 10, 16, 15, 23, 21, 19, 1, 0, 9, 13, 20, 28, 29, 27, 17, 18, 26]\n",
      "fitness: 8753.260556485928\n"
     ]
    },
    {
     "data": {
      "image/png": "[encoded data removed]",
      "text/plain": [
       "<Figure size 432x288 with 1 Axes>"
      ]
     },
     "metadata": {
      "needs_background": "light"
     },
     "output_type": "display_data"
    }
   ],
   "source": [
    "ga( graph,\n",
    "    num_iters = 20,\n",
    "    use_elitism = True,\n",
    "    population_size = 1000,\n",
    "    elitism_size = 10,\n",
    "    mutation_prob = 0.15,\n",
    "    tournament_size = 10,\n",
    "    )"
   ]
  },
  {
   "cell_type": "markdown",
   "id": "febc892c",
   "metadata": {},
   "source": [
    "## Hibrid genetski algoritam i redukovani vns:"
   ]
  },
  {
   "cell_type": "code",
   "execution_count": 26,
   "id": "97fe9e42",
   "metadata": {},
   "outputs": [],
   "source": [
    "def ga_rvns(g,num_iters, use_elitism, elitism_size, mutation_prob, tournament_size, population_size):\n",
    "    #init population\n",
    "    population = [Individual(g) for _ in range(population_size)]\n",
    "    new_population = [Individual(g) for _ in range(population_size)]\n",
    "    tmp = []\n",
    "    if not use_elitism:\n",
    "        elitism_size = 0\n",
    "        \n",
    "    for _ in range(num_iters):\n",
    "        if use_elitism:\n",
    "            population.sort()\n",
    "            tmp.append(population[0].fitness)\n",
    "            new_population[:elitism_size] = population[:elitism_size]\n",
    "        else:\n",
    "            current_best_fitness = min(population).fitness\n",
    "            tmp.append(current_best_fitness)\n",
    "            \n",
    "        for i in range(elitism_size, population_size, 2):\n",
    "            #selection\n",
    "            parent1, parent1_idx = selection(population, tournament_size)\n",
    "            parent2, _ = selection(population, tournament_size, parent1_idx)\n",
    "            \n",
    "            #crossover\n",
    "            new_population[i].code , new_population[i+1].code = crossover(parent1, parent2)\n",
    "            \n",
    "            #mutation\n",
    "            mutation(new_population[i], mutation_prob)\n",
    "            mutation(new_population[i+1], mutation_prob)\n",
    "            \n",
    "            #calc_new_fitnesses\n",
    "            new_population[i].fitness = new_population[i].calc_fitness(g)\n",
    "            new_population[i+1].fitness = new_population[i+1].calc_fitness(g)\n",
    "            \n",
    "            #vns\n",
    "            rvns(graph,new_population[i], 2, 5, 0.5)\n",
    "            rvns(graph,new_population[i+1], 2, 5, 0.5)\n",
    "            \n",
    "            \n",
    "        #replace_population\n",
    "        rvns(graph,population[0], 3, 15, 0.5)\n",
    "        population[:] = new_population[:]\n",
    "\n",
    "    #find solution\n",
    "    best_individual = min(population)\n",
    "    tmp.append(best_individual.fitness)\n",
    "    print(f\"code: {best_individual.code}\")\n",
    "    print(f\"fitness: {best_individual.fitness}\")\n",
    "\n",
    "    plt.plot(range(num_iters+1), tmp)\n",
    "    plt.xlabel(\"iterations\",color=\"red\",fontsize=10)\n",
    "    plt.ylabel(\"fitness\",color=\"blue\",fontsize=10)\n",
    "    "
   ]
  },
  {
   "cell_type": "code",
   "execution_count": 27,
   "id": "b523f3bd",
   "metadata": {
    "scrolled": true
   },
   "outputs": [
    {
     "name": "stdout",
     "output_type": "stream",
     "text": [
      "code: [36, 34, 31, 29, 28, 25, 24, 22, 19, 21, 23, 14, 12, 8, 7, 6, 5, 4, 2, 3, 1, 0, 9, 20, 13, 11, 10, 15, 16, 17, 18, 27, 26, 30, 35, 33, 32, 37]\n",
      "fitness: 7845.235407530119\n"
     ]
    },
    {
     "data": {
      "image/png": "[encoded data removed]",
      "text/plain": [
       "<Figure size 432x288 with 1 Axes>"
      ]
     },
     "metadata": {
      "needs_background": "light"
     },
     "output_type": "display_data"
    }
   ],
   "source": [
    "ga_rvns( graph,\n",
    "    num_iters = 20,\n",
    "    use_elitism = True,\n",
    "    population_size = 1000,\n",
    "    elitism_size = 10,\n",
    "    mutation_prob = 0.15,\n",
    "    tournament_size = 10,\n",
    "    )"
   ]
  },
  {
   "cell_type": "markdown",
   "id": "64867c75",
   "metadata": {},
   "source": [
    "## Hibrid genetski algoritam i VNS koji se primenjuje samo na najbolju jedinku u generaciji:"
   ]
  },
  {
   "cell_type": "code",
   "execution_count": 28,
   "id": "91b42055",
   "metadata": {},
   "outputs": [],
   "source": [
    "def ga_vns_best_only(g,num_iters, use_elitism, elitism_size, mutation_prob, tournament_size, population_size):\n",
    "    #init population\n",
    "    population = [Individual(g) for _ in range(population_size)]\n",
    "    new_population = [Individual(g) for _ in range(population_size)]\n",
    "    tmp = []\n",
    "    if not use_elitism:\n",
    "        elitism_size = 0\n",
    "        \n",
    "    for _ in range(num_iters):\n",
    "        if use_elitism:\n",
    "            population.sort()\n",
    "            tmp.append(population[0].fitness)\n",
    "            new_population[:elitism_size] = population[:elitism_size]\n",
    "        else:\n",
    "            current_best_fitness = min(population).fitness\n",
    "            tmp.append(current_best_fitness)\n",
    "            \n",
    "        for i in range(elitism_size, population_size, 2):\n",
    "            #selection\n",
    "            parent1, parent1_idx = selection(population, tournament_size)\n",
    "            parent2, _ = selection(population, tournament_size, parent1_idx)\n",
    "            \n",
    "            #crossover\n",
    "            new_population[i].code , new_population[i+1].code = crossover(parent1, parent2)\n",
    "            \n",
    "            #mutation\n",
    "            mutation(new_population[i], mutation_prob)\n",
    "            mutation(new_population[i+1], mutation_prob)\n",
    "            \n",
    "            #calc_new_fitnesses\n",
    "            new_population[i].fitness = new_population[i].calc_fitness(g)\n",
    "            new_population[i+1].fitness = new_population[i+1].calc_fitness(g)\n",
    "                        \n",
    "        #replace_population\n",
    "        vns(graph,population[0], 7, 30, 0.5)\n",
    "        population[:] = new_population[:]\n",
    "\n",
    "    #find solution\n",
    "    best_individual = min(population)\n",
    "    tmp.append(best_individual.fitness)\n",
    "    print(f\"code: {best_individual.code}\")\n",
    "    print(f\"fitness: {best_individual.fitness}\")\n",
    "\n",
    "    plt.plot(range(num_iters+1), tmp)\n",
    "    plt.xlabel(\"iterations\",color=\"red\",fontsize=10)\n",
    "    plt.ylabel(\"fitness\",color=\"blue\",fontsize=10)\n",
    "    "
   ]
  },
  {
   "cell_type": "code",
   "execution_count": 29,
   "id": "869bfbe4",
   "metadata": {},
   "outputs": [
    {
     "name": "stdout",
     "output_type": "stream",
     "text": [
      "code: [14, 12, 2, 4, 6, 8, 11, 10, 16, 17, 7, 5, 3, 1, 0, 9, 13, 20, 28, 31, 37, 36, 34, 29, 25, 24, 22, 27, 32, 33, 35, 30, 26, 18, 15, 23, 21, 19]\n",
      "fitness: 8589.001681548223\n"
     ]
    },
    {
     "data": {
      "image/png": "[encoded data removed]",
      "text/plain": [
       "<Figure size 432x288 with 1 Axes>"
      ]
     },
     "metadata": {
      "needs_background": "light"
     },
     "output_type": "display_data"
    }
   ],
   "source": [
    "ga_vns_best_only( graph,\n",
    "    num_iters = 20,\n",
    "    use_elitism = True,\n",
    "    population_size = 1000,\n",
    "    elitism_size = 10,\n",
    "    mutation_prob = 0.15,\n",
    "    tournament_size = 10,\n",
    "    )"
   ]
  },
  {
   "cell_type": "markdown",
   "id": "9adbdf8c",
   "metadata": {},
   "source": [
    "## Hibrid genetski algoritam i VNS koji se primenjuje na najbolju jedniku nakon kraja genetskog:"
   ]
  },
  {
   "cell_type": "code",
   "execution_count": 30,
   "id": "95face6d",
   "metadata": {},
   "outputs": [],
   "source": [
    "def ga_vns_piped(g,num_iters, use_elitism, elitism_size, mutation_prob, tournament_size, population_size):\n",
    "    #init population\n",
    "    population = [Individual(g) for _ in range(population_size)]\n",
    "    new_population = [Individual(g) for _ in range(population_size)]\n",
    "    tmp = []\n",
    "    if not use_elitism:\n",
    "        elitism_size = 0\n",
    "        \n",
    "    for _ in range(num_iters):\n",
    "        if use_elitism:\n",
    "            population.sort()\n",
    "            tmp.append(population[0].fitness)\n",
    "            new_population[:elitism_size] = population[:elitism_size]\n",
    "        else:\n",
    "            current_best_fitness = min(population).fitness\n",
    "            tmp.append(current_best_fitness)\n",
    "            \n",
    "        for i in range(elitism_size, population_size, 2):\n",
    "            #selection\n",
    "            parent1, parent1_idx = selection(population, tournament_size)\n",
    "            parent2, _ = selection(population, tournament_size, parent1_idx)\n",
    "            \n",
    "            #crossover\n",
    "            new_population[i].code , new_population[i+1].code = crossover(parent1, parent2)\n",
    "            \n",
    "            #mutation\n",
    "            mutation(new_population[i], mutation_prob)\n",
    "            mutation(new_population[i+1], mutation_prob)\n",
    "            \n",
    "            #calc_new_fitnesses\n",
    "            new_population[i].fitness = new_population[i].calc_fitness(g)\n",
    "            new_population[i+1].fitness = new_population[i+1].calc_fitness(g)\n",
    "            \n",
    "            #vns\n",
    "            rvns(graph,new_population[i], 2, 5, 0.5)\n",
    "            rvns(graph,new_population[i+1], 2, 5, 0.5)\n",
    "            \n",
    "            \n",
    "        #replace_population\n",
    "        population[:] = new_population[:]\n",
    "\n",
    "    #find solution\n",
    "    best_individual = min(population)\n",
    "    print(f'best indivudual fitness before another vns: {best_individual.fitness}')\n",
    "    vns(graph, best_individual, 10, 100, 0.5)\n",
    "    tmp.append(best_individual.fitness)\n",
    "    print(f\"code: {best_individual.code}\")\n",
    "    print(f\"fitness: {best_individual.fitness}\")\n",
    "\n",
    "    plt.plot(range(num_iters+1), tmp)\n",
    "    plt.xlabel(\"iterations\",color=\"red\",fontsize=10)\n",
    "    plt.ylabel(\"fitness\",color=\"blue\",fontsize=10)"
   ]
  },
  {
   "cell_type": "code",
   "execution_count": 31,
   "id": "83b5c6a7",
   "metadata": {},
   "outputs": [
    {
     "name": "stdout",
     "output_type": "stream",
     "text": [
      "best indivudual fitness before another vns: 8613.13713663331\n",
      "code: [28, 36, 37, 32, 33, 35, 30, 26, 27, 23, 21, 24, 22, 19, 14, 15, 17, 16, 11, 10, 18, 34, 31, 29, 25, 12, 8, 7, 6, 5, 4, 2, 3, 1, 0, 9, 13, 20]\n",
      "fitness: 8613.13713663331\n"
     ]
    },
    {
     "data": {
      "image/png": "[encoded data removed]",
      "text/plain": [
       "<Figure size 432x288 with 1 Axes>"
      ]
     },
     "metadata": {
      "needs_background": "light"
     },
     "output_type": "display_data"
    }
   ],
   "source": [
    "ga_vns_piped( graph,\n",
    "    num_iters = 20,\n",
    "    use_elitism = True,\n",
    "    population_size = 1000,\n",
    "    elitism_size = 10,\n",
    "    mutation_prob = 0.15,\n",
    "    tournament_size = 10,\n",
    "    )"
   ]
  },
  {
   "cell_type": "markdown",
   "id": "9a3b26f1",
   "metadata": {},
   "source": [
    "## Hibrid genetski algoritam i VNS sa dinamicki promenljivom verovatnocom mutacije (povezana sa fitnesom jedinke):"
   ]
  },
  {
   "cell_type": "code",
   "execution_count": 32,
   "id": "e135a493",
   "metadata": {},
   "outputs": [],
   "source": [
    "def ga_rvns_dynamic_mutation_adjustment(g,num_iters, use_elitism, elitism_size, mutation_prob, tournament_size, population_size, coef):\n",
    "    #init population\n",
    "    population = [Individual(g) for _ in range(population_size)]\n",
    "    new_population = [Individual(g) for _ in range(population_size)]\n",
    "    tmp = []\n",
    "    if not use_elitism:\n",
    "        elitism_size = 0\n",
    "\n",
    "    for j in range(num_iters):\n",
    "        if use_elitism:\n",
    "            population.sort()\n",
    "            tmp.append(deepcopy(population[0]))\n",
    "            new_population[:elitism_size] = population[:elitism_size]\n",
    "        else:\n",
    "            current_best = min(population)\n",
    "            tmp.append(deepcopy(current_best))\n",
    "                        \n",
    "        for i in range(elitism_size, population_size, 2):\n",
    "            #selection\n",
    "            parent1, parent1_idx = selection(population, tournament_size)\n",
    "            parent2, _ = selection(population, tournament_size, parent1_idx)\n",
    "            \n",
    "            #crossover\n",
    "            new_population[i].code , new_population[i+1].code = crossover(parent1, parent2)\n",
    "            \n",
    "            new_population[i].fitness = new_population[i].calc_fitness(g)\n",
    "            new_population[i+1].fitness = new_population[i+1].calc_fitness(g)\n",
    "            \n",
    "            #mutation\n",
    "            mutation(new_population[i],   mutation_prob - coef/new_population[i].fitness)\n",
    "            mutation(new_population[i+1], mutation_prob - coef/new_population[i+1].fitness)\n",
    "            \n",
    "            #calc_new_fitnesses\n",
    "            new_population[i].fitness = new_population[i].calc_fitness(g)\n",
    "            new_population[i+1].fitness = new_population[i+1].calc_fitness(g)\n",
    "            \n",
    "            #vns\n",
    "            rvns(graph,new_population[i], 2, 5, 0.5)\n",
    "            rvns(graph,new_population[i+1], 2, 5, 0.5)\n",
    "            \n",
    "            \n",
    "        #replace_population\n",
    "        vns(graph,population[0], 3, 15, 0.5)\n",
    "        population[:] = new_population[:]\n",
    "\n",
    "    #find solution\n",
    "    best_individual = min(population)\n",
    "    tmp.append(best_individual)\n",
    "    fitnesses = list(map(lambda x: x.fitness, tmp))\n",
    "    print(f\"code: {best_individual.code}\")\n",
    "    print(f\"fitness: {best_individual.fitness}\")\n",
    "\n",
    "    plt.plot(range(num_iters+1), fitnesses)\n",
    "    plt.xlabel(\"iterations\",color=\"red\",fontsize=10)\n",
    "    plt.ylabel(\"fitness\",color=\"blue\",fontsize=10)\n",
    "    plt.show()\n",
    "    \n",
    "    "
   ]
  },
  {
   "cell_type": "code",
   "execution_count": 33,
   "id": "76fd80b3",
   "metadata": {},
   "outputs": [
    {
     "name": "stdout",
     "output_type": "stream",
     "text": [
      "code: [1, 3, 2, 4, 5, 6, 7, 8, 10, 11, 15, 16, 17, 18, 23, 21, 19, 22, 24, 25, 28, 29, 31, 34, 36, 37, 32, 33, 35, 30, 26, 27, 12, 14, 13, 20, 9, 0]\n",
      "fitness: 7693.227091626727\n"
     ]
    },
    {
     "data": {
      "image/png": "[encoded data removed]",
      "text/plain": [
       "<Figure size 432x288 with 1 Axes>"
      ]
     },
     "metadata": {
      "needs_background": "light"
     },
     "output_type": "display_data"
    }
   ],
   "source": [
    "ga_rvns_dynamic_mutation_adjustment( graph,\n",
    "    num_iters = 20,\n",
    "    use_elitism = True,\n",
    "    population_size = 1000,\n",
    "    elitism_size = 30,\n",
    "    mutation_prob = 0.2,\n",
    "    tournament_size = 10,\n",
    "    coef = 4000\n",
    "    )"
   ]
  },
  {
   "cell_type": "code",
   "execution_count": 34,
   "id": "3b2607fa",
   "metadata": {},
   "outputs": [
    {
     "data": {
      "text/plain": [
       "0.10065813982366821"
      ]
     },
     "execution_count": 34,
     "metadata": {},
     "output_type": "execute_result"
    }
   ],
   "source": [
    "0.20 - 4*1000/40265"
   ]
  },
  {
   "cell_type": "markdown",
   "id": "a149cc4a",
   "metadata": {},
   "source": [
    "## Hibrid genetksi algoritam i VNS (manja populacija i broj iteracija zbog velike slozenosti):"
   ]
  },
  {
   "cell_type": "code",
   "execution_count": 35,
   "id": "a05ab4aa",
   "metadata": {},
   "outputs": [],
   "source": [
    "def ga_vns(g,num_iters, use_elitism, elitism_size, mutation_prob, tournament_size, population_size):\n",
    "    #init population\n",
    "    population = [Individual(g) for _ in range(population_size)]\n",
    "    new_population = [Individual(g) for _ in range(population_size)]\n",
    "    tmp = []\n",
    "    if not use_elitism:\n",
    "        elitism_size = 0\n",
    "        \n",
    "    for _ in range(num_iters):\n",
    "        if use_elitism:\n",
    "            population.sort()\n",
    "            tmp.append(population[0].fitness)\n",
    "            new_population[:elitism_size] = population[:elitism_size]\n",
    "        else:\n",
    "            current_best_fitness = min(population)\n",
    "            tmp.append(current_best_fitness)\n",
    "            \n",
    "        for i in range(elitism_size, population_size, 2):\n",
    "            #selection\n",
    "            parent1, parent1_idx = selection(population, tournament_size)\n",
    "            parent2, _ = selection(population, tournament_size, parent1_idx)\n",
    "            \n",
    "            #crossover\n",
    "            new_population[i].code , new_population[i+1].code = crossover(parent1, parent2)\n",
    "            \n",
    "            #mutation\n",
    "            mutation(new_population[i], mutation_prob)\n",
    "            mutation(new_population[i+1], mutation_prob)\n",
    "            \n",
    "            #calc_new_fitnesses\n",
    "            new_population[i].fitness = new_population[i].calc_fitness(g)\n",
    "            new_population[i+1].fitness = new_population[i+1].calc_fitness(g)\n",
    "            \n",
    "            #vns\n",
    "            vns(graph,new_population[i], 2, 5, 0.5)\n",
    "            vns(graph,new_population[i+1], 2, 5, 0.5)\n",
    "            \n",
    "            \n",
    "        #replace_population\n",
    "        vns(graph,population[0], 3, 15, 0.5)\n",
    "        population[:] = new_population[:]\n",
    "\n",
    "    #find solution\n",
    "    best_individual = min(population)\n",
    "    print(tmp)\n",
    "    print(f\"code: {best_individual.code}\")\n",
    "    print(f\"fitness: {best_individual.fitness}\")\n",
    "\n",
    "    plt.plot(range(num_iters), tmp)\n",
    "    plt.xlabel(\"iterations\",color=\"red\",fontsize=10)\n",
    "    plt.ylabel(\"fitness\",color=\"blue\",fontsize=10)\n",
    "    "
   ]
  },
  {
   "cell_type": "code",
   "execution_count": 36,
   "id": "92ffbc41",
   "metadata": {},
   "outputs": [
    {
     "name": "stdout",
     "output_type": "stream",
     "text": [
      "[22703.84613467607, 19722.543154683775, 15387.613838381427, 11738.438022559863, 11513.125164400755, 11138.40491990613, 10946.243005881493, 10764.351422378659, 10759.080134848666, 10710.343853234259]\n",
      "code: [10, 11, 8, 12, 14, 21, 19, 3, 1, 0, 29, 33, 35, 32, 34, 31, 28, 20, 9, 13, 22, 24, 25, 23, 27, 36, 37, 30, 26, 5, 2, 4, 6, 7, 15, 17, 18, 16]\n",
      "fitness: 10702.25081585025\n"
     ]
    },
    {
     "data": {
      "image/png": "[encoded data removed]",
      "text/plain": [
       "<Figure size 432x288 with 1 Axes>"
      ]
     },
     "metadata": {
      "needs_background": "light"
     },
     "output_type": "display_data"
    }
   ],
   "source": [
    "ga_vns( graph,\n",
    "    num_iters = 10,\n",
    "    use_elitism = True,\n",
    "    population_size = 150,\n",
    "    elitism_size = 16,\n",
    "    mutation_prob = 0.15,\n",
    "    tournament_size = 10,\n",
    "    )"
   ]
  },
  {
   "cell_type": "markdown",
   "id": "22bc3099",
   "metadata": {},
   "source": [
    "# Hibrid ga + vns + dinamicka mutacija (povezana sa brojem iteracije)"
   ]
  },
  {
   "cell_type": "code",
   "execution_count": 37,
   "id": "d2eacb12",
   "metadata": {},
   "outputs": [],
   "source": [
    "def ga_rvns_dynamic_iteration_depandent_mutation(g,num_iters, use_elitism, elitism_size, tournament_size, population_size):\n",
    "    #init population\n",
    "    population = [Individual(g) for _ in range(population_size)]\n",
    "    new_population = [Individual(g) for _ in range(population_size)]\n",
    "    tmp = []\n",
    "    if not use_elitism:\n",
    "        elitism_size = 0\n",
    "\n",
    "    for j in range(1,num_iters+1):\n",
    "        if use_elitism:\n",
    "            population.sort()\n",
    "            tmp.append(deepcopy(population[0]))\n",
    "            new_population[:elitism_size] = population[:elitism_size]\n",
    "            \n",
    "        else:\n",
    "            current_best = min(population)\n",
    "            tmp.append(deepcopy(current_best))\n",
    "                        \n",
    "        for i in range(elitism_size, population_size, 2):\n",
    "            #selection\n",
    "            parent1, parent1_idx = selection(population, tournament_size)\n",
    "            parent2, _ = selection(population, tournament_size, parent1_idx)\n",
    "            \n",
    "            #crossover\n",
    "            new_population[i].code , new_population[i+1].code = crossover(parent1, parent2)\n",
    "                        \n",
    "            #mutation\n",
    "            mutation(new_population[i],  1/(2*j))\n",
    "            mutation(new_population[i+1],1/(2*j))\n",
    "            \n",
    "            #calc_new_fitnesses\n",
    "            new_population[i].fitness = new_population[i].calc_fitness(g)\n",
    "            new_population[i+1].fitness = new_population[i+1].calc_fitness(g)\n",
    "            \n",
    "            #vns\n",
    "            rvns(graph,new_population[i], 2, 5, 0.5)\n",
    "            rvns(graph,new_population[i+1], 2, 5, 0.5)\n",
    "            \n",
    "            \n",
    "        #replace_population\n",
    "        vns(graph,population[0], 3, 15, 0.5)\n",
    "        population[:] = new_population[:]\n",
    "\n",
    "    #find solution\n",
    "    best_individual = min(population)\n",
    "    tmp.append(best_individual)\n",
    "    fitnesses = list(map(lambda x: x.fitness, tmp))\n",
    "    print(f\"code: {best_individual.code}\")\n",
    "    print(f\"fitness: {best_individual.fitness}\")\n",
    "\n",
    "    plt.plot(range(1,num_iters+2), fitnesses, marker = \"x\")\n",
    "    plt.xlabel(\"iterations\",color=\"red\",fontsize=10)\n",
    "    plt.ylabel(\"fitness\",color=\"blue\",fontsize=10)\n",
    "    plt.show()"
   ]
  },
  {
   "cell_type": "code",
   "execution_count": 38,
   "id": "47b1c30c",
   "metadata": {},
   "outputs": [
    {
     "name": "stdout",
     "output_type": "stream",
     "text": [
      "code: [14, 12, 2, 4, 6, 8, 7, 5, 3, 1, 0, 9, 13, 20, 28, 36, 37, 32, 33, 35, 30, 26, 27, 23, 34, 31, 29, 25, 24, 22, 19, 21, 11, 10, 18, 17, 16, 15]\n",
      "fitness: 8350.978581327878\n"
     ]
    },
    {
     "data": {
      "image/png": "[encoded data removed]",
      "text/plain": [
       "<Figure size 432x288 with 1 Axes>"
      ]
     },
     "metadata": {
      "needs_background": "light"
     },
     "output_type": "display_data"
    }
   ],
   "source": [
    "ga_rvns_dynamic_iteration_depandent_mutation( graph,\n",
    "    num_iters = 20,\n",
    "    use_elitism = True,\n",
    "    population_size = 1000,\n",
    "    elitism_size = 10,\n",
    "    tournament_size = 10,\n",
    "    )"
   ]
  },
  {
   "cell_type": "code",
   "execution_count": null,
   "id": "6742786c",
   "metadata": {},
   "outputs": [],
   "source": []
  }
 ],
 "metadata": {
  "kernelspec": {
   "display_name": "Python 3 (ipykernel)",
   "language": "python",
   "name": "python3"
  },
  "language_info": {
   "codemirror_mode": {
    "name": "ipython",
    "version": 3
   },
   "file_extension": ".py",
   "mimetype": "text/x-python",
   "name": "python",
   "nbconvert_exporter": "python",
   "pygments_lexer": "ipython3",
   "version": "3.9.5"
  }
 },
 "nbformat": 4,
 "nbformat_minor": 5
}
