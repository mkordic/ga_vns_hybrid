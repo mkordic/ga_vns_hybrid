{
 "cells": [
  {
   "cell_type": "code",
   "execution_count": 1,
   "id": "6cb75926",
   "metadata": {},
   "outputs": [],
   "source": [
    "import networkx as nx\n",
    "import math\n",
    "import random\n",
    "import numpy as np\n",
    "from copy import deepcopy \n",
    "from matplotlib import pyplot as plt"
   ]
  },
  {
   "cell_type": "code",
   "execution_count": 2,
   "id": "3193f293",
   "metadata": {},
   "outputs": [],
   "source": [
    "def euclidean_distance(a_x, a_y, b_x, b_y):\n",
    "    return math.sqrt((a_x - b_x)**2 + (a_y - b_y)**2)"
   ]
  },
  {
   "cell_type": "code",
   "execution_count": 3,
   "id": "eb4dbd91",
   "metadata": {},
   "outputs": [],
   "source": [
    "def read_graph(file_path):\n",
    "    with open(file_path) as f:\n",
    "        g = nx.Graph()\n",
    "        for line in f:\n",
    "            if not line[0].isdigit():\n",
    "                continue\n",
    "            node, x, y = line.split()\n",
    "            node = int(node) - 1\n",
    "            x = float(x)\n",
    "            y = float(y)\n",
    "            g.add_node(node, x=x, y=y)\n",
    "        \n",
    "        for u in g.nodes:\n",
    "            for v in range(u + 1, len(g.nodes)):\n",
    "                g.add_edge(u, v,\n",
    "                           distance=euclidean_distance(g.nodes[u]['x'],\n",
    "                                                        g.nodes[u]['y'],\n",
    "                                                        g.nodes[v]['x'],\n",
    "                                                        g.nodes[v]['y']))\n",
    "        \n",
    "        return g"
   ]
  },
  {
   "cell_type": "code",
   "execution_count": 4,
   "id": "6ce61a2c",
   "metadata": {},
   "outputs": [],
   "source": [
    "graph = read_graph(\"qa194.tsp\")"
   ]
  },
  {
   "cell_type": "code",
   "execution_count": 5,
   "id": "3e7ba8a8",
   "metadata": {},
   "outputs": [
    {
     "data": {
      "text/plain": [
       "372.0941512342277"
      ]
     },
     "execution_count": 5,
     "metadata": {},
     "output_type": "execute_result"
    }
   ],
   "source": [
    "graph[0][1][\"distance\"]"
   ]
  },
  {
   "cell_type": "code",
   "execution_count": 6,
   "id": "e558e1eb",
   "metadata": {},
   "outputs": [
    {
     "data": {
      "text/plain": [
       "NodeView((0, 1, 2, 3, 4, 5, 6, 7, 8, 9, 10, 11, 12, 13, 14, 15, 16, 17, 18, 19, 20, 21, 22, 23, 24, 25, 26, 27, 28, 29, 30, 31, 32, 33, 34, 35, 36, 37, 38, 39, 40, 41, 42, 43, 44, 45, 46, 47, 48, 49, 50, 51, 52, 53, 54, 55, 56, 57, 58, 59, 60, 61, 62, 63, 64, 65, 66, 67, 68, 69, 70, 71, 72, 73, 74, 75, 76, 77, 78, 79, 80, 81, 82, 83, 84, 85, 86, 87, 88, 89, 90, 91, 92, 93, 94, 95, 96, 97, 98, 99, 100, 101, 102, 103, 104, 105, 106, 107, 108, 109, 110, 111, 112, 113, 114, 115, 116, 117, 118, 119, 120, 121, 122, 123, 124, 125, 126, 127, 128, 129, 130, 131, 132, 133, 134, 135, 136, 137, 138, 139, 140, 141, 142, 143, 144, 145, 146, 147, 148, 149, 150, 151, 152, 153, 154, 155, 156, 157, 158, 159, 160, 161, 162, 163, 164, 165, 166, 167, 168, 169, 170, 171, 172, 173, 174, 175, 176, 177, 178, 179, 180, 181, 182, 183, 184, 185, 186, 187, 188, 189, 190, 191, 192, 193))"
      ]
     },
     "execution_count": 6,
     "metadata": {},
     "output_type": "execute_result"
    }
   ],
   "source": [
    "graph.nodes"
   ]
  },
  {
   "cell_type": "code",
   "execution_count": 7,
   "id": "e7762820",
   "metadata": {},
   "outputs": [],
   "source": [
    "def foo(path, g):\n",
    "    length = 0\n",
    "    for node in range(len(path) - 1):\n",
    "        length += g[node][node + 1][\"distance\"]\n",
    "        print(node, node + 1, g[node][node+1][\"distance\"])\n",
    "    length += g[path[len(path)-1]][path[0]][\"distance\"]\n",
    "    return length"
   ]
  },
  {
   "cell_type": "code",
   "execution_count": 8,
   "id": "cb03b7cd",
   "metadata": {},
   "outputs": [
    {
     "name": "stdout",
     "output_type": "stream",
     "text": [
      "0 1 372.0941512342277\n",
      "1 2 195.13370816373165\n",
      "2 3 232.89721626863317\n",
      "3 4 384.9619376407208\n",
      "4 5 509.6337902096542\n",
      "5 6 236.75180874589202\n",
      "6 7 201.19879287185466\n",
      "7 8 440.3472045576438\n",
      "8 9 6.009233635829901\n",
      "9 10 303.9038081346991\n",
      "10 11 320.74812099755644\n",
      "11 12 374.2418594824625\n",
      "12 13 57.354195278546236\n",
      "13 14 386.15106659773903\n",
      "14 15 520.5566857926832\n",
      "15 16 183.1237725699501\n",
      "16 17 130.07897911903393\n",
      "17 18 225.0006859797543\n",
      "18 19 811.9492516488319\n",
      "19 20 571.6667674495185\n",
      "20 21 73.31862461919532\n",
      "21 22 277.22355270223835\n",
      "22 23 159.1530995575309\n",
      "23 24 130.2803656459778\n",
      "24 25 126.95199775730225\n",
      "25 26 165.55559999999969\n",
      "26 27 67.05676000024317\n",
      "27 28 23.612734192593823\n"
     ]
    },
    {
     "data": {
      "text/plain": [
       "8274.297122567068"
      ]
     },
     "execution_count": 8,
     "metadata": {},
     "output_type": "execute_result"
    }
   ],
   "source": [
    "foo([0, 1, 2, 3, 4, 5, 6, 7, 8, 9, 10, 11, 12, 13, 14, 15, 16, 17, 18, 19, 20, 21, 22, 23, 24, 25, 26, 27, 28], graph)"
   ]
  },
  {
   "cell_type": "code",
   "execution_count": 9,
   "id": "86dd5281",
   "metadata": {},
   "outputs": [],
   "source": [
    "# kodiranje\n",
    "# fitness\n",
    "# ukrstanje\n",
    "# selekcija\n",
    "# mutacija"
   ]
  },
  {
   "cell_type": "code",
   "execution_count": 10,
   "id": "d51e6503",
   "metadata": {},
   "outputs": [],
   "source": [
    "class Individual:\n",
    "    def __init__(self, g):\n",
    "        num_cities = len(g.nodes)\n",
    "        self.code = np.random.permutation(num_cities).tolist()\n",
    "        self.fitness = self.calc_fitness(g)\n",
    "        \n",
    "        \n",
    "    def calc_fitness(self,g):\n",
    "        length = 0\n",
    "        n = len(self.code)\n",
    "        for i in range(n-1):\n",
    "            length += g[self.code[i]][self.code[i+1]][\"distance\"]\n",
    "        length += g[self.code[-1]][self.code[0]][\"distance\"]\n",
    "        return length\n",
    "    \n",
    "    def __lt__(self, other):\n",
    "        return self.fitness < other.fitness"
   ]
  },
  {
   "cell_type": "code",
   "execution_count": 11,
   "id": "2b7ba4e1",
   "metadata": {},
   "outputs": [],
   "source": [
    "i = Individual(graph)"
   ]
  },
  {
   "cell_type": "code",
   "execution_count": 12,
   "id": "59e97022",
   "metadata": {},
   "outputs": [
    {
     "data": {
      "text/plain": [
       "96083.63012155259"
      ]
     },
     "execution_count": 12,
     "metadata": {},
     "output_type": "execute_result"
    }
   ],
   "source": [
    "i.fitness"
   ]
  },
  {
   "cell_type": "code",
   "execution_count": 13,
   "id": "ef58897d",
   "metadata": {},
   "outputs": [
    {
     "data": {
      "text/plain": [
       "23.612734192593823"
      ]
     },
     "execution_count": 13,
     "metadata": {},
     "output_type": "execute_result"
    }
   ],
   "source": [
    "graph[27][28][\"distance\"]"
   ]
  },
  {
   "cell_type": "code",
   "execution_count": 14,
   "id": "8dcb449d",
   "metadata": {},
   "outputs": [
    {
     "data": {
      "text/plain": [
       "194"
      ]
     },
     "execution_count": 14,
     "metadata": {},
     "output_type": "execute_result"
    }
   ],
   "source": [
    "len(i.code)"
   ]
  },
  {
   "cell_type": "code",
   "execution_count": 15,
   "id": "644df15e",
   "metadata": {},
   "outputs": [],
   "source": [
    "#for now, tournament selection\n",
    "def selection(population, tournament_size,forbidden=None):\n",
    "    allowed = list(set(range(len(population))).difference({forbidden}))\n",
    "    chosen_indices = random.sample(allowed, tournament_size)\n",
    "    best_fitness = float('inf')\n",
    "    winner = None\n",
    "    winner_idx = None\n",
    "    for index in chosen_indices:\n",
    "        if best_fitness > population[index].fitness:\n",
    "            winner = population[index]\n",
    "            winner_idx = index\n",
    "            best_fitness = winner.fitness\n",
    "    return winner,winner_idx"
   ]
  },
  {
   "cell_type": "code",
   "execution_count": 16,
   "id": "b804fb49",
   "metadata": {},
   "outputs": [],
   "source": [
    "def crossover(parent1, parent2):\n",
    "    \n",
    "    n = len(parent1.code)\n",
    "    child1 = []\n",
    "    child2 = []\n",
    "    \n",
    "    breakpoint = random.randrange(n)\n",
    "    \n",
    "    child1.extend(parent1.code[:breakpoint])\n",
    "    child2.extend(parent2.code[:breakpoint])\n",
    "    \n",
    "    for city in parent2.code:\n",
    "        if city not in child1:\n",
    "            child1.append(city)\n",
    "    for city in parent1.code:\n",
    "        if city not in child2:\n",
    "            child2.append(city)\n",
    "            \n",
    "    return child1, child2"
   ]
  },
  {
   "cell_type": "code",
   "execution_count": 17,
   "id": "379ed919",
   "metadata": {},
   "outputs": [],
   "source": [
    "def mutation(child, mutation_prob):\n",
    "    \n",
    "    p = random.random()\n",
    "\n",
    "    if p <= mutation_prob:\n",
    "        n = len(child.code)\n",
    "        random_index1 = random.randrange(n)\n",
    "        allowed = list(set(range(n)).difference({random_index1}))\n",
    "        random_index2 = random.choice(allowed)\n",
    "        child.code[random_index1], child.code[random_index2] = child.code[random_index2], child.code[random_index1]\n",
    "    "
   ]
  },
  {
   "cell_type": "code",
   "execution_count": 18,
   "id": "44b6bb1b",
   "metadata": {},
   "outputs": [],
   "source": [
    "def local_search(graph,solution_after_shaking):\n",
    "    n = len(solution_after_shaking.code)\n",
    "    swaps=[]\n",
    "    for i in range(n-1):\n",
    "        for j in range(i+1,n):\n",
    "            swaps.append((i,j))\n",
    "    new_solution = Individual(graph)\n",
    "    for i,j in swaps:\n",
    "        new_solution.code[i], new_solution.code[j] = new_solution.code[j], new_solution.code[i]\n",
    "        new_solution.fitness = new_solution.calc_fitness(graph)\n",
    "        if new_solution.fitness < solution_after_shaking.fitness:\n",
    "            solution_after_shaking.code[:] = new_solution.code[:]\n",
    "            solution_after_shaking.fitness = new_solution.fitness\n",
    "        "
   ]
  },
  {
   "cell_type": "code",
   "execution_count": 19,
   "id": "37919ad8",
   "metadata": {},
   "outputs": [],
   "source": [
    "def shaking(solution, k):\n",
    "    n = len(solution.code)\n",
    "    new_solution = deepcopy(solution)\n",
    "    for _ in range(k):\n",
    "        i, j = random.sample(range(n), 2)\n",
    "        new_solution.code[i], new_solution.code[j] = new_solution.code[j], new_solution.code[i]\n",
    "    \n",
    "    return new_solution\n",
    "        "
   ]
  },
  {
   "cell_type": "code",
   "execution_count": 20,
   "id": "34161374",
   "metadata": {},
   "outputs": [],
   "source": [
    "def vns(graph,individual, max_k, max_iter, move_prob):\n",
    "    \n",
    "    solution = deepcopy(individual)\n",
    "    value = individual.fitness\n",
    "    \n",
    "    for i in range(max_iter):\n",
    "        for k in range(max_k):\n",
    "            new_solution = shaking(solution, k)\n",
    "            local_search(graph,new_solution)\n",
    "            \n",
    "            new_solution.fitness = new_solution.calc_fitness(graph)\n",
    "            new_value = new_solution.fitness\n",
    "            if new_value < value or (new_value == value and random.random() < move_prob):\n",
    "                value = new_value\n",
    "                solution = deepcopy(new_solution)\n",
    "        \n",
    "    individual.code[:] = solution.code[:]\n",
    "    individual.fitness = value"
   ]
  },
  {
   "cell_type": "code",
   "execution_count": 21,
   "id": "06a901c2",
   "metadata": {},
   "outputs": [],
   "source": [
    "def vns_benchmark_version(graph,individual, max_k, max_iter, move_prob):\n",
    "    \n",
    "    solution = deepcopy(individual)\n",
    "    value = individual.fitness\n",
    "    tmp = []\n",
    "    \n",
    "    for i in range(max_iter):\n",
    "        tmp.append(solution.fitness)\n",
    "        for k in range(max_k):\n",
    "            new_solution = shaking(solution, k)\n",
    "            local_search(graph,new_solution)\n",
    "            \n",
    "            new_solution.fitness = new_solution.calc_fitness(graph)\n",
    "            new_value = new_solution.fitness\n",
    "            if new_value < value or (new_value == value and random.random() < move_prob):\n",
    "                value = new_value\n",
    "                solution = deepcopy(new_solution)\n",
    "    \n",
    "    plt.plot(range(max_iter), tmp)\n",
    "    plt.xlabel(\"iterations\",color=\"red\",fontsize=10)\n",
    "    plt.ylabel(\"fitness\",color=\"blue\",fontsize=10)\n",
    "    \n",
    "    individual.code[:] = solution.code[:]\n",
    "    individual.fitness = value"
   ]
  },
  {
   "cell_type": "code",
   "execution_count": 22,
   "id": "4f2c3d95",
   "metadata": {},
   "outputs": [],
   "source": [
    "def rvns(graph,individual, max_k, max_iter, move_prob):\n",
    "    \n",
    "    solution = deepcopy(individual)\n",
    "    value = individual.fitness\n",
    "    \n",
    "    for i in range(max_iter):\n",
    "        for k in range(max_k):\n",
    "            new_solution = shaking(solution, k)\n",
    "            \n",
    "            new_solution.fitness = new_solution.calc_fitness(graph)\n",
    "            new_value = new_solution.fitness\n",
    "            if new_value < value or (new_value == value and random.random() < move_prob):\n",
    "                value = new_value\n",
    "                solution = deepcopy(new_solution)\n",
    "        \n",
    "    individual.code[:] = solution.code[:]\n",
    "    individual.fitness = value"
   ]
  },
  {
   "cell_type": "markdown",
   "id": "f5c4b0aa",
   "metadata": {},
   "source": [
    "## Pretraga uz pomoc VNS-a:"
   ]
  },
  {
   "cell_type": "code",
   "execution_count": 23,
   "id": "d4fd7452",
   "metadata": {},
   "outputs": [],
   "source": [
    "# i1 = Individual(graph)\n",
    "# # i1.code = [8, 6, 3, 4, 0, 1, 5, 7, 12, 14, 17, 20, 25, 15, 13, 10, 9, 11, 18, 21, 22, 28, 19, 23, 26, 24, 27, 16, 2]\n",
    "# # i1.fitness = i1.calc_fitness(graph)\n",
    "# print(i1.code)\n",
    "# print(i1.fitness)\n",
    "# print()\n",
    "# vns_benchmark_version(graph,i1, 10, 100, 0.5)\n",
    "# print(i1.code)\n",
    "# print(i1.fitness)\n"
   ]
  },
  {
   "cell_type": "markdown",
   "id": "df360f2d",
   "metadata": {},
   "source": [
    "## Genetski algoritam osnovna verzija:"
   ]
  },
  {
   "cell_type": "code",
   "execution_count": 24,
   "id": "fc233a6d",
   "metadata": {},
   "outputs": [],
   "source": [
    "def ga(g,num_iters, use_elitism, elitism_size, mutation_prob, tournament_size, population_size):\n",
    "    #init population\n",
    "    population = [Individual(g) for _ in range(population_size)]\n",
    "    new_population = [Individual(g) for _ in range(population_size)]\n",
    "    tmp = []\n",
    "    if not use_elitism:\n",
    "        elitism_size = 0\n",
    "        \n",
    "    for _ in range(num_iters):\n",
    "        if use_elitism:\n",
    "            population.sort()\n",
    "            tmp.append(population[0].fitness)\n",
    "            new_population[:elitism_size] = population[:elitism_size]\n",
    "        else:\n",
    "            current_best_fitness = min(population).fitness\n",
    "            tmp.append(current_best)\n",
    "            \n",
    "        for i in range(elitism_size, population_size, 2):\n",
    "            #selection\n",
    "            parent1, parent1_idx = selection(population, tournament_size)\n",
    "            parent2, _ = selection(population, tournament_size, parent1_idx)\n",
    "            \n",
    "            #crossover\n",
    "            new_population[i].code , new_population[i+1].code = crossover(parent1, parent2)\n",
    "            \n",
    "            #mutation\n",
    "            mutation(new_population[i], mutation_prob)\n",
    "            mutation(new_population[i+1], mutation_prob)\n",
    "            \n",
    "            #calc_new_fitnesses\n",
    "            new_population[i].fitness = new_population[i].calc_fitness(g)\n",
    "            new_population[i+1].fitness = new_population[i+1].calc_fitness(g)\n",
    "            \n",
    "            \n",
    "        #replace_population\n",
    "        population[:] = new_population[:]\n",
    "\n",
    "    #find solution\n",
    "    best_individual = min(population)\n",
    "    tmp.append(best_individual.fitness)\n",
    "    print(f\"code: {best_individual.code}\")\n",
    "    print(f\"fitness: {best_individual.fitness}\")\n",
    "    \n",
    "    #graph\n",
    "    plt.plot(range(num_iters+1), tmp)\n",
    "    plt.xlabel(\"iterations\",color=\"red\",fontsize=10)\n",
    "    plt.ylabel(\"fitness\",color=\"blue\",fontsize=10)\n",
    "    plt.show()\n",
    "    "
   ]
  },
  {
   "cell_type": "code",
   "execution_count": 25,
   "id": "a78f24bd",
   "metadata": {},
   "outputs": [
    {
     "name": "stdout",
     "output_type": "stream",
     "text": [
      "code: [22, 23, 25, 32, 63, 99, 107, 106, 104, 105, 121, 140, 152, 178, 171, 149, 143, 95, 94, 91, 51, 41, 48, 53, 60, 65, 68, 73, 74, 77, 86, 79, 24, 12, 7, 5, 3, 16, 76, 83, 109, 111, 114, 115, 116, 120, 119, 128, 147, 154, 150, 103, 97, 85, 84, 64, 93, 98, 88, 61, 70, 71, 11, 9, 8, 4, 6, 10, 13, 81, 113, 136, 148, 160, 162, 163, 156, 151, 146, 135, 134, 132, 127, 123, 122, 57, 46, 50, 67, 69, 82, 87, 92, 102, 118, 137, 141, 145, 168, 181, 185, 182, 117, 96, 80, 78, 38, 33, 42, 37, 40, 43, 45, 47, 52, 55, 66, 72, 130, 157, 176, 180, 187, 188, 190, 192, 184, 179, 169, 166, 161, 54, 49, 34, 29, 31, 30, 39, 26, 36, 59, 75, 100, 110, 129, 155, 173, 172, 183, 191, 193, 175, 144, 139, 133, 131, 126, 89, 62, 19, 0, 1, 2, 14, 18, 21, 28, 27, 44, 56, 90, 101, 108, 112, 124, 125, 138, 153, 167, 177, 170, 165, 159, 142, 17, 20, 158, 164, 174, 189, 186, 58, 35, 15]\n",
      "fitness: 21170.72785710638\n"
     ]
    },
    {
     "data": {
      "image/png": "[encoded data removed]",
      "text/plain": [
       "<Figure size 432x288 with 1 Axes>"
      ]
     },
     "metadata": {
      "needs_background": "light"
     },
     "output_type": "display_data"
    }
   ],
   "source": [
    "ga( graph,\n",
    "    num_iters = 500,\n",
    "    use_elitism = True,\n",
    "    population_size = 1000,\n",
    "    elitism_size = 10,\n",
    "    mutation_prob = 0.15,\n",
    "    tournament_size = 10,\n",
    "    )"
   ]
  },
  {
   "cell_type": "markdown",
   "id": "febc892c",
   "metadata": {},
   "source": [
    "## Hibrid genetski algoritam i redukovani vns:"
   ]
  },
  {
   "cell_type": "code",
   "execution_count": 26,
   "id": "97fe9e42",
   "metadata": {},
   "outputs": [],
   "source": [
    "def ga_rvns(g,num_iters, use_elitism, elitism_size, mutation_prob, tournament_size, population_size):\n",
    "    #init population\n",
    "    population = [Individual(g) for _ in range(population_size)]\n",
    "    new_population = [Individual(g) for _ in range(population_size)]\n",
    "    tmp = []\n",
    "    if not use_elitism:\n",
    "        elitism_size = 0\n",
    "        \n",
    "    for _ in range(num_iters):\n",
    "        if use_elitism:\n",
    "            population.sort()\n",
    "            tmp.append(population[0].fitness)\n",
    "            new_population[:elitism_size] = population[:elitism_size]\n",
    "        else:\n",
    "            current_best_fitness = min(population).fitness\n",
    "            tmp.append(current_best_fitness)\n",
    "            \n",
    "        for i in range(elitism_size, population_size, 2):\n",
    "            #selection\n",
    "            parent1, parent1_idx = selection(population, tournament_size)\n",
    "            parent2, _ = selection(population, tournament_size, parent1_idx)\n",
    "            \n",
    "            #crossover\n",
    "            new_population[i].code , new_population[i+1].code = crossover(parent1, parent2)\n",
    "            \n",
    "            #mutation\n",
    "            mutation(new_population[i], mutation_prob)\n",
    "            mutation(new_population[i+1], mutation_prob)\n",
    "            \n",
    "            #calc_new_fitnesses\n",
    "            new_population[i].fitness = new_population[i].calc_fitness(g)\n",
    "            new_population[i+1].fitness = new_population[i+1].calc_fitness(g)\n",
    "            \n",
    "            #vns\n",
    "            rvns(graph,new_population[i], 2, 5, 0.5)\n",
    "            rvns(graph,new_population[i+1], 2, 5, 0.5)\n",
    "            \n",
    "            \n",
    "        #replace_population\n",
    "        rvns(graph,population[0], 3, 15, 0.5)\n",
    "        population[:] = new_population[:]\n",
    "\n",
    "    #find solution\n",
    "    best_individual = min(population)\n",
    "    tmp.append(best_individual.fitness)\n",
    "    print(f\"code: {best_individual.code}\")\n",
    "    print(f\"fitness: {best_individual.fitness}\")\n",
    "\n",
    "    plt.plot(range(num_iters+1), tmp)\n",
    "    plt.xlabel(\"iterations\",color=\"red\",fontsize=10)\n",
    "    plt.ylabel(\"fitness\",color=\"blue\",fontsize=10)\n",
    "    "
   ]
  },
  {
   "cell_type": "code",
   "execution_count": 27,
   "id": "b523f3bd",
   "metadata": {
    "scrolled": true
   },
   "outputs": [
    {
     "name": "stdout",
     "output_type": "stream",
     "text": [
      "code: [121, 101, 86, 13, 10, 3, 1, 0, 5, 7, 35, 58, 61, 24, 25, 23, 20, 17, 36, 38, 46, 42, 45, 40, 37, 39, 33, 30, 31, 29, 11, 9, 8, 34, 41, 43, 83, 104, 117, 140, 172, 173, 178, 171, 129, 110, 98, 100, 103, 126, 124, 125, 108, 77, 73, 68, 16, 6, 2, 4, 21, 32, 56, 63, 76, 78, 91, 96, 106, 107, 114, 119, 127, 123, 122, 53, 51, 55, 57, 60, 65, 44, 27, 28, 26, 14, 18, 92, 102, 138, 137, 160, 162, 163, 168, 175, 181, 193, 191, 192, 184, 165, 159, 132, 120, 116, 115, 111, 109, 99, 54, 49, 48, 47, 52, 50, 59, 71, 70, 81, 88, 89, 62, 64, 19, 15, 12, 22, 74, 90, 105, 128, 134, 142, 147, 150, 146, 143, 145, 148, 155, 144, 139, 133, 131, 136, 141, 153, 156, 149, 152, 151, 158, 166, 169, 170, 179, 177, 167, 161, 157, 154, 135, 130, 95, 94, 87, 82, 80, 72, 66, 67, 69, 75, 79, 93, 84, 85, 97, 113, 112, 118, 164, 176, 183, 174, 182, 185, 186, 189, 188, 190, 187, 180]\n",
      "fitness: 16818.373614269116\n"
     ]
    },
    {
     "data": {
      "image/png": "[encoded data removed]",
      "text/plain": [
       "<Figure size 432x288 with 1 Axes>"
      ]
     },
     "metadata": {
      "needs_background": "light"
     },
     "output_type": "display_data"
    }
   ],
   "source": [
    "ga_rvns( graph,\n",
    "    num_iters = 500,\n",
    "    use_elitism = True,\n",
    "    population_size = 1000,\n",
    "    elitism_size = 40,\n",
    "    mutation_prob = 0.15,\n",
    "    tournament_size = 15,\n",
    "    )"
   ]
  },
  {
   "cell_type": "markdown",
   "id": "64867c75",
   "metadata": {},
   "source": [
    "## Hibrid genetski algoritam i VNS koji se primenjuje samo na najbolju jedinku u generaciji:"
   ]
  },
  {
   "cell_type": "code",
   "execution_count": 28,
   "id": "91b42055",
   "metadata": {},
   "outputs": [],
   "source": [
    "def ga_vns_best_only(g,num_iters, use_elitism, elitism_size, mutation_prob, tournament_size, population_size):\n",
    "    #init population\n",
    "    population = [Individual(g) for _ in range(population_size)]\n",
    "    new_population = [Individual(g) for _ in range(population_size)]\n",
    "    tmp = []\n",
    "    if not use_elitism:\n",
    "        elitism_size = 0\n",
    "        \n",
    "    for _ in range(num_iters):\n",
    "        if use_elitism:\n",
    "            population.sort()\n",
    "            tmp.append(population[0].fitness)\n",
    "            new_population[:elitism_size] = population[:elitism_size]\n",
    "        else:\n",
    "            current_best_fitness = min(population).fitness\n",
    "            tmp.append(current_best_fitness)\n",
    "            \n",
    "        for i in range(elitism_size, population_size, 2):\n",
    "            #selection\n",
    "            parent1, parent1_idx = selection(population, tournament_size)\n",
    "            parent2, _ = selection(population, tournament_size, parent1_idx)\n",
    "            \n",
    "            #crossover\n",
    "            new_population[i].code , new_population[i+1].code = crossover(parent1, parent2)\n",
    "            \n",
    "            #mutation\n",
    "            mutation(new_population[i], mutation_prob)\n",
    "            mutation(new_population[i+1], mutation_prob)\n",
    "            \n",
    "            #calc_new_fitnesses\n",
    "            new_population[i].fitness = new_population[i].calc_fitness(g)\n",
    "            new_population[i+1].fitness = new_population[i+1].calc_fitness(g)\n",
    "                        \n",
    "        #replace_population\n",
    "        vns(graph,population[0], 7, 30, 0.5)\n",
    "        population[:] = new_population[:]\n",
    "\n",
    "    #find solution\n",
    "    best_individual = min(population)\n",
    "    tmp.append(best_individual.fitness)\n",
    "    print(f\"code: {best_individual.code}\")\n",
    "    print(f\"fitness: {best_individual.fitness}\")\n",
    "\n",
    "    plt.plot(range(num_iters+1), tmp)\n",
    "    plt.xlabel(\"iterations\",color=\"red\",fontsize=10)\n",
    "    plt.ylabel(\"fitness\",color=\"blue\",fontsize=10)\n",
    "    "
   ]
  },
  {
   "cell_type": "code",
   "execution_count": 29,
   "id": "869bfbe4",
   "metadata": {},
   "outputs": [],
   "source": [
    "# ga_vns_best_only( graph,\n",
    "#     num_iters = 20,\n",
    "#     use_elitism = True,\n",
    "#     population_size = 1000,\n",
    "#     elitism_size = 10,\n",
    "#     mutation_prob = 0.15,\n",
    "#     tournament_size = 10,\n",
    "#     )"
   ]
  },
  {
   "cell_type": "markdown",
   "id": "9adbdf8c",
   "metadata": {},
   "source": [
    "## Hibrid genetski algoritam i VNS koji se primenjuje na najbolju jedniku nakon kraja genetskog:"
   ]
  },
  {
   "cell_type": "code",
   "execution_count": 30,
   "id": "95face6d",
   "metadata": {},
   "outputs": [],
   "source": [
    "def ga_vns_piped(g,num_iters, use_elitism, elitism_size, mutation_prob, tournament_size, population_size):\n",
    "    #init population\n",
    "    population = [Individual(g) for _ in range(population_size)]\n",
    "    new_population = [Individual(g) for _ in range(population_size)]\n",
    "    tmp = []\n",
    "    if not use_elitism:\n",
    "        elitism_size = 0\n",
    "        \n",
    "    for _ in range(num_iters):\n",
    "        if use_elitism:\n",
    "            population.sort()\n",
    "            tmp.append(population[0].fitness)\n",
    "            new_population[:elitism_size] = population[:elitism_size]\n",
    "        else:\n",
    "            current_best_fitness = min(population).fitness\n",
    "            tmp.append(current_best_fitness)\n",
    "            \n",
    "        for i in range(elitism_size, population_size, 2):\n",
    "            #selection\n",
    "            parent1, parent1_idx = selection(population, tournament_size)\n",
    "            parent2, _ = selection(population, tournament_size, parent1_idx)\n",
    "            \n",
    "            #crossover\n",
    "            new_population[i].code , new_population[i+1].code = crossover(parent1, parent2)\n",
    "            \n",
    "            #mutation\n",
    "            mutation(new_population[i], mutation_prob)\n",
    "            mutation(new_population[i+1], mutation_prob)\n",
    "            \n",
    "            #calc_new_fitnesses\n",
    "            new_population[i].fitness = new_population[i].calc_fitness(g)\n",
    "            new_population[i+1].fitness = new_population[i+1].calc_fitness(g)\n",
    "            \n",
    "            #vns\n",
    "            rvns(graph,new_population[i], 2, 5, 0.5)\n",
    "            rvns(graph,new_population[i+1], 2, 5, 0.5)\n",
    "            \n",
    "            \n",
    "        #replace_population\n",
    "        population[:] = new_population[:]\n",
    "\n",
    "    #find solution\n",
    "    best_individual = min(population)\n",
    "    print(f'best indivudual fitness before another vns: {best_individual.fitness}')\n",
    "    vns(graph, best_individual, 10, 100, 0.5)\n",
    "    tmp.append(best_individual.fitness)\n",
    "    print(f\"code: {best_individual.code}\")\n",
    "    print(f\"fitness: {best_individual.fitness}\")\n",
    "\n",
    "    plt.plot(range(num_iters+1), tmp)\n",
    "    plt.xlabel(\"iterations\",color=\"red\",fontsize=10)\n",
    "    plt.ylabel(\"fitness\",color=\"blue\",fontsize=10)"
   ]
  },
  {
   "cell_type": "code",
   "execution_count": 31,
   "id": "83b5c6a7",
   "metadata": {},
   "outputs": [],
   "source": [
    "# ga_vns_piped( graph,\n",
    "#     num_iters = 20,\n",
    "#     use_elitism = True,\n",
    "#     population_size = 1000,\n",
    "#     elitism_size = 10,\n",
    "#     mutation_prob = 0.15,\n",
    "#     tournament_size = 10,\n",
    "#     )"
   ]
  },
  {
   "cell_type": "markdown",
   "id": "9a3b26f1",
   "metadata": {},
   "source": [
    "## Hibrid genetski algoritam i VNS sa dinamicki promenljivom verovatnocom mutacije (povezana sa fitnesom jedinke):"
   ]
  },
  {
   "cell_type": "code",
   "execution_count": 32,
   "id": "e135a493",
   "metadata": {},
   "outputs": [],
   "source": [
    "def ga_rvns_dynamic_mutation_adjustment(g,num_iters, use_elitism, elitism_size, mutation_prob, tournament_size, population_size, coef):\n",
    "    #init population\n",
    "    population = [Individual(g) for _ in range(population_size)]\n",
    "    new_population = [Individual(g) for _ in range(population_size)]\n",
    "    tmp = []\n",
    "    if not use_elitism:\n",
    "        elitism_size = 0\n",
    "\n",
    "    for j in range(num_iters):\n",
    "        if use_elitism:\n",
    "            population.sort()\n",
    "            tmp.append(population[0].fitness)\n",
    "            new_population[:elitism_size] = population[:elitism_size]\n",
    "        else:\n",
    "            current_best_fitness = min(population).fitness\n",
    "            tmp.append(current_best_fitness)\n",
    "                        \n",
    "        for i in range(elitism_size, population_size, 2):\n",
    "            #selection\n",
    "            parent1, parent1_idx = selection(population, tournament_size)\n",
    "            parent2, _ = selection(population, tournament_size, parent1_idx)\n",
    "            \n",
    "            #crossover\n",
    "            new_population[i].code , new_population[i+1].code = crossover(parent1, parent2)\n",
    "            \n",
    "            new_population[i].fitness = new_population[i].calc_fitness(g)\n",
    "            new_population[i+1].fitness = new_population[i+1].calc_fitness(g)\n",
    "            \n",
    "            #mutation\n",
    "            mutation(new_population[i],   mutation_prob - coef/new_population[i].fitness)\n",
    "            mutation(new_population[i+1], mutation_prob - coef/new_population[i+1].fitness)\n",
    "            \n",
    "            #calc_new_fitnesses\n",
    "            new_population[i].fitness = new_population[i].calc_fitness(g)\n",
    "            new_population[i+1].fitness = new_population[i+1].calc_fitness(g)\n",
    "            \n",
    "            #vns\n",
    "            rvns(graph,new_population[i], 2, 5, 0.5)\n",
    "            rvns(graph,new_population[i+1], 2, 5, 0.5)\n",
    "            \n",
    "            \n",
    "        #replace_population\n",
    "        rvns(graph,population[0], 3, 15, 0.5)\n",
    "        population[:] = new_population[:]\n",
    "\n",
    "    #find solution\n",
    "    best_individual = min(population)\n",
    "    tmp.append(best_individual.fitness)\n",
    "    print(f\"code: {best_individual.code}\")\n",
    "    print(f\"fitness: {best_individual.fitness}\")\n",
    "\n",
    "    plt.plot(range(num_iters+1), tmp)\n",
    "    plt.xlabel(\"iterations\",color=\"red\",fontsize=10)\n",
    "    plt.ylabel(\"fitness\",color=\"blue\",fontsize=10)\n",
    "    plt.show()\n",
    "    \n",
    "    "
   ]
  },
  {
   "cell_type": "code",
   "execution_count": 33,
   "id": "76fd80b3",
   "metadata": {},
   "outputs": [
    {
     "name": "stdout",
     "output_type": "stream",
     "text": [
      "code: [22, 12, 13, 16, 10, 6, 3, 1, 2, 4, 8, 9, 14, 18, 49, 48, 54, 53, 51, 52, 47, 40, 37, 46, 50, 67, 77, 86, 108, 126, 129, 136, 141, 137, 101, 73, 68, 21, 11, 26, 36, 38, 57, 60, 66, 72, 109, 111, 122, 123, 127, 132, 119, 114, 107, 106, 99, 83, 20, 17, 27, 28, 44, 82, 87, 91, 96, 80, 78, 76, 69, 63, 56, 59, 32, 23, 25, 24, 70, 75, 74, 71, 45, 43, 41, 34, 29, 31, 30, 33, 39, 42, 55, 65, 104, 105, 121, 140, 163, 168, 175, 181, 182, 183, 176, 180, 177, 179, 169, 165, 159, 142, 147, 146, 149, 153, 145, 139, 144, 148, 160, 162, 171, 193, 189, 186, 185, 155, 97, 85, 84, 89, 88, 79, 90, 92, 94, 95, 102, 112, 125, 124, 131, 133, 178, 188, 187, 192, 184, 170, 154, 135, 134, 130, 118, 113, 93, 62, 64, 19, 0, 5, 7, 15, 35, 58, 61, 81, 138, 173, 172, 156, 152, 151, 128, 120, 116, 115, 117, 150, 157, 158, 161, 166, 167, 164, 143, 110, 103, 98, 100, 174, 191, 190]\n",
      "fitness: 17671.321798100664\n"
     ]
    },
    {
     "data": {
      "image/png": "[encoded data removed]",
      "text/plain": [
       "<Figure size 432x288 with 1 Axes>"
      ]
     },
     "metadata": {
      "needs_background": "light"
     },
     "output_type": "display_data"
    }
   ],
   "source": [
    "ga_rvns_dynamic_mutation_adjustment( graph,\n",
    "    num_iters = 500,\n",
    "    use_elitism = True,\n",
    "    population_size = 1000,\n",
    "    elitism_size = 40,\n",
    "    mutation_prob = 0.2,\n",
    "    tournament_size = 15,\n",
    "    coef = 1500\n",
    "    )"
   ]
  },
  {
   "cell_type": "code",
   "execution_count": 34,
   "id": "3b2607fa",
   "metadata": {},
   "outputs": [
    {
     "data": {
      "text/plain": [
       "0.10065813982366821"
      ]
     },
     "execution_count": 34,
     "metadata": {},
     "output_type": "execute_result"
    }
   ],
   "source": [
    "0.20 - 4*1000/40265"
   ]
  },
  {
   "cell_type": "markdown",
   "id": "a149cc4a",
   "metadata": {},
   "source": [
    "## Hibrid genetksi algoritam i VNS (manja populacija i broj iteracija zbog velike slozenosti):"
   ]
  },
  {
   "cell_type": "code",
   "execution_count": 35,
   "id": "a05ab4aa",
   "metadata": {},
   "outputs": [],
   "source": [
    "def ga_vns(g,num_iters, use_elitism, elitism_size, mutation_prob, tournament_size, population_size):\n",
    "    #init population\n",
    "    population = [Individual(g) for _ in range(population_size)]\n",
    "    new_population = [Individual(g) for _ in range(population_size)]\n",
    "    tmp = []\n",
    "    if not use_elitism:\n",
    "        elitism_size = 0\n",
    "        \n",
    "    for _ in range(num_iters):\n",
    "        if use_elitism:\n",
    "            population.sort()\n",
    "            tmp.append(population[0].fitness)\n",
    "            new_population[:elitism_size] = population[:elitism_size]\n",
    "        else:\n",
    "            current_best_fitness = min(population)\n",
    "            tmp.append(current_best_fitness)\n",
    "            \n",
    "        for i in range(elitism_size, population_size, 2):\n",
    "            #selection\n",
    "            parent1, parent1_idx = selection(population, tournament_size)\n",
    "            parent2, _ = selection(population, tournament_size, parent1_idx)\n",
    "            \n",
    "            #crossover\n",
    "            new_population[i].code , new_population[i+1].code = crossover(parent1, parent2)\n",
    "            \n",
    "            #mutation\n",
    "            mutation(new_population[i], mutation_prob)\n",
    "            mutation(new_population[i+1], mutation_prob)\n",
    "            \n",
    "            #calc_new_fitnesses\n",
    "            new_population[i].fitness = new_population[i].calc_fitness(g)\n",
    "            new_population[i+1].fitness = new_population[i+1].calc_fitness(g)\n",
    "            \n",
    "            #vns\n",
    "            vns(graph,new_population[i], 2, 5, 0.5)\n",
    "            vns(graph,new_population[i+1], 2, 5, 0.5)\n",
    "            \n",
    "            \n",
    "        #replace_population\n",
    "        vns(graph,population[0], 3, 15, 0.5)\n",
    "        population[:] = new_population[:]\n",
    "\n",
    "    #find solution\n",
    "    best_individual = min(population)\n",
    "    print(tmp)\n",
    "    print(f\"code: {best_individual.code}\")\n",
    "    print(f\"fitness: {best_individual.fitness}\")\n",
    "\n",
    "    plt.plot(range(num_iters), tmp)\n",
    "    plt.xlabel(\"iterations\",color=\"red\",fontsize=10)\n",
    "    plt.ylabel(\"fitness\",color=\"blue\",fontsize=10)\n",
    "    "
   ]
  },
  {
   "cell_type": "code",
   "execution_count": 36,
   "id": "92ffbc41",
   "metadata": {},
   "outputs": [],
   "source": [
    "# ga_vns( graph,\n",
    "#     num_iters = 10,\n",
    "#     use_elitism = True,\n",
    "#     population_size = 150,\n",
    "#     elitism_size = 16,\n",
    "#     mutation_prob = 0.15,\n",
    "#     tournament_size = 10,\n",
    "#     )"
   ]
  },
  {
   "cell_type": "markdown",
   "id": "22bc3099",
   "metadata": {},
   "source": [
    "# Hibrid ga + vns + dinamicka mutacija (povezana sa brojem iteracije)"
   ]
  },
  {
   "cell_type": "code",
   "execution_count": 37,
   "id": "d2eacb12",
   "metadata": {},
   "outputs": [],
   "source": [
    "def ga_rvns_dynamic_iteration_depandent_mutation(g,num_iters, use_elitism, elitism_size, tournament_size, population_size):\n",
    "    #init population\n",
    "    population = [Individual(g) for _ in range(population_size)]\n",
    "    new_population = [Individual(g) for _ in range(population_size)]\n",
    "    tmp = []\n",
    "    if not use_elitism:\n",
    "        elitism_size = 0\n",
    "\n",
    "    for j in range(1,num_iters+1):\n",
    "        if use_elitism:\n",
    "            population.sort()\n",
    "            tmp.append(population[0].fitness)\n",
    "            new_population[:elitism_size] = population[:elitism_size]\n",
    "        else:\n",
    "            current_best_fitness = min(population).fitness\n",
    "            tmp.append(current_best_fitness)\n",
    "                        \n",
    "        for i in range(elitism_size, population_size, 2):\n",
    "            #selection\n",
    "            parent1, parent1_idx = selection(population, tournament_size)\n",
    "            parent2, _ = selection(population, tournament_size, parent1_idx)\n",
    "            \n",
    "            #crossover\n",
    "            new_population[i].code , new_population[i+1].code = crossover(parent1, parent2)\n",
    "                        \n",
    "            #mutation\n",
    "            mutation(new_population[i],  1/(2*j))\n",
    "            mutation(new_population[i+1],1/(2*j))\n",
    "            \n",
    "            #calc_new_fitnesses\n",
    "            new_population[i].fitness = new_population[i].calc_fitness(g)\n",
    "            new_population[i+1].fitness = new_population[i+1].calc_fitness(g)\n",
    "            \n",
    "            #vns\n",
    "            rvns(graph,new_population[i], 2, 5, 0.5)\n",
    "            rvns(graph,new_population[i+1], 2, 5, 0.5)\n",
    "            \n",
    "            \n",
    "        #replace_population\n",
    "        rvns(graph,population[0], 3, 15, 0.5)\n",
    "        population[:] = new_population[:]\n",
    "\n",
    "    #find solution\n",
    "    best_individual = min(population)\n",
    "    tmp.append(best_individual.fitness)\n",
    "    \n",
    "    print(f\"code: {best_individual.code}\")\n",
    "    print(f\"fitness: {best_individual.fitness}\")\n",
    "\n",
    "    plt.plot(range(1,num_iters+2), tmp)\n",
    "    plt.xlabel(\"iterations\",color=\"red\",fontsize=10)\n",
    "    plt.ylabel(\"fitness\",color=\"blue\",fontsize=10)\n",
    "    plt.show()"
   ]
  },
  {
   "cell_type": "code",
   "execution_count": 38,
   "id": "47b1c30c",
   "metadata": {},
   "outputs": [
    {
     "name": "stdout",
     "output_type": "stream",
     "text": [
      "code: [176, 167, 169, 166, 161, 147, 135, 130, 128, 120, 116, 115, 119, 122, 123, 127, 132, 134, 142, 159, 165, 170, 177, 180, 183, 182, 174, 172, 173, 171, 178, 185, 188, 190, 191, 189, 186, 193, 181, 175, 168, 163, 153, 149, 156, 164, 158, 157, 154, 150, 143, 138, 118, 86, 13, 10, 6, 2, 1, 3, 0, 5, 16, 20, 17, 21, 36, 46, 52, 51, 47, 45, 40, 37, 30, 11, 4, 8, 9, 26, 38, 50, 66, 99, 109, 111, 114, 146, 151, 152, 140, 105, 82, 78, 76, 49, 18, 14, 29, 31, 34, 55, 57, 60, 80, 91, 96, 95, 102, 101, 112, 125, 131, 133, 136, 139, 144, 155, 160, 162, 148, 137, 121, 117, 107, 106, 104, 83, 72, 65, 67, 63, 69, 77, 74, 79, 93, 89, 88, 35, 58, 61, 108, 113, 124, 126, 110, 103, 100, 98, 81, 70, 25, 23, 32, 68, 73, 87, 94, 92, 90, 12, 7, 19, 64, 62, 15, 22, 24, 71, 59, 56, 44, 43, 41, 48, 54, 53, 42, 39, 33, 28, 27, 75, 84, 85, 97, 129, 141, 145, 179, 184, 192, 187]\n",
      "fitness: 15902.953849014955\n"
     ]
    },
    {
     "data": {
      "image/png": "[encoded data removed]",
      "text/plain": [
       "<Figure size 432x288 with 1 Axes>"
      ]
     },
     "metadata": {
      "needs_background": "light"
     },
     "output_type": "display_data"
    }
   ],
   "source": [
    "ga_rvns_dynamic_iteration_depandent_mutation( graph,\n",
    "    num_iters = 500,\n",
    "    use_elitism = True,\n",
    "    population_size = 1000,\n",
    "    elitism_size = 40,\n",
    "    tournament_size = 15,\n",
    "    )"
   ]
  },
  {
   "cell_type": "code",
   "execution_count": 39,
   "id": "6742786c",
   "metadata": {},
   "outputs": [
    {
     "data": {
      "text/plain": [
       "0.10141307919815973"
      ]
     },
     "execution_count": 39,
     "metadata": {},
     "output_type": "execute_result"
    }
   ],
   "source": [
    "0.20 - 1500/15215"
   ]
  },
  {
   "cell_type": "code",
   "execution_count": null,
   "id": "bfc6f6ba",
   "metadata": {},
   "outputs": [],
   "source": []
  }
 ],
 "metadata": {
  "kernelspec": {
   "display_name": "Python 3 (ipykernel)",
   "language": "python",
   "name": "python3"
  },
  "language_info": {
   "codemirror_mode": {
    "name": "ipython",
    "version": 3
   },
   "file_extension": ".py",
   "mimetype": "text/x-python",
   "name": "python",
   "nbconvert_exporter": "python",
   "pygments_lexer": "ipython3",
   "version": "3.9.5"
  }
 },
 "nbformat": 4,
 "nbformat_minor": 5
}
