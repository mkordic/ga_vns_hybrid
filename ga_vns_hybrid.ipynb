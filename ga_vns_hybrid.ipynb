{
 "cells": [
  {
   "cell_type": "code",
   "execution_count": 1,
   "id": "6cb75926",
   "metadata": {},
   "outputs": [],
   "source": [
    "import networkx as nx\n",
    "import math\n",
    "import random\n",
    "import numpy as np\n",
    "from copy import deepcopy \n",
    "from matplotlib import pyplot as plt"
   ]
  },
  {
   "cell_type": "code",
   "execution_count": 2,
   "id": "3193f293",
   "metadata": {},
   "outputs": [],
   "source": [
    "def euclidean_distance(a_x, a_y, b_x, b_y):\n",
    "    return math.sqrt((a_x - b_x)**2 + (a_y - b_y)**2)"
   ]
  },
  {
   "cell_type": "code",
   "execution_count": 3,
   "id": "eb4dbd91",
   "metadata": {},
   "outputs": [],
   "source": [
    "def read_graph(file_path):\n",
    "    with open(file_path) as f:\n",
    "        g = nx.Graph()\n",
    "        for line in f:\n",
    "            if not line[0].isdigit():\n",
    "                continue\n",
    "            node, x, y = line.split()\n",
    "            node = int(node) - 1\n",
    "            x = float(x)\n",
    "            y = float(y)\n",
    "            g.add_node(node, x=x, y=y)\n",
    "        \n",
    "        for u in g.nodes:\n",
    "            for v in range(u + 1, len(g.nodes)):\n",
    "                g.add_edge(u, v,\n",
    "                           distance=euclidean_distance(g.nodes[u]['x'],\n",
    "                                                        g.nodes[u]['y'],\n",
    "                                                        g.nodes[v]['x'],\n",
    "                                                        g.nodes[v]['y']))\n",
    "        \n",
    "        return g"
   ]
  },
  {
   "cell_type": "code",
   "execution_count": 4,
   "id": "6ce61a2c",
   "metadata": {},
   "outputs": [],
   "source": [
    "graph = read_graph(\"qa194.tsp\")"
   ]
  },
  {
   "cell_type": "code",
   "execution_count": 5,
   "id": "3e7ba8a8",
   "metadata": {},
   "outputs": [
    {
     "data": {
      "text/plain": [
       "372.0941512342277"
      ]
     },
     "execution_count": 5,
     "metadata": {},
     "output_type": "execute_result"
    }
   ],
   "source": [
    "graph[0][1][\"distance\"]"
   ]
  },
  {
   "cell_type": "code",
   "execution_count": 6,
   "id": "e558e1eb",
   "metadata": {},
   "outputs": [
    {
     "data": {
      "text/plain": [
       "NodeView((0, 1, 2, 3, 4, 5, 6, 7, 8, 9, 10, 11, 12, 13, 14, 15, 16, 17, 18, 19, 20, 21, 22, 23, 24, 25, 26, 27, 28, 29, 30, 31, 32, 33, 34, 35, 36, 37, 38, 39, 40, 41, 42, 43, 44, 45, 46, 47, 48, 49, 50, 51, 52, 53, 54, 55, 56, 57, 58, 59, 60, 61, 62, 63, 64, 65, 66, 67, 68, 69, 70, 71, 72, 73, 74, 75, 76, 77, 78, 79, 80, 81, 82, 83, 84, 85, 86, 87, 88, 89, 90, 91, 92, 93, 94, 95, 96, 97, 98, 99, 100, 101, 102, 103, 104, 105, 106, 107, 108, 109, 110, 111, 112, 113, 114, 115, 116, 117, 118, 119, 120, 121, 122, 123, 124, 125, 126, 127, 128, 129, 130, 131, 132, 133, 134, 135, 136, 137, 138, 139, 140, 141, 142, 143, 144, 145, 146, 147, 148, 149, 150, 151, 152, 153, 154, 155, 156, 157, 158, 159, 160, 161, 162, 163, 164, 165, 166, 167, 168, 169, 170, 171, 172, 173, 174, 175, 176, 177, 178, 179, 180, 181, 182, 183, 184, 185, 186, 187, 188, 189, 190, 191, 192, 193))"
      ]
     },
     "execution_count": 6,
     "metadata": {},
     "output_type": "execute_result"
    }
   ],
   "source": [
    "graph.nodes"
   ]
  },
  {
   "cell_type": "code",
   "execution_count": 7,
   "id": "e7762820",
   "metadata": {},
   "outputs": [],
   "source": [
    "def foo(path, g):\n",
    "    length = 0\n",
    "    for node in range(len(path) - 1):\n",
    "        length += g[node][node + 1][\"distance\"]\n",
    "        print(node, node + 1, g[node][node+1][\"distance\"])\n",
    "    length += g[path[len(path)-1]][path[0]][\"distance\"]\n",
    "    return length"
   ]
  },
  {
   "cell_type": "code",
   "execution_count": 8,
   "id": "cb03b7cd",
   "metadata": {},
   "outputs": [
    {
     "name": "stdout",
     "output_type": "stream",
     "text": [
      "0 1 372.0941512342277\n",
      "1 2 195.13370816373165\n",
      "2 3 232.89721626863317\n",
      "3 4 384.9619376407208\n",
      "4 5 509.6337902096542\n",
      "5 6 236.75180874589202\n",
      "6 7 201.19879287185466\n",
      "7 8 440.3472045576438\n",
      "8 9 6.009233635829901\n",
      "9 10 303.9038081346991\n",
      "10 11 320.74812099755644\n",
      "11 12 374.2418594824625\n",
      "12 13 57.354195278546236\n",
      "13 14 386.15106659773903\n",
      "14 15 520.5566857926832\n",
      "15 16 183.1237725699501\n",
      "16 17 130.07897911903393\n",
      "17 18 225.0006859797543\n",
      "18 19 811.9492516488319\n",
      "19 20 571.6667674495185\n",
      "20 21 73.31862461919532\n",
      "21 22 277.22355270223835\n",
      "22 23 159.1530995575309\n",
      "23 24 130.2803656459778\n",
      "24 25 126.95199775730225\n",
      "25 26 165.55559999999969\n",
      "26 27 67.05676000024317\n",
      "27 28 23.612734192593823\n"
     ]
    },
    {
     "data": {
      "text/plain": [
       "8274.297122567068"
      ]
     },
     "execution_count": 8,
     "metadata": {},
     "output_type": "execute_result"
    }
   ],
   "source": [
    "foo([0, 1, 2, 3, 4, 5, 6, 7, 8, 9, 10, 11, 12, 13, 14, 15, 16, 17, 18, 19, 20, 21, 22, 23, 24, 25, 26, 27, 28], graph)"
   ]
  },
  {
   "cell_type": "code",
   "execution_count": 9,
   "id": "86dd5281",
   "metadata": {},
   "outputs": [],
   "source": [
    "# kodiranje\n",
    "# fitness\n",
    "# ukrstanje\n",
    "# selekcija\n",
    "# mutacija"
   ]
  },
  {
   "cell_type": "code",
   "execution_count": 10,
   "id": "d51e6503",
   "metadata": {},
   "outputs": [],
   "source": [
    "class Individual:\n",
    "    def __init__(self, g):\n",
    "        num_cities = len(g.nodes)\n",
    "        self.code = np.random.permutation(num_cities).tolist()\n",
    "        self.fitness = self.calc_fitness(g)\n",
    "        \n",
    "        \n",
    "    def calc_fitness(self,g):\n",
    "        length = 0\n",
    "        n = len(self.code)\n",
    "        for i in range(n-1):\n",
    "            length += g[self.code[i]][self.code[i+1]][\"distance\"]\n",
    "        length += g[self.code[-1]][self.code[0]][\"distance\"]\n",
    "        return length\n",
    "    \n",
    "    def __lt__(self, other):\n",
    "        return self.fitness < other.fitness"
   ]
  },
  {
   "cell_type": "code",
   "execution_count": 11,
   "id": "2b7ba4e1",
   "metadata": {},
   "outputs": [],
   "source": [
    "i = Individual(graph)"
   ]
  },
  {
   "cell_type": "code",
   "execution_count": 12,
   "id": "59e97022",
   "metadata": {},
   "outputs": [
    {
     "data": {
      "text/plain": [
       "85892.11435116499"
      ]
     },
     "execution_count": 12,
     "metadata": {},
     "output_type": "execute_result"
    }
   ],
   "source": [
    "i.fitness"
   ]
  },
  {
   "cell_type": "code",
   "execution_count": 13,
   "id": "ef58897d",
   "metadata": {},
   "outputs": [
    {
     "data": {
      "text/plain": [
       "23.612734192593823"
      ]
     },
     "execution_count": 13,
     "metadata": {},
     "output_type": "execute_result"
    }
   ],
   "source": [
    "graph[27][28][\"distance\"]"
   ]
  },
  {
   "cell_type": "code",
   "execution_count": 14,
   "id": "8dcb449d",
   "metadata": {},
   "outputs": [
    {
     "data": {
      "text/plain": [
       "194"
      ]
     },
     "execution_count": 14,
     "metadata": {},
     "output_type": "execute_result"
    }
   ],
   "source": [
    "len(i.code)"
   ]
  },
  {
   "cell_type": "code",
   "execution_count": 15,
   "id": "644df15e",
   "metadata": {},
   "outputs": [],
   "source": [
    "#for now, tournament selection\n",
    "def selection(population, tournament_size,forbidden=None):\n",
    "    allowed = list(set(range(len(population))).difference({forbidden}))\n",
    "    chosen_indices = random.sample(allowed, tournament_size)\n",
    "    best_fitness = float('inf')\n",
    "    winner = None\n",
    "    winner_idx = None\n",
    "    for index in chosen_indices:\n",
    "        if best_fitness > population[index].fitness:\n",
    "            winner = population[index]\n",
    "            winner_idx = index\n",
    "            best_fitness = winner.fitness\n",
    "    return winner,winner_idx"
   ]
  },
  {
   "cell_type": "code",
   "execution_count": 16,
   "id": "b804fb49",
   "metadata": {},
   "outputs": [],
   "source": [
    "def crossover(parent1, parent2):\n",
    "    \n",
    "    n = len(parent1.code)\n",
    "    child1 = []\n",
    "    child2 = []\n",
    "    \n",
    "    breakpoint = random.randrange(n)\n",
    "    \n",
    "    child1.extend(parent1.code[:breakpoint])\n",
    "    child2.extend(parent2.code[:breakpoint])\n",
    "    \n",
    "    for city in parent2.code:\n",
    "        if city not in child1:\n",
    "            child1.append(city)\n",
    "    for city in parent1.code:\n",
    "        if city not in child2:\n",
    "            child2.append(city)\n",
    "            \n",
    "    return child1, child2"
   ]
  },
  {
   "cell_type": "code",
   "execution_count": 17,
   "id": "379ed919",
   "metadata": {},
   "outputs": [],
   "source": [
    "def mutation(child, mutation_prob):\n",
    "    \n",
    "    p = random.random()\n",
    "\n",
    "    if p <= mutation_prob:\n",
    "        n = len(child.code)\n",
    "        random_index1 = random.randrange(n)\n",
    "        allowed = list(set(range(n)).difference({random_index1}))\n",
    "        random_index2 = random.choice(allowed)\n",
    "        child.code[random_index1], child.code[random_index2] = child.code[random_index2], child.code[random_index1]\n",
    "    "
   ]
  },
  {
   "cell_type": "code",
   "execution_count": 18,
   "id": "44b6bb1b",
   "metadata": {},
   "outputs": [],
   "source": [
    "def local_search(graph,solution_after_shaking):\n",
    "    n = len(solution_after_shaking.code)\n",
    "    swaps=[]\n",
    "    for i in range(n-1):\n",
    "        for j in range(i+1,n):\n",
    "            swaps.append((i,j))\n",
    "    new_solution = Individual(graph)\n",
    "    for i,j in swaps:\n",
    "        new_solution.code[i], new_solution.code[j] = new_solution.code[j], new_solution.code[i]\n",
    "        new_solution.fitness = new_solution.calc_fitness(graph)\n",
    "        if new_solution.fitness < solution_after_shaking.fitness:\n",
    "            solution_after_shaking.code[:] = new_solution.code[:]\n",
    "            solution_after_shaking.fitness = new_solution.fitness\n",
    "        "
   ]
  },
  {
   "cell_type": "code",
   "execution_count": 19,
   "id": "37919ad8",
   "metadata": {},
   "outputs": [],
   "source": [
    "def shaking(solution, k):\n",
    "    n = len(solution.code)\n",
    "    new_solution = deepcopy(solution)\n",
    "    for _ in range(k):\n",
    "        i, j = random.sample(range(n), 2)\n",
    "        new_solution.code[i], new_solution.code[j] = new_solution.code[j], new_solution.code[i]\n",
    "    \n",
    "    return new_solution\n",
    "        "
   ]
  },
  {
   "cell_type": "code",
   "execution_count": 20,
   "id": "34161374",
   "metadata": {},
   "outputs": [],
   "source": [
    "def vns(graph,individual, max_k, max_iter, move_prob):\n",
    "    \n",
    "    solution = deepcopy(individual)\n",
    "    value = individual.fitness\n",
    "    \n",
    "    for i in range(max_iter):\n",
    "        for k in range(max_k):\n",
    "            new_solution = shaking(solution, k)\n",
    "            local_search(graph,new_solution)\n",
    "            \n",
    "            new_solution.fitness = new_solution.calc_fitness(graph)\n",
    "            new_value = new_solution.fitness\n",
    "            if new_value < value or (new_value == value and random.random() < move_prob):\n",
    "                value = new_value\n",
    "                solution = deepcopy(new_solution)\n",
    "        \n",
    "    individual.code[:] = solution.code[:]\n",
    "    individual.fitness = value"
   ]
  },
  {
   "cell_type": "code",
   "execution_count": 21,
   "id": "06a901c2",
   "metadata": {},
   "outputs": [],
   "source": [
    "def vns_benchmark_version(graph,individual, max_k, max_iter, move_prob):\n",
    "    \n",
    "    solution = deepcopy(individual)\n",
    "    value = individual.fitness\n",
    "    tmp = []\n",
    "    \n",
    "    for i in range(max_iter):\n",
    "        tmp.append(solution.fitness)\n",
    "        for k in range(max_k):\n",
    "            new_solution = shaking(solution, k)\n",
    "            local_search(graph,new_solution)\n",
    "            \n",
    "            new_solution.fitness = new_solution.calc_fitness(graph)\n",
    "            new_value = new_solution.fitness\n",
    "            if new_value < value or (new_value == value and random.random() < move_prob):\n",
    "                value = new_value\n",
    "                solution = deepcopy(new_solution)\n",
    "    \n",
    "    plt.plot(range(max_iter), tmp)\n",
    "    plt.xlabel(\"iterations\",color=\"red\",fontsize=10)\n",
    "    plt.ylabel(\"fitness\",color=\"blue\",fontsize=10)\n",
    "    \n",
    "    individual.code[:] = solution.code[:]\n",
    "    individual.fitness = value"
   ]
  },
  {
   "cell_type": "code",
   "execution_count": 22,
   "id": "4f2c3d95",
   "metadata": {},
   "outputs": [],
   "source": [
    "def rvns(graph,individual, max_k, max_iter, move_prob):\n",
    "    \n",
    "    solution = deepcopy(individual)\n",
    "    value = individual.fitness\n",
    "    \n",
    "    for i in range(max_iter):\n",
    "        for k in range(max_k):\n",
    "            new_solution = shaking(solution, k)\n",
    "            \n",
    "            new_solution.fitness = new_solution.calc_fitness(graph)\n",
    "            new_value = new_solution.fitness\n",
    "            if new_value < value or (new_value == value and random.random() < move_prob):\n",
    "                value = new_value\n",
    "                solution = deepcopy(new_solution)\n",
    "        \n",
    "    individual.code[:] = solution.code[:]\n",
    "    individual.fitness = value"
   ]
  },
  {
   "cell_type": "markdown",
   "id": "f5c4b0aa",
   "metadata": {},
   "source": [
    "## Pretraga uz pomoc VNS-a:"
   ]
  },
  {
   "cell_type": "code",
   "execution_count": 23,
   "id": "d4fd7452",
   "metadata": {},
   "outputs": [],
   "source": [
    "# i1 = Individual(graph)\n",
    "# # i1.code = [8, 6, 3, 4, 0, 1, 5, 7, 12, 14, 17, 20, 25, 15, 13, 10, 9, 11, 18, 21, 22, 28, 19, 23, 26, 24, 27, 16, 2]\n",
    "# # i1.fitness = i1.calc_fitness(graph)\n",
    "# print(i1.code)\n",
    "# print(i1.fitness)\n",
    "# print()\n",
    "# vns_benchmark_version(graph,i1, 10, 100, 0.5)\n",
    "# print(i1.code)\n",
    "# print(i1.fitness)\n"
   ]
  },
  {
   "cell_type": "markdown",
   "id": "df360f2d",
   "metadata": {},
   "source": [
    "## Genetski algoritam osnovna verzija:"
   ]
  },
  {
   "cell_type": "code",
   "execution_count": 25,
   "id": "4a6d7c74",
   "metadata": {},
   "outputs": [],
   "source": [
    "global_population = [Individual(graph) for _ in range(1000)]"
   ]
  },
  {
   "cell_type": "code",
   "execution_count": 26,
   "id": "fc233a6d",
   "metadata": {},
   "outputs": [],
   "source": [
    "def ga(g,num_iters, use_elitism, elitism_size, mutation_prob, tournament_size, population_size):\n",
    "    #init population\n",
    "    #population = [Individual(g) for _ in range(population_size)]\n",
    "    population = deepcopy(global_population)\n",
    "    new_population = [Individual(g) for _ in range(population_size)]\n",
    "    tmp = []\n",
    "    if not use_elitism:\n",
    "        elitism_size = 0\n",
    "        \n",
    "    for _ in range(num_iters):\n",
    "        if use_elitism:\n",
    "            population.sort()\n",
    "            tmp.append(population[0].fitness)\n",
    "            new_population[:elitism_size] = population[:elitism_size]\n",
    "        else:\n",
    "            current_best_fitness = min(population).fitness\n",
    "            tmp.append(current_best)\n",
    "            \n",
    "        for i in range(elitism_size, population_size, 2):\n",
    "            #selection\n",
    "            parent1, parent1_idx = selection(population, tournament_size)\n",
    "            parent2, _ = selection(population, tournament_size, parent1_idx)\n",
    "            \n",
    "            #crossover\n",
    "            new_population[i].code , new_population[i+1].code = crossover(parent1, parent2)\n",
    "            \n",
    "            #mutation\n",
    "            mutation(new_population[i], mutation_prob)\n",
    "            mutation(new_population[i+1], mutation_prob)\n",
    "            \n",
    "            #calc_new_fitnesses\n",
    "            new_population[i].fitness = new_population[i].calc_fitness(g)\n",
    "            new_population[i+1].fitness = new_population[i+1].calc_fitness(g)\n",
    "            \n",
    "            \n",
    "        #replace_population\n",
    "        population[:] = new_population[:]\n",
    "\n",
    "    #find solution\n",
    "    best_individual = min(population)\n",
    "    tmp.append(best_individual.fitness)\n",
    "    print(f\"code: {best_individual.code}\")\n",
    "    print(f\"fitness: {best_individual.fitness}\")\n",
    "    \n",
    "    #graph\n",
    "    plt.plot(range(num_iters+1), tmp)\n",
    "    plt.xlabel(\"iterations\",color=\"red\",fontsize=10)\n",
    "    plt.ylabel(\"fitness\",color=\"blue\",fontsize=10)\n",
    "    plt.show()\n",
    "    "
   ]
  },
  {
   "cell_type": "code",
   "execution_count": 26,
   "id": "a78f24bd",
   "metadata": {},
   "outputs": [
    {
     "name": "stdout",
     "output_type": "stream",
     "text": [
      "code: [56, 59, 23, 25, 71, 74, 86, 101, 102, 94, 96, 83, 72, 18, 11, 9, 8, 5, 7, 12, 10, 13, 24, 77, 92, 95, 105, 117, 130, 140, 143, 138, 137, 160, 162, 168, 172, 183, 188, 191, 190, 180, 176, 174, 163, 145, 141, 136, 113, 112, 108, 90, 87, 91, 104, 132, 159, 165, 177, 179, 184, 170, 169, 166, 157, 158, 164, 167, 161, 154, 147, 142, 134, 120, 114, 80, 78, 76, 66, 60, 50, 46, 38, 39, 37, 34, 41, 49, 48, 43, 51, 52, 55, 57, 65, 67, 69, 68, 73, 75, 70, 22, 1, 2, 4, 14, 26, 21, 17, 6, 3, 0, 19, 64, 89, 88, 61, 58, 81, 79, 100, 103, 110, 126, 175, 181, 193, 189, 186, 182, 173, 82, 36, 33, 29, 31, 30, 28, 27, 32, 44, 63, 99, 107, 106, 115, 116, 135, 150, 151, 152, 149, 153, 148, 155, 129, 97, 62, 35, 15, 16, 20, 40, 45, 47, 109, 111, 119, 128, 156, 171, 178, 185, 187, 192, 146, 121, 118, 139, 144, 133, 131, 124, 125, 98, 93, 84, 85, 127, 123, 122, 54, 53, 42]\n",
      "fitness: 18570.909608872127\n"
     ]
    },
    {
     "data": {
      "image/png": "[encoded data removed]",
      "text/plain": [
       "<Figure size 432x288 with 1 Axes>"
      ]
     },
     "metadata": {
      "needs_background": "light"
     },
     "output_type": "display_data"
    }
   ],
   "source": [
    "ga( graph,\n",
    "    num_iters = 500,\n",
    "    use_elitism = True,\n",
    "    population_size = 1000,\n",
    "    elitism_size = 10,\n",
    "    mutation_prob = 0.15,\n",
    "    tournament_size = 10,\n",
    "    )"
   ]
  },
  {
   "cell_type": "markdown",
   "id": "febc892c",
   "metadata": {},
   "source": [
    "## Hibrid genetski algoritam i redukovani vns:"
   ]
  },
  {
   "cell_type": "code",
   "execution_count": 27,
   "id": "97fe9e42",
   "metadata": {},
   "outputs": [],
   "source": [
    "def ga_rvns(g,num_iters, use_elitism, elitism_size, mutation_prob, tournament_size, population_size):\n",
    "    #init population\n",
    "    #population = [Individual(g) for _ in range(population_size)]\n",
    "    population = deepcopy(global_population)\n",
    "    new_population = [Individual(g) for _ in range(population_size)]\n",
    "    tmp = []\n",
    "    if not use_elitism:\n",
    "        elitism_size = 0\n",
    "        \n",
    "    for _ in range(num_iters):\n",
    "        if use_elitism:\n",
    "            population.sort()\n",
    "            tmp.append(population[0].fitness)\n",
    "            new_population[:elitism_size] = population[:elitism_size]\n",
    "        else:\n",
    "            current_best_fitness = min(population).fitness\n",
    "            tmp.append(current_best_fitness)\n",
    "            \n",
    "        for i in range(elitism_size, population_size, 2):\n",
    "            #selection\n",
    "            parent1, parent1_idx = selection(population, tournament_size)\n",
    "            parent2, _ = selection(population, tournament_size, parent1_idx)\n",
    "            \n",
    "            #crossover\n",
    "            new_population[i].code , new_population[i+1].code = crossover(parent1, parent2)\n",
    "            \n",
    "            #mutation\n",
    "            mutation(new_population[i], mutation_prob)\n",
    "            mutation(new_population[i+1], mutation_prob)\n",
    "            \n",
    "            #calc_new_fitnesses\n",
    "            new_population[i].fitness = new_population[i].calc_fitness(g)\n",
    "            new_population[i+1].fitness = new_population[i+1].calc_fitness(g)\n",
    "            \n",
    "            #vns\n",
    "            rvns(graph,new_population[i], 2, 5, 0.5)\n",
    "            rvns(graph,new_population[i+1], 2, 5, 0.5)\n",
    "            \n",
    "            \n",
    "        #replace_population\n",
    "        rvns(graph,population[0], 3, 15, 0.5)\n",
    "        population[:] = new_population[:]\n",
    "\n",
    "    #find solution\n",
    "    best_individual = min(population)\n",
    "    tmp.append(best_individual.fitness)\n",
    "    print(f\"code: {best_individual.code}\")\n",
    "    print(f\"fitness: {best_individual.fitness}\")\n",
    "\n",
    "    plt.plot(range(num_iters+1), tmp)\n",
    "    plt.xlabel(\"iterations\",color=\"red\",fontsize=10)\n",
    "    plt.ylabel(\"fitness\",color=\"blue\",fontsize=10)\n",
    "    "
   ]
  },
  {
   "cell_type": "code",
   "execution_count": 28,
   "id": "b523f3bd",
   "metadata": {
    "scrolled": true
   },
   "outputs": [
    {
     "name": "stdout",
     "output_type": "stream",
     "text": [
      "code: [140, 143, 149, 152, 151, 157, 161, 166, 169, 179, 180, 193, 181, 175, 176, 177, 167, 164, 158, 146, 92, 56, 27, 21, 14, 18, 29, 31, 34, 40, 45, 55, 57, 72, 107, 106, 154, 150, 138, 137, 133, 131, 124, 125, 112, 108, 59, 28, 26, 33, 37, 43, 41, 49, 48, 54, 53, 51, 52, 47, 42, 39, 38, 36, 44, 63, 69, 83, 99, 109, 111, 114, 119, 132, 134, 128, 120, 116, 115, 104, 91, 68, 25, 23, 6, 3, 1, 0, 5, 7, 12, 15, 35, 58, 61, 79, 101, 142, 147, 135, 130, 102, 77, 71, 20, 17, 8, 9, 67, 76, 78, 80, 159, 165, 170, 184, 192, 187, 189, 186, 182, 185, 178, 171, 168, 162, 160, 155, 144, 139, 22, 10, 2, 4, 11, 30, 60, 66, 65, 82, 87, 90, 86, 62, 19, 64, 85, 129, 153, 156, 174, 183, 190, 191, 188, 172, 173, 163, 148, 145, 141, 136, 126, 103, 100, 75, 74, 73, 50, 46, 32, 16, 13, 24, 70, 81, 88, 98, 93, 89, 84, 97, 110, 113, 118, 121, 127, 123, 122, 96, 94, 95, 105, 117]\n",
      "fitness: 17727.01960459582\n"
     ]
    },
    {
     "data": {
      "image/png": "[encoded data removed]",
      "text/plain": [
       "<Figure size 432x288 with 1 Axes>"
      ]
     },
     "metadata": {
      "needs_background": "light"
     },
     "output_type": "display_data"
    }
   ],
   "source": [
    "ga_rvns( graph,\n",
    "    num_iters = 500,\n",
    "    use_elitism = True,\n",
    "    population_size = 1000,\n",
    "    elitism_size = 40,\n",
    "    mutation_prob = 0.15,\n",
    "    tournament_size = 15,\n",
    "    )"
   ]
  },
  {
   "cell_type": "markdown",
   "id": "64867c75",
   "metadata": {},
   "source": [
    "## Hibrid genetski algoritam i VNS koji se primenjuje samo na najbolju jedinku u generaciji:"
   ]
  },
  {
   "cell_type": "code",
   "execution_count": 27,
   "id": "91b42055",
   "metadata": {},
   "outputs": [],
   "source": [
    "def ga_vns_best_only(g,num_iters, use_elitism, elitism_size, mutation_prob, tournament_size, population_size):\n",
    "    #init population\n",
    "    #population = [Individual(g) for _ in range(population_size)]\n",
    "    population = deepcopy(global_population)\n",
    "    new_population = [Individual(g) for _ in range(population_size)]\n",
    "    tmp = []\n",
    "    if not use_elitism:\n",
    "        elitism_size = 0\n",
    "        \n",
    "    for _ in range(num_iters):\n",
    "        if use_elitism:\n",
    "            population.sort()\n",
    "            tmp.append(population[0].fitness)\n",
    "            new_population[:elitism_size] = population[:elitism_size]\n",
    "        else:\n",
    "            current_best_fitness = min(population).fitness\n",
    "            tmp.append(current_best_fitness)\n",
    "            \n",
    "        for i in range(elitism_size, population_size, 2):\n",
    "            #selection\n",
    "            parent1, parent1_idx = selection(population, tournament_size)\n",
    "            parent2, _ = selection(population, tournament_size, parent1_idx)\n",
    "            \n",
    "            #crossover\n",
    "            new_population[i].code , new_population[i+1].code = crossover(parent1, parent2)\n",
    "            \n",
    "            #mutation\n",
    "            mutation(new_population[i], mutation_prob)\n",
    "            mutation(new_population[i+1], mutation_prob)\n",
    "            \n",
    "            #calc_new_fitnesses\n",
    "            new_population[i].fitness = new_population[i].calc_fitness(g)\n",
    "            new_population[i+1].fitness = new_population[i+1].calc_fitness(g)\n",
    "                        \n",
    "        #replace_population\n",
    "        vns(graph,population[0], 7, 30, 0.5)\n",
    "        population[:] = new_population[:]\n",
    "\n",
    "    #find solution\n",
    "    best_individual = min(population)\n",
    "    tmp.append(best_individual.fitness)\n",
    "    print(f\"code: {best_individual.code}\")\n",
    "    print(f\"fitness: {best_individual.fitness}\")\n",
    "\n",
    "    plt.plot(range(num_iters+1), tmp)\n",
    "    plt.xlabel(\"iterations\",color=\"red\",fontsize=10)\n",
    "    plt.ylabel(\"fitness\",color=\"blue\",fontsize=10)\n",
    "    "
   ]
  },
  {
   "cell_type": "code",
   "execution_count": 30,
   "id": "869bfbe4",
   "metadata": {},
   "outputs": [],
   "source": [
    "# ga_vns_best_only( graph,\n",
    "#     num_iters = 20,\n",
    "#     use_elitism = True,\n",
    "#     population_size = 1000,\n",
    "#     elitism_size = 10,\n",
    "#     mutation_prob = 0.15,\n",
    "#     tournament_size = 10,\n",
    "#     )"
   ]
  },
  {
   "cell_type": "markdown",
   "id": "9adbdf8c",
   "metadata": {},
   "source": [
    "## Hibrid genetski algoritam i VNS koji se primenjuje na najbolju jedniku nakon kraja genetskog:"
   ]
  },
  {
   "cell_type": "code",
   "execution_count": 23,
   "id": "95face6d",
   "metadata": {},
   "outputs": [],
   "source": [
    "def ga_vns_piped(g,num_iters, use_elitism, elitism_size, mutation_prob, tournament_size, population_size):\n",
    "    #init population\n",
    "    #population = [Individual(g) for _ in range(population_size)]\n",
    "    population = deepcopy(global_population)\n",
    "    new_population = [Individual(g) for _ in range(population_size)]\n",
    "    tmp = []\n",
    "    if not use_elitism:\n",
    "        elitism_size = 0\n",
    "        \n",
    "    for _ in range(num_iters):\n",
    "        if use_elitism:\n",
    "            population.sort()\n",
    "            tmp.append(population[0].fitness)\n",
    "            new_population[:elitism_size] = population[:elitism_size]\n",
    "        else:\n",
    "            current_best_fitness = min(population).fitness\n",
    "            tmp.append(current_best_fitness)\n",
    "            \n",
    "        for i in range(elitism_size, population_size, 2):\n",
    "            #selection\n",
    "            parent1, parent1_idx = selection(population, tournament_size)\n",
    "            parent2, _ = selection(population, tournament_size, parent1_idx)\n",
    "            \n",
    "            #crossover\n",
    "            new_population[i].code , new_population[i+1].code = crossover(parent1, parent2)\n",
    "            \n",
    "            #mutation\n",
    "            mutation(new_population[i], mutation_prob)\n",
    "            mutation(new_population[i+1], mutation_prob)\n",
    "            \n",
    "            #calc_new_fitnesses\n",
    "            new_population[i].fitness = new_population[i].calc_fitness(g)\n",
    "            new_population[i+1].fitness = new_population[i+1].calc_fitness(g)\n",
    "            \n",
    "            #vns\n",
    "            rvns(graph,new_population[i], 2, 5, 0.5)\n",
    "            rvns(graph,new_population[i+1], 2, 5, 0.5)\n",
    "            \n",
    "            \n",
    "        #replace_population\n",
    "        population[:] = new_population[:]\n",
    "\n",
    "    #find solution\n",
    "    best_individual = min(population)\n",
    "    print(f'best indivudual fitness before another vns: {best_individual.fitness}')\n",
    "    vns(graph, best_individual, 10, 100, 0.5)\n",
    "    tmp.append(best_individual.fitness)\n",
    "    print(f\"code: {best_individual.code}\")\n",
    "    print(f\"fitness: {best_individual.fitness}\")\n",
    "\n",
    "    plt.plot(range(num_iters+1), tmp)\n",
    "    plt.xlabel(\"iterations\",color=\"red\",fontsize=10)\n",
    "    plt.ylabel(\"fitness\",color=\"blue\",fontsize=10)"
   ]
  },
  {
   "cell_type": "code",
   "execution_count": 32,
   "id": "83b5c6a7",
   "metadata": {},
   "outputs": [],
   "source": [
    "# ga_vns_piped( graph,\n",
    "#     num_iters = 20,\n",
    "#     use_elitism = True,\n",
    "#     population_size = 1000,\n",
    "#     elitism_size = 10,\n",
    "#     mutation_prob = 0.15,\n",
    "#     tournament_size = 10,\n",
    "#     )"
   ]
  },
  {
   "cell_type": "markdown",
   "id": "9a3b26f1",
   "metadata": {},
   "source": [
    "## Hibrid genetski algoritam i VNS sa dinamicki promenljivom verovatnocom mutacije (povezana sa fitnesom jedinke):"
   ]
  },
  {
   "cell_type": "code",
   "execution_count": 33,
   "id": "e135a493",
   "metadata": {},
   "outputs": [],
   "source": [
    "def ga_rvns_dynamic_mutation_adjustment(g,num_iters, use_elitism, elitism_size, mutation_prob, tournament_size, population_size, coef):\n",
    "    #init population\n",
    "    #population = [Individual(g) for _ in range(population_size)]\n",
    "    population = deepcopy(global_population)\n",
    "    new_population = [Individual(g) for _ in range(population_size)]\n",
    "    tmp = []\n",
    "    if not use_elitism:\n",
    "        elitism_size = 0\n",
    "\n",
    "    for j in range(num_iters):\n",
    "        if use_elitism:\n",
    "            population.sort()\n",
    "            tmp.append(population[0].fitness)\n",
    "            new_population[:elitism_size] = population[:elitism_size]\n",
    "        else:\n",
    "            current_best_fitness = min(population).fitness\n",
    "            tmp.append(current_best_fitness)\n",
    "                        \n",
    "        for i in range(elitism_size, population_size, 2):\n",
    "            #selection\n",
    "            parent1, parent1_idx = selection(population, tournament_size)\n",
    "            parent2, _ = selection(population, tournament_size, parent1_idx)\n",
    "            \n",
    "            #crossover\n",
    "            new_population[i].code , new_population[i+1].code = crossover(parent1, parent2)\n",
    "            \n",
    "            new_population[i].fitness = new_population[i].calc_fitness(g)\n",
    "            new_population[i+1].fitness = new_population[i+1].calc_fitness(g)\n",
    "            \n",
    "            #mutation\n",
    "            mutation(new_population[i],   mutation_prob - coef/new_population[i].fitness)\n",
    "            mutation(new_population[i+1], mutation_prob - coef/new_population[i+1].fitness)\n",
    "            \n",
    "            #calc_new_fitnesses\n",
    "            new_population[i].fitness = new_population[i].calc_fitness(g)\n",
    "            new_population[i+1].fitness = new_population[i+1].calc_fitness(g)\n",
    "            \n",
    "            #vns\n",
    "            rvns(graph,new_population[i], 2, 5, 0.5)\n",
    "            rvns(graph,new_population[i+1], 2, 5, 0.5)\n",
    "            \n",
    "            \n",
    "        #replace_population\n",
    "        rvns(graph,population[0], 3, 15, 0.5)\n",
    "        population[:] = new_population[:]\n",
    "\n",
    "    #find solution\n",
    "    best_individual = min(population)\n",
    "    tmp.append(best_individual.fitness)\n",
    "    print(f\"code: {best_individual.code}\")\n",
    "    print(f\"fitness: {best_individual.fitness}\")\n",
    "\n",
    "    plt.plot(range(num_iters+1), tmp)\n",
    "    plt.xlabel(\"iterations\",color=\"red\",fontsize=10)\n",
    "    plt.ylabel(\"fitness\",color=\"blue\",fontsize=10)\n",
    "    plt.show()\n",
    "    \n",
    "    "
   ]
  },
  {
   "cell_type": "code",
   "execution_count": 34,
   "id": "76fd80b3",
   "metadata": {},
   "outputs": [
    {
     "name": "stdout",
     "output_type": "stream",
     "text": [
      "code: [143, 151, 146, 167, 176, 183, 180, 177, 179, 169, 170, 165, 159, 147, 142, 119, 111, 72, 66, 60, 57, 42, 37, 40, 45, 47, 51, 52, 55, 46, 38, 33, 26, 21, 28, 27, 32, 17, 20, 16, 10, 19, 64, 62, 88, 98, 103, 110, 113, 108, 112, 118, 121, 117, 107, 106, 104, 105, 114, 115, 116, 130, 135, 154, 161, 184, 192, 187, 190, 191, 188, 182, 139, 133, 131, 136, 141, 148, 145, 137, 138, 101, 86, 74, 77, 68, 25, 23, 6, 3, 0, 1, 2, 4, 8, 9, 11, 14, 18, 29, 43, 53, 54, 48, 49, 41, 34, 31, 30, 39, 67, 76, 87, 91, 94, 96, 140, 149, 152, 156, 163, 162, 160, 155, 144, 126, 79, 22, 12, 13, 24, 71, 73, 82, 78, 80, 83, 99, 122, 123, 127, 132, 134, 128, 120, 109, 65, 50, 36, 44, 56, 63, 69, 59, 75, 70, 58, 61, 81, 150, 157, 166, 174, 172, 173, 178, 185, 186, 189, 193, 181, 175, 168, 171, 164, 158, 153, 129, 97, 85, 84, 89, 93, 100, 102, 95, 92, 90, 15, 7, 5, 35, 124, 125]\n",
      "fitness: 16040.810141056954\n"
     ]
    },
    {
     "data": {
      "image/png": "[encoded data removed]",
      "text/plain": [
       "<Figure size 432x288 with 1 Axes>"
      ]
     },
     "metadata": {
      "needs_background": "light"
     },
     "output_type": "display_data"
    }
   ],
   "source": [
    "ga_rvns_dynamic_mutation_adjustment( graph,\n",
    "    num_iters = 500,\n",
    "    use_elitism = True,\n",
    "    population_size = 1000,\n",
    "    elitism_size = 40,\n",
    "    mutation_prob = 0.2,\n",
    "    tournament_size = 15,\n",
    "    coef = 1500\n",
    "    )\n"
   ]
  },
  {
   "cell_type": "code",
   "execution_count": 35,
   "id": "3b2607fa",
   "metadata": {},
   "outputs": [
    {
     "data": {
      "text/plain": [
       "0.10065813982366821"
      ]
     },
     "execution_count": 35,
     "metadata": {},
     "output_type": "execute_result"
    }
   ],
   "source": [
    "0.20 - 4*1000/40265"
   ]
  },
  {
   "cell_type": "markdown",
   "id": "a149cc4a",
   "metadata": {},
   "source": [
    "## Hibrid genetksi algoritam i VNS (manja populacija i broj iteracija zbog velike slozenosti):"
   ]
  },
  {
   "cell_type": "code",
   "execution_count": 36,
   "id": "a05ab4aa",
   "metadata": {},
   "outputs": [],
   "source": [
    "def ga_vns(g,num_iters, use_elitism, elitism_size, mutation_prob, tournament_size, population_size):\n",
    "    #init population\n",
    "    population = [Individual(g) for _ in range(population_size)]\n",
    "    new_population = [Individual(g) for _ in range(population_size)]\n",
    "    tmp = []\n",
    "    if not use_elitism:\n",
    "        elitism_size = 0\n",
    "        \n",
    "    for _ in range(num_iters):\n",
    "        if use_elitism:\n",
    "            population.sort()\n",
    "            tmp.append(population[0].fitness)\n",
    "            new_population[:elitism_size] = population[:elitism_size]\n",
    "        else:\n",
    "            current_best_fitness = min(population)\n",
    "            tmp.append(current_best_fitness)\n",
    "            \n",
    "        for i in range(elitism_size, population_size, 2):\n",
    "            #selection\n",
    "            parent1, parent1_idx = selection(population, tournament_size)\n",
    "            parent2, _ = selection(population, tournament_size, parent1_idx)\n",
    "            \n",
    "            #crossover\n",
    "            new_population[i].code , new_population[i+1].code = crossover(parent1, parent2)\n",
    "            \n",
    "            #mutation\n",
    "            mutation(new_population[i], mutation_prob)\n",
    "            mutation(new_population[i+1], mutation_prob)\n",
    "            \n",
    "            #calc_new_fitnesses\n",
    "            new_population[i].fitness = new_population[i].calc_fitness(g)\n",
    "            new_population[i+1].fitness = new_population[i+1].calc_fitness(g)\n",
    "            \n",
    "            #vns\n",
    "            vns(graph,new_population[i], 2, 5, 0.5)\n",
    "            vns(graph,new_population[i+1], 2, 5, 0.5)\n",
    "            \n",
    "            \n",
    "        #replace_population\n",
    "        vns(graph,population[0], 3, 15, 0.5)\n",
    "        population[:] = new_population[:]\n",
    "\n",
    "    #find solution\n",
    "    best_individual = min(population)\n",
    "    print(tmp)\n",
    "    print(f\"code: {best_individual.code}\")\n",
    "    print(f\"fitness: {best_individual.fitness}\")\n",
    "\n",
    "    plt.plot(range(num_iters), tmp)\n",
    "    plt.xlabel(\"iterations\",color=\"red\",fontsize=10)\n",
    "    plt.ylabel(\"fitness\",color=\"blue\",fontsize=10)\n",
    "    "
   ]
  },
  {
   "cell_type": "code",
   "execution_count": 37,
   "id": "92ffbc41",
   "metadata": {},
   "outputs": [],
   "source": [
    "# ga_vns( graph,\n",
    "#     num_iters = 10,\n",
    "#     use_elitism = True,\n",
    "#     population_size = 150,\n",
    "#     elitism_size = 16,\n",
    "#     mutation_prob = 0.15,\n",
    "#     tournament_size = 10,\n",
    "#     )"
   ]
  },
  {
   "cell_type": "markdown",
   "id": "22bc3099",
   "metadata": {},
   "source": [
    "# Hibrid ga + vns + dinamicka mutacija (povezana sa brojem iteracije)"
   ]
  },
  {
   "cell_type": "code",
   "execution_count": 38,
   "id": "d2eacb12",
   "metadata": {},
   "outputs": [],
   "source": [
    "def ga_rvns_dynamic_iteration_depandent_mutation(g,num_iters, use_elitism, elitism_size, tournament_size, population_size):\n",
    "    #init population\n",
    "    #population = [Individual(g) for _ in range(population_size)]\n",
    "    population = deepcopy(global_population)\n",
    "    new_population = [Individual(g) for _ in range(population_size)]\n",
    "    tmp = []\n",
    "    if not use_elitism:\n",
    "        elitism_size = 0\n",
    "\n",
    "    for j in range(1,num_iters+1):\n",
    "        if use_elitism:\n",
    "            population.sort()\n",
    "            tmp.append(population[0].fitness)\n",
    "            new_population[:elitism_size] = population[:elitism_size]\n",
    "        else:\n",
    "            current_best_fitness = min(population).fitness\n",
    "            tmp.append(current_best_fitness)\n",
    "                        \n",
    "        for i in range(elitism_size, population_size, 2):\n",
    "            #selection\n",
    "            parent1, parent1_idx = selection(population, tournament_size)\n",
    "            parent2, _ = selection(population, tournament_size, parent1_idx)\n",
    "            \n",
    "            #crossover\n",
    "            new_population[i].code , new_population[i+1].code = crossover(parent1, parent2)\n",
    "                        \n",
    "            #mutation\n",
    "            mutation(new_population[i],  1/(2*j))\n",
    "            mutation(new_population[i+1],1/(2*j))\n",
    "            \n",
    "            #calc_new_fitnesses\n",
    "            new_population[i].fitness = new_population[i].calc_fitness(g)\n",
    "            new_population[i+1].fitness = new_population[i+1].calc_fitness(g)\n",
    "            \n",
    "            #vns\n",
    "            rvns(graph,new_population[i], 2, 5, 0.5)\n",
    "            rvns(graph,new_population[i+1], 2, 5, 0.5)\n",
    "            \n",
    "            \n",
    "        #replace_population\n",
    "        rvns(graph,population[0], 3, 15, 0.5)\n",
    "        population[:] = new_population[:]\n",
    "\n",
    "    #find solution\n",
    "    best_individual = min(population)\n",
    "    tmp.append(best_individual.fitness)\n",
    "    \n",
    "    print(f\"code: {best_individual.code}\")\n",
    "    print(f\"fitness: {best_individual.fitness}\")\n",
    "\n",
    "    plt.plot(range(1,num_iters+2), tmp)\n",
    "    plt.xlabel(\"iterations\",color=\"red\",fontsize=10)\n",
    "    plt.ylabel(\"fitness\",color=\"blue\",fontsize=10)\n",
    "    plt.show()"
   ]
  },
  {
   "cell_type": "code",
   "execution_count": 39,
   "id": "47b1c30c",
   "metadata": {},
   "outputs": [
    {
     "name": "stdout",
     "output_type": "stream",
     "text": [
      "code: [120, 116, 115, 114, 111, 107, 106, 104, 95, 92, 87, 91, 94, 96, 105, 150, 157, 167, 176, 180, 177, 179, 170, 165, 159, 147, 135, 130, 117, 102, 22, 24, 25, 23, 17, 21, 14, 18, 53, 51, 52, 55, 66, 83, 99, 82, 73, 68, 32, 27, 28, 33, 39, 37, 42, 46, 20, 16, 13, 15, 35, 58, 97, 129, 144, 139, 136, 133, 131, 101, 90, 80, 78, 76, 69, 67, 65, 60, 50, 26, 8, 4, 9, 11, 49, 54, 48, 41, 29, 31, 30, 34, 43, 40, 38, 36, 44, 56, 59, 71, 70, 81, 103, 110, 126, 141, 145, 156, 164, 166, 158, 151, 146, 134, 132, 127, 123, 122, 119, 109, 72, 47, 45, 57, 63, 77, 74, 75, 79, 86, 108, 112, 118, 171, 178, 173, 172, 152, 149, 143, 153, 162, 160, 155, 148, 137, 138, 163, 168, 175, 181, 193, 185, 182, 174, 140, 113, 89, 62, 19, 64, 84, 85, 124, 125, 7, 5, 3, 6, 10, 12, 61, 88, 100, 98, 93, 0, 1, 2, 121, 169, 184, 192, 187, 183, 188, 190, 191, 189, 186, 161, 154, 142, 128]\n",
      "fitness: 17586.61363687573\n"
     ]
    },
    {
     "data": {
      "image/png": "[encoded data removed]",
      "text/plain": [
       "<Figure size 432x288 with 1 Axes>"
      ]
     },
     "metadata": {
      "needs_background": "light"
     },
     "output_type": "display_data"
    }
   ],
   "source": [
    "ga_rvns_dynamic_iteration_depandent_mutation( graph,\n",
    "    num_iters = 500,\n",
    "    use_elitism = True,\n",
    "    population_size = 1000,\n",
    "    elitism_size = 40,\n",
    "    tournament_size = 15,\n",
    "    )"
   ]
  },
  {
   "cell_type": "code",
   "execution_count": 40,
   "id": "6742786c",
   "metadata": {},
   "outputs": [
    {
     "data": {
      "text/plain": [
       "0.10141307919815973"
      ]
     },
     "execution_count": 40,
     "metadata": {},
     "output_type": "execute_result"
    }
   ],
   "source": [
    "0.20 - 1500/15215"
   ]
  },
  {
   "cell_type": "code",
   "execution_count": 43,
   "id": "465552c6",
   "metadata": {},
   "outputs": [
    {
     "name": "stdout",
     "output_type": "stream",
     "text": [
      "[<__main__.Individual object at 0x00000202C4132BE0>, <__main__.Individual object at 0x00000202C4132340>, <__main__.Individual object at 0x00000202C41320A0>, <__main__.Individual object at 0x00000202C41327C0>, <__main__.Individual object at 0x00000202C4132FD0>, <__main__.Individual object at 0x00000202C4132580>, <__main__.Individual object at 0x00000202C4132940>, <__main__.Individual object at 0x00000202C4132250>, <__main__.Individual object at 0x00000202C4132C10>, <__main__.Individual object at 0x00000202C412C130>, <__main__.Individual object at 0x00000202C412CB80>, <__main__.Individual object at 0x00000202C412CC70>, <__main__.Individual object at 0x00000202C412C9D0>, <__main__.Individual object at 0x00000202C412CEE0>, <__main__.Individual object at 0x00000202C412CAF0>, <__main__.Individual object at 0x00000202C412C400>, <__main__.Individual object at 0x00000202C412C610>, <__main__.Individual object at 0x00000202C412CA00>, <__main__.Individual object at 0x00000202C412C220>, <__main__.Individual object at 0x00000202C412C250>, <__main__.Individual object at 0x00000202C412C9A0>, <__main__.Individual object at 0x00000202C412C8B0>, <__main__.Individual object at 0x00000202C412C340>, <__main__.Individual object at 0x00000202C412C550>, <__main__.Individual object at 0x00000202C412C760>, <__main__.Individual object at 0x00000202C412CEB0>, <__main__.Individual object at 0x00000202C412C160>, <__main__.Individual object at 0x00000202C412C5B0>, <__main__.Individual object at 0x00000202C412CD00>, <__main__.Individual object at 0x00000202C412C670>, <__main__.Individual object at 0x00000202C412CF10>, <__main__.Individual object at 0x00000202C412C730>, <__main__.Individual object at 0x00000202C412CA60>, <__main__.Individual object at 0x00000202C412C430>, <__main__.Individual object at 0x00000202C412C700>, <__main__.Individual object at 0x00000202C412C370>, <__main__.Individual object at 0x00000202C412C1C0>, <__main__.Individual object at 0x00000202C412C0D0>, <__main__.Individual object at 0x00000202C412CD90>, <__main__.Individual object at 0x00000202C412C7F0>, <__main__.Individual object at 0x00000202C412C2B0>, <__main__.Individual object at 0x00000202C412CD30>, <__main__.Individual object at 0x00000202C4134EE0>, <__main__.Individual object at 0x00000202C4134700>, <__main__.Individual object at 0x00000202C4134760>, <__main__.Individual object at 0x00000202C41347C0>, <__main__.Individual object at 0x00000202C4134D30>, <__main__.Individual object at 0x00000202C4134160>, <__main__.Individual object at 0x00000202C4134190>, <__main__.Individual object at 0x00000202C4134BE0>, <__main__.Individual object at 0x00000202C4134BB0>, <__main__.Individual object at 0x00000202C41345E0>, <__main__.Individual object at 0x00000202C4134970>, <__main__.Individual object at 0x00000202C4134250>, <__main__.Individual object at 0x00000202C41342E0>, <__main__.Individual object at 0x00000202C4134370>, <__main__.Individual object at 0x00000202C4134670>, <__main__.Individual object at 0x00000202C4134100>, <__main__.Individual object at 0x00000202C41341F0>, <__main__.Individual object at 0x00000202C4134880>, <__main__.Individual object at 0x00000202C41340A0>, <__main__.Individual object at 0x00000202C4134A90>, <__main__.Individual object at 0x00000202C4134640>, <__main__.Individual object at 0x00000202C4134CA0>, <__main__.Individual object at 0x00000202C4134E50>, <__main__.Individual object at 0x00000202C4134DC0>, <__main__.Individual object at 0x00000202C4134D90>, <__main__.Individual object at 0x00000202C4134F70>, <__main__.Individual object at 0x00000202C4134FD0>, <__main__.Individual object at 0x00000202C41343D0>, <__main__.Individual object at 0x00000202C41343A0>, <__main__.Individual object at 0x00000202C41349A0>, <__main__.Individual object at 0x00000202C4134940>, <__main__.Individual object at 0x00000202C41348E0>, <__main__.Individual object at 0x00000202C4134B20>, <__main__.Individual object at 0x00000202C4134AF0>, <__main__.Individual object at 0x00000202C4134130>, <__main__.Individual object at 0x00000202C4134A30>, <__main__.Individual object at 0x00000202C41349D0>, <__main__.Individual object at 0x00000202C4134430>, <__main__.Individual object at 0x00000202C4134490>, <__main__.Individual object at 0x00000202C41344F0>, <__main__.Individual object at 0x00000202C4134550>, <__main__.Individual object at 0x00000202C41345B0>, <__main__.Individual object at 0x00000202C3BF6550>, <__main__.Individual object at 0x00000202C3BF6E20>, <__main__.Individual object at 0x00000202C3BF6C10>, <__main__.Individual object at 0x00000202C3BF6670>, <__main__.Individual object at 0x00000202C3BF6DF0>, <__main__.Individual object at 0x00000202C3BF6EE0>, <__main__.Individual object at 0x00000202C3BF6580>, <__main__.Individual object at 0x00000202C3BF6940>, <__main__.Individual object at 0x00000202C3BF6460>, <__main__.Individual object at 0x00000202C3BF6190>, <__main__.Individual object at 0x00000202C3BF6D90>, <__main__.Individual object at 0x00000202C3BF6FD0>, <__main__.Individual object at 0x00000202C3BF63A0>, <__main__.Individual object at 0x00000202C3BF6070>, <__main__.Individual object at 0x00000202C3BF6970>, <__main__.Individual object at 0x00000202C3BF6BB0>, <__main__.Individual object at 0x00000202C413E070>, <__main__.Individual object at 0x00000202C413E0D0>, <__main__.Individual object at 0x00000202C413E130>, <__main__.Individual object at 0x00000202C413E190>, <__main__.Individual object at 0x00000202C413E1F0>, <__main__.Individual object at 0x00000202C413E250>, <__main__.Individual object at 0x00000202C413E2B0>, <__main__.Individual object at 0x00000202C413E310>, <__main__.Individual object at 0x00000202C413E370>, <__main__.Individual object at 0x00000202C413E3D0>, <__main__.Individual object at 0x00000202C413E430>, <__main__.Individual object at 0x00000202C413E490>, <__main__.Individual object at 0x00000202C413E4F0>, <__main__.Individual object at 0x00000202C413E550>, <__main__.Individual object at 0x00000202C413E5B0>, <__main__.Individual object at 0x00000202C413E610>, <__main__.Individual object at 0x00000202C413E670>, <__main__.Individual object at 0x00000202C413E6D0>, <__main__.Individual object at 0x00000202C413E730>, <__main__.Individual object at 0x00000202C413E790>, <__main__.Individual object at 0x00000202C413E7F0>, <__main__.Individual object at 0x00000202C413E850>, <__main__.Individual object at 0x00000202C413E8B0>, <__main__.Individual object at 0x00000202C413E910>, <__main__.Individual object at 0x00000202C413E970>, <__main__.Individual object at 0x00000202C413E9D0>, <__main__.Individual object at 0x00000202C413EA30>, <__main__.Individual object at 0x00000202C413EA90>, <__main__.Individual object at 0x00000202C413EAF0>, <__main__.Individual object at 0x00000202C413EB50>, <__main__.Individual object at 0x00000202C413EBB0>, <__main__.Individual object at 0x00000202C413EC10>, <__main__.Individual object at 0x00000202C413EC70>, <__main__.Individual object at 0x00000202C413ECD0>, <__main__.Individual object at 0x00000202C413ED30>, <__main__.Individual object at 0x00000202C413ED90>, <__main__.Individual object at 0x00000202C413EDF0>, <__main__.Individual object at 0x00000202C413EE50>, <__main__.Individual object at 0x00000202C413EEB0>, <__main__.Individual object at 0x00000202C413EF10>, <__main__.Individual object at 0x00000202C413EF70>, <__main__.Individual object at 0x00000202C413EFD0>, <__main__.Individual object at 0x00000202C4140070>, <__main__.Individual object at 0x00000202C41400D0>, <__main__.Individual object at 0x00000202C4140130>, <__main__.Individual object at 0x00000202C4140190>, <__main__.Individual object at 0x00000202C41401F0>, <__main__.Individual object at 0x00000202C4140250>, <__main__.Individual object at 0x00000202C41402B0>, <__main__.Individual object at 0x00000202C4140310>, <__main__.Individual object at 0x00000202C4140370>, <__main__.Individual object at 0x00000202C41403D0>, <__main__.Individual object at 0x00000202C4140430>, <__main__.Individual object at 0x00000202C4140490>, <__main__.Individual object at 0x00000202C41404F0>, <__main__.Individual object at 0x00000202C4140550>, <__main__.Individual object at 0x00000202C41405B0>, <__main__.Individual object at 0x00000202C4140610>, <__main__.Individual object at 0x00000202C4140670>, <__main__.Individual object at 0x00000202C41406D0>, <__main__.Individual object at 0x00000202C4140730>, <__main__.Individual object at 0x00000202C4140790>, <__main__.Individual object at 0x00000202C41407F0>, <__main__.Individual object at 0x00000202C4140850>, <__main__.Individual object at 0x00000202C41408B0>, <__main__.Individual object at 0x00000202C4140910>, <__main__.Individual object at 0x00000202C4140970>, <__main__.Individual object at 0x00000202C41409D0>, <__main__.Individual object at 0x00000202C4140A30>, <__main__.Individual object at 0x00000202C4140A90>, <__main__.Individual object at 0x00000202C4140AF0>, <__main__.Individual object at 0x00000202C4140B50>, <__main__.Individual object at 0x00000202C4140BB0>, <__main__.Individual object at 0x00000202C4140C10>, <__main__.Individual object at 0x00000202C4140C70>, <__main__.Individual object at 0x00000202C4140CD0>, <__main__.Individual object at 0x00000202C4140D30>, <__main__.Individual object at 0x00000202C4140D90>, <__main__.Individual object at 0x00000202C4140DF0>, <__main__.Individual object at 0x00000202C4140E50>, <__main__.Individual object at 0x00000202C4140EB0>, <__main__.Individual object at 0x00000202C4140F10>, <__main__.Individual object at 0x00000202C4140F70>, <__main__.Individual object at 0x00000202C4140FD0>, <__main__.Individual object at 0x00000202C4144070>, <__main__.Individual object at 0x00000202C41440D0>, <__main__.Individual object at 0x00000202C4144130>, <__main__.Individual object at 0x00000202C4144190>, <__main__.Individual object at 0x00000202C41441F0>, <__main__.Individual object at 0x00000202C4144250>, <__main__.Individual object at 0x00000202C41442B0>, <__main__.Individual object at 0x00000202C4144310>, <__main__.Individual object at 0x00000202C4144370>, <__main__.Individual object at 0x00000202C41443D0>, <__main__.Individual object at 0x00000202C4144430>, <__main__.Individual object at 0x00000202C4144490>, <__main__.Individual object at 0x00000202C41444F0>, <__main__.Individual object at 0x00000202C4144550>, <__main__.Individual object at 0x00000202C41445B0>, <__main__.Individual object at 0x00000202C4144610>, <__main__.Individual object at 0x00000202C4144670>, <__main__.Individual object at 0x00000202C41446D0>, <__main__.Individual object at 0x00000202C4144730>, <__main__.Individual object at 0x00000202C4144790>, <__main__.Individual object at 0x00000202C41447F0>, <__main__.Individual object at 0x00000202C4144850>, <__main__.Individual object at 0x00000202C41448B0>, <__main__.Individual object at 0x00000202C4144910>, <__main__.Individual object at 0x00000202C4144970>, <__main__.Individual object at 0x00000202C41449D0>, <__main__.Individual object at 0x00000202C4144A30>, <__main__.Individual object at 0x00000202C4144A90>, <__main__.Individual object at 0x00000202C4144AF0>, <__main__.Individual object at 0x00000202C4144B50>, <__main__.Individual object at 0x00000202C4144BB0>, <__main__.Individual object at 0x00000202C4144C10>, <__main__.Individual object at 0x00000202C4144C70>, <__main__.Individual object at 0x00000202C4144CD0>, <__main__.Individual object at 0x00000202C4144D30>, <__main__.Individual object at 0x00000202C4144D90>, <__main__.Individual object at 0x00000202C4144DF0>, <__main__.Individual object at 0x00000202C4144E50>, <__main__.Individual object at 0x00000202C4144EB0>, <__main__.Individual object at 0x00000202C4144F10>, <__main__.Individual object at 0x00000202C4144F70>, <__main__.Individual object at 0x00000202C4144FD0>, <__main__.Individual object at 0x00000202C4146070>, <__main__.Individual object at 0x00000202C41460D0>, <__main__.Individual object at 0x00000202C4146130>, <__main__.Individual object at 0x00000202C4146190>, <__main__.Individual object at 0x00000202C41461F0>, <__main__.Individual object at 0x00000202C4146250>, <__main__.Individual object at 0x00000202C41462B0>, <__main__.Individual object at 0x00000202C4146310>, <__main__.Individual object at 0x00000202C4146370>, <__main__.Individual object at 0x00000202C41463D0>, <__main__.Individual object at 0x00000202C4146430>, <__main__.Individual object at 0x00000202C4146490>, <__main__.Individual object at 0x00000202C41464F0>, <__main__.Individual object at 0x00000202C4146550>, <__main__.Individual object at 0x00000202C41465B0>, <__main__.Individual object at 0x00000202C4146610>, <__main__.Individual object at 0x00000202C4146670>, <__main__.Individual object at 0x00000202C41466D0>, <__main__.Individual object at 0x00000202C4146730>, <__main__.Individual object at 0x00000202C4146790>, <__main__.Individual object at 0x00000202C41467F0>, <__main__.Individual object at 0x00000202C4146850>, <__main__.Individual object at 0x00000202C41468B0>, <__main__.Individual object at 0x00000202C4146910>, <__main__.Individual object at 0x00000202C4146970>, <__main__.Individual object at 0x00000202C41469D0>, <__main__.Individual object at 0x00000202C4146A30>, <__main__.Individual object at 0x00000202C4146A90>, <__main__.Individual object at 0x00000202C4146AF0>, <__main__.Individual object at 0x00000202C4146B50>, <__main__.Individual object at 0x00000202C4146BB0>, <__main__.Individual object at 0x00000202C4146C10>, <__main__.Individual object at 0x00000202C4146C70>, <__main__.Individual object at 0x00000202C4146CD0>, <__main__.Individual object at 0x00000202C4146D30>, <__main__.Individual object at 0x00000202C4146D90>, <__main__.Individual object at 0x00000202C4146DF0>, <__main__.Individual object at 0x00000202C4146E50>, <__main__.Individual object at 0x00000202C4146EB0>, <__main__.Individual object at 0x00000202C4146F10>, <__main__.Individual object at 0x00000202C4146F70>, <__main__.Individual object at 0x00000202C4146FD0>, <__main__.Individual object at 0x00000202C4148070>, <__main__.Individual object at 0x00000202C41480D0>, <__main__.Individual object at 0x00000202C4148130>, <__main__.Individual object at 0x00000202C4148190>, <__main__.Individual object at 0x00000202C41481F0>, <__main__.Individual object at 0x00000202C4148250>, <__main__.Individual object at 0x00000202C41482B0>, <__main__.Individual object at 0x00000202C4148310>, <__main__.Individual object at 0x00000202C4148370>, <__main__.Individual object at 0x00000202C41483D0>, <__main__.Individual object at 0x00000202C4148430>, <__main__.Individual object at 0x00000202C4148490>, <__main__.Individual object at 0x00000202C41484F0>, <__main__.Individual object at 0x00000202C4148550>, <__main__.Individual object at 0x00000202C41485B0>, <__main__.Individual object at 0x00000202C4148610>, <__main__.Individual object at 0x00000202C4148670>, <__main__.Individual object at 0x00000202C41486D0>, <__main__.Individual object at 0x00000202C4148730>, <__main__.Individual object at 0x00000202C4148790>, <__main__.Individual object at 0x00000202C41487F0>, <__main__.Individual object at 0x00000202C4148850>, <__main__.Individual object at 0x00000202C41488B0>, <__main__.Individual object at 0x00000202C4148910>, <__main__.Individual object at 0x00000202C4148970>, <__main__.Individual object at 0x00000202C41489D0>, <__main__.Individual object at 0x00000202C4148A30>, <__main__.Individual object at 0x00000202C4148A90>, <__main__.Individual object at 0x00000202C4148AF0>, <__main__.Individual object at 0x00000202C4148B50>, <__main__.Individual object at 0x00000202C4148BB0>, <__main__.Individual object at 0x00000202C4148C10>, <__main__.Individual object at 0x00000202C4148C70>, <__main__.Individual object at 0x00000202C4148CD0>, <__main__.Individual object at 0x00000202C4148D30>, <__main__.Individual object at 0x00000202C4148D90>, <__main__.Individual object at 0x00000202C4148DF0>, <__main__.Individual object at 0x00000202C4148E50>, <__main__.Individual object at 0x00000202C4148EB0>, <__main__.Individual object at 0x00000202C4148F10>, <__main__.Individual object at 0x00000202C4148F70>, <__main__.Individual object at 0x00000202C4148FD0>, <__main__.Individual object at 0x00000202C414C070>, <__main__.Individual object at 0x00000202C414C0D0>, <__main__.Individual object at 0x00000202C414C130>, <__main__.Individual object at 0x00000202C414C190>, <__main__.Individual object at 0x00000202C414C1F0>, <__main__.Individual object at 0x00000202C414C250>, <__main__.Individual object at 0x00000202C414C2B0>, <__main__.Individual object at 0x00000202C414C310>, <__main__.Individual object at 0x00000202C414C370>, <__main__.Individual object at 0x00000202C414C3D0>, <__main__.Individual object at 0x00000202C414C430>, <__main__.Individual object at 0x00000202C414C490>, <__main__.Individual object at 0x00000202C414C4F0>, <__main__.Individual object at 0x00000202C414C550>, <__main__.Individual object at 0x00000202C414C5B0>, <__main__.Individual object at 0x00000202C414C610>, <__main__.Individual object at 0x00000202C414C670>, <__main__.Individual object at 0x00000202C414C6D0>, <__main__.Individual object at 0x00000202C414C730>, <__main__.Individual object at 0x00000202C414C790>, <__main__.Individual object at 0x00000202C414C7F0>, <__main__.Individual object at 0x00000202C414C850>, <__main__.Individual object at 0x00000202C414C8B0>, <__main__.Individual object at 0x00000202C414C910>, <__main__.Individual object at 0x00000202C414C970>, <__main__.Individual object at 0x00000202C414C9D0>, <__main__.Individual object at 0x00000202C414CA30>, <__main__.Individual object at 0x00000202C414CA90>, <__main__.Individual object at 0x00000202C414CAF0>, <__main__.Individual object at 0x00000202C414CB50>, <__main__.Individual object at 0x00000202C414CBB0>, <__main__.Individual object at 0x00000202C414CC10>, <__main__.Individual object at 0x00000202C414CC70>, <__main__.Individual object at 0x00000202C414CCD0>, <__main__.Individual object at 0x00000202C414CD30>, <__main__.Individual object at 0x00000202C414CD90>, <__main__.Individual object at 0x00000202C414CDF0>, <__main__.Individual object at 0x00000202C414CE50>, <__main__.Individual object at 0x00000202C414CEB0>, <__main__.Individual object at 0x00000202C414CF10>, <__main__.Individual object at 0x00000202C414CF70>, <__main__.Individual object at 0x00000202C414CFD0>, <__main__.Individual object at 0x00000202C414E070>, <__main__.Individual object at 0x00000202C414E0D0>, <__main__.Individual object at 0x00000202C414E130>, <__main__.Individual object at 0x00000202C414E190>, <__main__.Individual object at 0x00000202C414E1F0>, <__main__.Individual object at 0x00000202C414E250>, <__main__.Individual object at 0x00000202C414E2B0>, <__main__.Individual object at 0x00000202C414E310>, <__main__.Individual object at 0x00000202C414E370>, <__main__.Individual object at 0x00000202C414E3D0>, <__main__.Individual object at 0x00000202C414E430>, <__main__.Individual object at 0x00000202C414E490>, <__main__.Individual object at 0x00000202C414E4F0>, <__main__.Individual object at 0x00000202C414E550>, <__main__.Individual object at 0x00000202C414E5B0>, <__main__.Individual object at 0x00000202C414E610>, <__main__.Individual object at 0x00000202C414E670>, <__main__.Individual object at 0x00000202C414E6D0>, <__main__.Individual object at 0x00000202C414E730>, <__main__.Individual object at 0x00000202C414E790>, <__main__.Individual object at 0x00000202C414E7F0>, <__main__.Individual object at 0x00000202C414E850>, <__main__.Individual object at 0x00000202C414E8B0>, <__main__.Individual object at 0x00000202C414E910>, <__main__.Individual object at 0x00000202C414E970>, <__main__.Individual object at 0x00000202C414E9D0>, <__main__.Individual object at 0x00000202C414EA30>, <__main__.Individual object at 0x00000202C414EA90>, <__main__.Individual object at 0x00000202C414EAF0>, <__main__.Individual object at 0x00000202C414EB50>, <__main__.Individual object at 0x00000202C414EBB0>, <__main__.Individual object at 0x00000202C414EC10>, <__main__.Individual object at 0x00000202C414EC70>, <__main__.Individual object at 0x00000202C414ECD0>, <__main__.Individual object at 0x00000202C414ED30>, <__main__.Individual object at 0x00000202C414ED90>, <__main__.Individual object at 0x00000202C414EDF0>, <__main__.Individual object at 0x00000202C414EE50>, <__main__.Individual object at 0x00000202C414EEB0>, <__main__.Individual object at 0x00000202C414EF10>, <__main__.Individual object at 0x00000202C414EF70>, <__main__.Individual object at 0x00000202C414EFD0>, <__main__.Individual object at 0x00000202C4150070>, <__main__.Individual object at 0x00000202C41500D0>, <__main__.Individual object at 0x00000202C4150130>, <__main__.Individual object at 0x00000202C4150190>, <__main__.Individual object at 0x00000202C41501F0>, <__main__.Individual object at 0x00000202C4150250>, <__main__.Individual object at 0x00000202C41502B0>, <__main__.Individual object at 0x00000202C4150310>, <__main__.Individual object at 0x00000202C4150370>, <__main__.Individual object at 0x00000202C41503D0>, <__main__.Individual object at 0x00000202C4150430>, <__main__.Individual object at 0x00000202C4150490>, <__main__.Individual object at 0x00000202C41504F0>, <__main__.Individual object at 0x00000202C4150550>, <__main__.Individual object at 0x00000202C41505B0>, <__main__.Individual object at 0x00000202C4150610>, <__main__.Individual object at 0x00000202C4150670>, <__main__.Individual object at 0x00000202C41506D0>, <__main__.Individual object at 0x00000202C4150730>, <__main__.Individual object at 0x00000202C4150790>, <__main__.Individual object at 0x00000202C41507F0>, <__main__.Individual object at 0x00000202C4150850>, <__main__.Individual object at 0x00000202C41508B0>, <__main__.Individual object at 0x00000202C4150910>, <__main__.Individual object at 0x00000202C4150970>, <__main__.Individual object at 0x00000202C41509D0>, <__main__.Individual object at 0x00000202C4150A30>, <__main__.Individual object at 0x00000202C4150A90>, <__main__.Individual object at 0x00000202C4150AF0>, <__main__.Individual object at 0x00000202C4150B50>, <__main__.Individual object at 0x00000202C4150BB0>, <__main__.Individual object at 0x00000202C4150C10>, <__main__.Individual object at 0x00000202C4150C70>, <__main__.Individual object at 0x00000202C4150CD0>, <__main__.Individual object at 0x00000202C4150D30>, <__main__.Individual object at 0x00000202C4150D90>, <__main__.Individual object at 0x00000202C4150DF0>, <__main__.Individual object at 0x00000202C4150E50>, <__main__.Individual object at 0x00000202C4150EB0>, <__main__.Individual object at 0x00000202C4150F10>, <__main__.Individual object at 0x00000202C4150F70>, <__main__.Individual object at 0x00000202C4150FD0>, <__main__.Individual object at 0x00000202C4154070>, <__main__.Individual object at 0x00000202C41540D0>, <__main__.Individual object at 0x00000202C4154130>, <__main__.Individual object at 0x00000202C4154190>, <__main__.Individual object at 0x00000202C41541F0>, <__main__.Individual object at 0x00000202C4154250>, <__main__.Individual object at 0x00000202C41542B0>, <__main__.Individual object at 0x00000202C4154310>, <__main__.Individual object at 0x00000202C4154370>, <__main__.Individual object at 0x00000202C41543D0>, <__main__.Individual object at 0x00000202C4154430>, <__main__.Individual object at 0x00000202C4154490>, <__main__.Individual object at 0x00000202C41544F0>, <__main__.Individual object at 0x00000202C4154550>, <__main__.Individual object at 0x00000202C41545B0>, <__main__.Individual object at 0x00000202C4154610>, <__main__.Individual object at 0x00000202C4154670>, <__main__.Individual object at 0x00000202C41546D0>, <__main__.Individual object at 0x00000202C4154730>, <__main__.Individual object at 0x00000202C4154790>, <__main__.Individual object at 0x00000202C41547F0>, <__main__.Individual object at 0x00000202C4154850>, <__main__.Individual object at 0x00000202C41548B0>, <__main__.Individual object at 0x00000202C4154910>, <__main__.Individual object at 0x00000202C4154970>, <__main__.Individual object at 0x00000202C41549D0>, <__main__.Individual object at 0x00000202C4154A30>, <__main__.Individual object at 0x00000202C4154A90>, <__main__.Individual object at 0x00000202C4154AF0>, <__main__.Individual object at 0x00000202C4154B50>, <__main__.Individual object at 0x00000202C4154BB0>, <__main__.Individual object at 0x00000202C4154C10>, <__main__.Individual object at 0x00000202C4154C70>, <__main__.Individual object at 0x00000202C4154CD0>, <__main__.Individual object at 0x00000202C4154D30>, <__main__.Individual object at 0x00000202C4154D90>, <__main__.Individual object at 0x00000202C4154DF0>, <__main__.Individual object at 0x00000202C4154E50>, <__main__.Individual object at 0x00000202C4154EB0>, <__main__.Individual object at 0x00000202C4154F10>, <__main__.Individual object at 0x00000202C4154F70>, <__main__.Individual object at 0x00000202C4154FD0>, <__main__.Individual object at 0x00000202C4156070>, <__main__.Individual object at 0x00000202C41560D0>, <__main__.Individual object at 0x00000202C4156130>, <__main__.Individual object at 0x00000202C4156190>, <__main__.Individual object at 0x00000202C41561F0>, <__main__.Individual object at 0x00000202C4156250>, <__main__.Individual object at 0x00000202C41562B0>, <__main__.Individual object at 0x00000202C4156310>, <__main__.Individual object at 0x00000202C4156370>, <__main__.Individual object at 0x00000202C41563D0>, <__main__.Individual object at 0x00000202C4156430>, <__main__.Individual object at 0x00000202C4156490>, <__main__.Individual object at 0x00000202C41564F0>, <__main__.Individual object at 0x00000202C4156550>, <__main__.Individual object at 0x00000202C41565B0>, <__main__.Individual object at 0x00000202C4156610>, <__main__.Individual object at 0x00000202C4156670>, <__main__.Individual object at 0x00000202C41566D0>, <__main__.Individual object at 0x00000202C4156730>, <__main__.Individual object at 0x00000202C4156790>, <__main__.Individual object at 0x00000202C41567F0>, <__main__.Individual object at 0x00000202C4156850>, <__main__.Individual object at 0x00000202C41568B0>, <__main__.Individual object at 0x00000202C4156910>, <__main__.Individual object at 0x00000202C4156970>, <__main__.Individual object at 0x00000202C41569D0>, <__main__.Individual object at 0x00000202C4156A30>, <__main__.Individual object at 0x00000202C4156A90>, <__main__.Individual object at 0x00000202C4156AF0>, <__main__.Individual object at 0x00000202C4156B50>, <__main__.Individual object at 0x00000202C4156BB0>, <__main__.Individual object at 0x00000202C4156C10>, <__main__.Individual object at 0x00000202C4156C70>, <__main__.Individual object at 0x00000202C4156CD0>, <__main__.Individual object at 0x00000202C4156D30>, <__main__.Individual object at 0x00000202C4156D90>, <__main__.Individual object at 0x00000202C4156DF0>, <__main__.Individual object at 0x00000202C4156E50>, <__main__.Individual object at 0x00000202C4156EB0>, <__main__.Individual object at 0x00000202C4156F10>, <__main__.Individual object at 0x00000202C4156F70>, <__main__.Individual object at 0x00000202C4156FD0>, <__main__.Individual object at 0x00000202C4158070>, <__main__.Individual object at 0x00000202C41580D0>, <__main__.Individual object at 0x00000202C4158130>, <__main__.Individual object at 0x00000202C4158190>, <__main__.Individual object at 0x00000202C41581F0>, <__main__.Individual object at 0x00000202C4158250>, <__main__.Individual object at 0x00000202C41582B0>, <__main__.Individual object at 0x00000202C4158310>, <__main__.Individual object at 0x00000202C4158370>, <__main__.Individual object at 0x00000202C41583D0>, <__main__.Individual object at 0x00000202C4158430>, <__main__.Individual object at 0x00000202C4158490>, <__main__.Individual object at 0x00000202C41584F0>, <__main__.Individual object at 0x00000202C4158550>, <__main__.Individual object at 0x00000202C41585B0>, <__main__.Individual object at 0x00000202C4158610>, <__main__.Individual object at 0x00000202C4158670>, <__main__.Individual object at 0x00000202C41586D0>, <__main__.Individual object at 0x00000202C4158730>, <__main__.Individual object at 0x00000202C4158790>, <__main__.Individual object at 0x00000202C41587F0>, <__main__.Individual object at 0x00000202C4158850>, <__main__.Individual object at 0x00000202C41588B0>, <__main__.Individual object at 0x00000202C4158910>, <__main__.Individual object at 0x00000202C4158970>, <__main__.Individual object at 0x00000202C41589D0>, <__main__.Individual object at 0x00000202C4158A30>, <__main__.Individual object at 0x00000202C4158A90>, <__main__.Individual object at 0x00000202C4158AF0>, <__main__.Individual object at 0x00000202C4158B50>, <__main__.Individual object at 0x00000202C4158BB0>, <__main__.Individual object at 0x00000202C4158C10>, <__main__.Individual object at 0x00000202C4158C70>, <__main__.Individual object at 0x00000202C4158CD0>, <__main__.Individual object at 0x00000202C4158D30>, <__main__.Individual object at 0x00000202C4158D90>, <__main__.Individual object at 0x00000202C4158DF0>, <__main__.Individual object at 0x00000202C4158E50>, <__main__.Individual object at 0x00000202C4158EB0>, <__main__.Individual object at 0x00000202C4158F10>, <__main__.Individual object at 0x00000202C4158F70>, <__main__.Individual object at 0x00000202C4158FD0>, <__main__.Individual object at 0x00000202C415C070>, <__main__.Individual object at 0x00000202C415C0D0>, <__main__.Individual object at 0x00000202C415C130>, <__main__.Individual object at 0x00000202C415C190>, <__main__.Individual object at 0x00000202C415C1F0>, <__main__.Individual object at 0x00000202C415C250>, <__main__.Individual object at 0x00000202C415C2B0>, <__main__.Individual object at 0x00000202C415C310>, <__main__.Individual object at 0x00000202C415C370>, <__main__.Individual object at 0x00000202C415C3D0>, <__main__.Individual object at 0x00000202C415C430>, <__main__.Individual object at 0x00000202C415C490>, <__main__.Individual object at 0x00000202C415C4F0>, <__main__.Individual object at 0x00000202C415C550>, <__main__.Individual object at 0x00000202C415C5B0>, <__main__.Individual object at 0x00000202C415C610>, <__main__.Individual object at 0x00000202C415C670>, <__main__.Individual object at 0x00000202C415C6D0>, <__main__.Individual object at 0x00000202C415C730>, <__main__.Individual object at 0x00000202C415C790>, <__main__.Individual object at 0x00000202C415C7F0>, <__main__.Individual object at 0x00000202C415C850>, <__main__.Individual object at 0x00000202C415C8B0>, <__main__.Individual object at 0x00000202C415C910>, <__main__.Individual object at 0x00000202C415C970>, <__main__.Individual object at 0x00000202C415C9D0>, <__main__.Individual object at 0x00000202C415CA30>, <__main__.Individual object at 0x00000202C415CA90>, <__main__.Individual object at 0x00000202C415CAF0>, <__main__.Individual object at 0x00000202C415CB50>, <__main__.Individual object at 0x00000202C415CBB0>, <__main__.Individual object at 0x00000202C415CC10>, <__main__.Individual object at 0x00000202C415CC70>, <__main__.Individual object at 0x00000202C415CCD0>, <__main__.Individual object at 0x00000202C415CD30>, <__main__.Individual object at 0x00000202C415CD90>, <__main__.Individual object at 0x00000202C415CDF0>, <__main__.Individual object at 0x00000202C415CE50>, <__main__.Individual object at 0x00000202C415CEB0>, <__main__.Individual object at 0x00000202C415CF10>, <__main__.Individual object at 0x00000202C415CF70>, <__main__.Individual object at 0x00000202C415CFD0>, <__main__.Individual object at 0x00000202C415E070>, <__main__.Individual object at 0x00000202C415E0D0>, <__main__.Individual object at 0x00000202C415E130>, <__main__.Individual object at 0x00000202C415E190>, <__main__.Individual object at 0x00000202C415E1F0>, <__main__.Individual object at 0x00000202C415E250>, <__main__.Individual object at 0x00000202C415E2B0>, <__main__.Individual object at 0x00000202C415E310>, <__main__.Individual object at 0x00000202C415E370>, <__main__.Individual object at 0x00000202C415E3D0>, <__main__.Individual object at 0x00000202C415E430>, <__main__.Individual object at 0x00000202C415E490>, <__main__.Individual object at 0x00000202C415E4F0>, <__main__.Individual object at 0x00000202C415E550>, <__main__.Individual object at 0x00000202C415E5B0>, <__main__.Individual object at 0x00000202C415E610>, <__main__.Individual object at 0x00000202C415E670>, <__main__.Individual object at 0x00000202C415E6D0>, <__main__.Individual object at 0x00000202C415E730>, <__main__.Individual object at 0x00000202C415E790>, <__main__.Individual object at 0x00000202C415E7F0>, <__main__.Individual object at 0x00000202C415E850>, <__main__.Individual object at 0x00000202C415E8B0>, <__main__.Individual object at 0x00000202C415E910>, <__main__.Individual object at 0x00000202C415E970>, <__main__.Individual object at 0x00000202C415E9D0>, <__main__.Individual object at 0x00000202C415EA30>, <__main__.Individual object at 0x00000202C415EA90>, <__main__.Individual object at 0x00000202C415EAF0>, <__main__.Individual object at 0x00000202C415EB50>, <__main__.Individual object at 0x00000202C415EBB0>, <__main__.Individual object at 0x00000202C415EC10>, <__main__.Individual object at 0x00000202C415EC70>, <__main__.Individual object at 0x00000202C415ECD0>, <__main__.Individual object at 0x00000202C415ED30>, <__main__.Individual object at 0x00000202C415ED90>, <__main__.Individual object at 0x00000202C415EDF0>, <__main__.Individual object at 0x00000202C415EE50>, <__main__.Individual object at 0x00000202C415EEB0>, <__main__.Individual object at 0x00000202C415EF10>, <__main__.Individual object at 0x00000202C415EF70>, <__main__.Individual object at 0x00000202C415EFD0>, <__main__.Individual object at 0x00000202C4160070>, <__main__.Individual object at 0x00000202C41600D0>, <__main__.Individual object at 0x00000202C4160130>, <__main__.Individual object at 0x00000202C4160190>, <__main__.Individual object at 0x00000202C41601F0>, <__main__.Individual object at 0x00000202C4160250>, <__main__.Individual object at 0x00000202C41602B0>, <__main__.Individual object at 0x00000202C4160310>, <__main__.Individual object at 0x00000202C4160370>, <__main__.Individual object at 0x00000202C41603D0>, <__main__.Individual object at 0x00000202C4160430>, <__main__.Individual object at 0x00000202C4160490>, <__main__.Individual object at 0x00000202C41604F0>, <__main__.Individual object at 0x00000202C4160550>, <__main__.Individual object at 0x00000202C41605B0>, <__main__.Individual object at 0x00000202C4160610>, <__main__.Individual object at 0x00000202C4160670>, <__main__.Individual object at 0x00000202C41606D0>, <__main__.Individual object at 0x00000202C4160730>, <__main__.Individual object at 0x00000202C4160790>, <__main__.Individual object at 0x00000202C41607F0>, <__main__.Individual object at 0x00000202C4160850>, <__main__.Individual object at 0x00000202C41608B0>, <__main__.Individual object at 0x00000202C4160910>, <__main__.Individual object at 0x00000202C4160970>, <__main__.Individual object at 0x00000202C41609D0>, <__main__.Individual object at 0x00000202C4160A30>, <__main__.Individual object at 0x00000202C4160A90>, <__main__.Individual object at 0x00000202C4160AF0>, <__main__.Individual object at 0x00000202C4160B50>, <__main__.Individual object at 0x00000202C4160BB0>, <__main__.Individual object at 0x00000202C4160C10>, <__main__.Individual object at 0x00000202C4160C70>, <__main__.Individual object at 0x00000202C4160CD0>, <__main__.Individual object at 0x00000202C4160D30>, <__main__.Individual object at 0x00000202C4160D90>, <__main__.Individual object at 0x00000202C4160DF0>, <__main__.Individual object at 0x00000202C4160E50>, <__main__.Individual object at 0x00000202C4160EB0>, <__main__.Individual object at 0x00000202C4160F10>, <__main__.Individual object at 0x00000202C4160F70>, <__main__.Individual object at 0x00000202C4160FD0>, <__main__.Individual object at 0x00000202C4164070>, <__main__.Individual object at 0x00000202C41640D0>, <__main__.Individual object at 0x00000202C4164130>, <__main__.Individual object at 0x00000202C4164190>, <__main__.Individual object at 0x00000202C41641F0>, <__main__.Individual object at 0x00000202C4164250>, <__main__.Individual object at 0x00000202C41642B0>, <__main__.Individual object at 0x00000202C4164310>, <__main__.Individual object at 0x00000202C4164370>, <__main__.Individual object at 0x00000202C41643D0>, <__main__.Individual object at 0x00000202C4164430>, <__main__.Individual object at 0x00000202C4164490>, <__main__.Individual object at 0x00000202C41644F0>, <__main__.Individual object at 0x00000202C4164550>, <__main__.Individual object at 0x00000202C41645B0>, <__main__.Individual object at 0x00000202C4164610>, <__main__.Individual object at 0x00000202C4164670>, <__main__.Individual object at 0x00000202C41646D0>, <__main__.Individual object at 0x00000202C4164730>, <__main__.Individual object at 0x00000202C4164790>, <__main__.Individual object at 0x00000202C41647F0>, <__main__.Individual object at 0x00000202C4164850>, <__main__.Individual object at 0x00000202C41648B0>, <__main__.Individual object at 0x00000202C4164910>, <__main__.Individual object at 0x00000202C4164970>, <__main__.Individual object at 0x00000202C41649D0>, <__main__.Individual object at 0x00000202C4164A30>, <__main__.Individual object at 0x00000202C4164A90>, <__main__.Individual object at 0x00000202C4164AF0>, <__main__.Individual object at 0x00000202C4164B50>, <__main__.Individual object at 0x00000202C4164BB0>, <__main__.Individual object at 0x00000202C4164C10>, <__main__.Individual object at 0x00000202C4164C70>, <__main__.Individual object at 0x00000202C4164CD0>, <__main__.Individual object at 0x00000202C4164D30>, <__main__.Individual object at 0x00000202C4164D90>, <__main__.Individual object at 0x00000202C4164DF0>, <__main__.Individual object at 0x00000202C4164E50>, <__main__.Individual object at 0x00000202C4164EB0>, <__main__.Individual object at 0x00000202C4164F10>, <__main__.Individual object at 0x00000202C4164F70>, <__main__.Individual object at 0x00000202C4164FD0>, <__main__.Individual object at 0x00000202C4166070>, <__main__.Individual object at 0x00000202C41660D0>, <__main__.Individual object at 0x00000202C4166130>, <__main__.Individual object at 0x00000202C4166190>, <__main__.Individual object at 0x00000202C41661F0>, <__main__.Individual object at 0x00000202C4166250>, <__main__.Individual object at 0x00000202C41662B0>, <__main__.Individual object at 0x00000202C4166310>, <__main__.Individual object at 0x00000202C4166370>, <__main__.Individual object at 0x00000202C41663D0>, <__main__.Individual object at 0x00000202C4166430>, <__main__.Individual object at 0x00000202C4166490>, <__main__.Individual object at 0x00000202C41664F0>, <__main__.Individual object at 0x00000202C4166550>, <__main__.Individual object at 0x00000202C41665B0>, <__main__.Individual object at 0x00000202C4166610>, <__main__.Individual object at 0x00000202C4166670>, <__main__.Individual object at 0x00000202C41666D0>, <__main__.Individual object at 0x00000202C4166730>, <__main__.Individual object at 0x00000202C4166790>, <__main__.Individual object at 0x00000202C41667F0>, <__main__.Individual object at 0x00000202C4166850>, <__main__.Individual object at 0x00000202C41668B0>, <__main__.Individual object at 0x00000202C4166910>, <__main__.Individual object at 0x00000202C4166970>, <__main__.Individual object at 0x00000202C41669D0>, <__main__.Individual object at 0x00000202C4166A30>, <__main__.Individual object at 0x00000202C4166A90>, <__main__.Individual object at 0x00000202C4166AF0>, <__main__.Individual object at 0x00000202C4166B50>, <__main__.Individual object at 0x00000202C4166BB0>, <__main__.Individual object at 0x00000202C4166C10>, <__main__.Individual object at 0x00000202C4166C70>, <__main__.Individual object at 0x00000202C4166CD0>, <__main__.Individual object at 0x00000202C4166D30>, <__main__.Individual object at 0x00000202C4166D90>, <__main__.Individual object at 0x00000202C4166DF0>, <__main__.Individual object at 0x00000202C4166E50>, <__main__.Individual object at 0x00000202C4166EB0>, <__main__.Individual object at 0x00000202C4166F10>, <__main__.Individual object at 0x00000202C4166F70>, <__main__.Individual object at 0x00000202C4166FD0>, <__main__.Individual object at 0x00000202C4168070>, <__main__.Individual object at 0x00000202C41680D0>, <__main__.Individual object at 0x00000202C4168130>, <__main__.Individual object at 0x00000202C4168190>, <__main__.Individual object at 0x00000202C41681F0>, <__main__.Individual object at 0x00000202C4168250>, <__main__.Individual object at 0x00000202C41682B0>, <__main__.Individual object at 0x00000202C4168310>, <__main__.Individual object at 0x00000202C4168370>, <__main__.Individual object at 0x00000202C41683D0>, <__main__.Individual object at 0x00000202C4168430>, <__main__.Individual object at 0x00000202C4168490>, <__main__.Individual object at 0x00000202C41684F0>, <__main__.Individual object at 0x00000202C4168550>, <__main__.Individual object at 0x00000202C41685B0>, <__main__.Individual object at 0x00000202C4168610>, <__main__.Individual object at 0x00000202C4168670>, <__main__.Individual object at 0x00000202C41686D0>, <__main__.Individual object at 0x00000202C4168730>, <__main__.Individual object at 0x00000202C4168790>, <__main__.Individual object at 0x00000202C41687F0>, <__main__.Individual object at 0x00000202C4168850>, <__main__.Individual object at 0x00000202C41688B0>, <__main__.Individual object at 0x00000202C4168910>, <__main__.Individual object at 0x00000202C4168970>, <__main__.Individual object at 0x00000202C41689D0>, <__main__.Individual object at 0x00000202C4168A30>, <__main__.Individual object at 0x00000202C4168A90>, <__main__.Individual object at 0x00000202C4168AF0>, <__main__.Individual object at 0x00000202C4168B50>, <__main__.Individual object at 0x00000202C4168BB0>, <__main__.Individual object at 0x00000202C4168C10>, <__main__.Individual object at 0x00000202C4168C70>, <__main__.Individual object at 0x00000202C4168CD0>, <__main__.Individual object at 0x00000202C4168D30>, <__main__.Individual object at 0x00000202C4168D90>, <__main__.Individual object at 0x00000202C4168DF0>, <__main__.Individual object at 0x00000202C4168E50>, <__main__.Individual object at 0x00000202C4168EB0>, <__main__.Individual object at 0x00000202C4168F10>, <__main__.Individual object at 0x00000202C4168F70>, <__main__.Individual object at 0x00000202C4168FD0>, <__main__.Individual object at 0x00000202C416C070>, <__main__.Individual object at 0x00000202C416C0D0>, <__main__.Individual object at 0x00000202C416C130>, <__main__.Individual object at 0x00000202C416C190>, <__main__.Individual object at 0x00000202C416C1F0>, <__main__.Individual object at 0x00000202C416C250>, <__main__.Individual object at 0x00000202C416C2B0>, <__main__.Individual object at 0x00000202C416C310>, <__main__.Individual object at 0x00000202C416C370>, <__main__.Individual object at 0x00000202C416C3D0>, <__main__.Individual object at 0x00000202C416C430>, <__main__.Individual object at 0x00000202C416C490>, <__main__.Individual object at 0x00000202C416C4F0>, <__main__.Individual object at 0x00000202C416C550>, <__main__.Individual object at 0x00000202C416C5B0>, <__main__.Individual object at 0x00000202C416C610>, <__main__.Individual object at 0x00000202C416C670>, <__main__.Individual object at 0x00000202C416C6D0>, <__main__.Individual object at 0x00000202C416C730>, <__main__.Individual object at 0x00000202C416C790>, <__main__.Individual object at 0x00000202C416C7F0>, <__main__.Individual object at 0x00000202C416C850>, <__main__.Individual object at 0x00000202C416C8B0>, <__main__.Individual object at 0x00000202C416C910>, <__main__.Individual object at 0x00000202C416C970>, <__main__.Individual object at 0x00000202C416C9D0>, <__main__.Individual object at 0x00000202C416CA30>, <__main__.Individual object at 0x00000202C416CA90>, <__main__.Individual object at 0x00000202C416CAF0>, <__main__.Individual object at 0x00000202C416CB50>, <__main__.Individual object at 0x00000202C416CBB0>, <__main__.Individual object at 0x00000202C416CC10>, <__main__.Individual object at 0x00000202C416CC70>, <__main__.Individual object at 0x00000202C416CCD0>, <__main__.Individual object at 0x00000202C416CD30>, <__main__.Individual object at 0x00000202C416CD90>, <__main__.Individual object at 0x00000202C416CDF0>, <__main__.Individual object at 0x00000202C416CE50>, <__main__.Individual object at 0x00000202C416CEB0>, <__main__.Individual object at 0x00000202C416CF10>, <__main__.Individual object at 0x00000202C416CF70>, <__main__.Individual object at 0x00000202C416CFD0>, <__main__.Individual object at 0x00000202C416E070>, <__main__.Individual object at 0x00000202C416E0D0>, <__main__.Individual object at 0x00000202C416E130>, <__main__.Individual object at 0x00000202C416E190>, <__main__.Individual object at 0x00000202C416E1F0>, <__main__.Individual object at 0x00000202C416E250>, <__main__.Individual object at 0x00000202C416E2B0>, <__main__.Individual object at 0x00000202C416E310>, <__main__.Individual object at 0x00000202C416E370>, <__main__.Individual object at 0x00000202C416E3D0>, <__main__.Individual object at 0x00000202C416E430>, <__main__.Individual object at 0x00000202C416E490>, <__main__.Individual object at 0x00000202C416E4F0>, <__main__.Individual object at 0x00000202C416E550>, <__main__.Individual object at 0x00000202C416E5B0>, <__main__.Individual object at 0x00000202C416E610>, <__main__.Individual object at 0x00000202C416E670>, <__main__.Individual object at 0x00000202C416E6D0>, <__main__.Individual object at 0x00000202C416E730>, <__main__.Individual object at 0x00000202C416E790>, <__main__.Individual object at 0x00000202C416E7F0>, <__main__.Individual object at 0x00000202C416E850>, <__main__.Individual object at 0x00000202C416E8B0>, <__main__.Individual object at 0x00000202C416E910>, <__main__.Individual object at 0x00000202C416E970>, <__main__.Individual object at 0x00000202C416E9D0>, <__main__.Individual object at 0x00000202C416EA30>, <__main__.Individual object at 0x00000202C416EA90>, <__main__.Individual object at 0x00000202C416EAF0>, <__main__.Individual object at 0x00000202C416EB50>, <__main__.Individual object at 0x00000202C416EBB0>, <__main__.Individual object at 0x00000202C416EC10>, <__main__.Individual object at 0x00000202C416EC70>, <__main__.Individual object at 0x00000202C416ECD0>, <__main__.Individual object at 0x00000202C416ED30>, <__main__.Individual object at 0x00000202C416ED90>, <__main__.Individual object at 0x00000202C416EDF0>, <__main__.Individual object at 0x00000202C416EE50>, <__main__.Individual object at 0x00000202C416EEB0>, <__main__.Individual object at 0x00000202C416EF10>, <__main__.Individual object at 0x00000202C416EF70>, <__main__.Individual object at 0x00000202C416EFD0>, <__main__.Individual object at 0x00000202C4170070>, <__main__.Individual object at 0x00000202C41700D0>, <__main__.Individual object at 0x00000202C4170130>, <__main__.Individual object at 0x00000202C4170190>, <__main__.Individual object at 0x00000202C41701F0>, <__main__.Individual object at 0x00000202C4170250>, <__main__.Individual object at 0x00000202C41702B0>, <__main__.Individual object at 0x00000202C4170310>, <__main__.Individual object at 0x00000202C4170370>, <__main__.Individual object at 0x00000202C41703D0>, <__main__.Individual object at 0x00000202C4170430>, <__main__.Individual object at 0x00000202C4170490>, <__main__.Individual object at 0x00000202C41704F0>, <__main__.Individual object at 0x00000202C4170550>, <__main__.Individual object at 0x00000202C41705B0>, <__main__.Individual object at 0x00000202C4170610>, <__main__.Individual object at 0x00000202C4170670>, <__main__.Individual object at 0x00000202C41706D0>, <__main__.Individual object at 0x00000202C4170730>, <__main__.Individual object at 0x00000202C4170790>, <__main__.Individual object at 0x00000202C41707F0>, <__main__.Individual object at 0x00000202C4170850>, <__main__.Individual object at 0x00000202C41708B0>, <__main__.Individual object at 0x00000202C4170910>, <__main__.Individual object at 0x00000202C4170970>, <__main__.Individual object at 0x00000202C41709D0>, <__main__.Individual object at 0x00000202C4170A30>, <__main__.Individual object at 0x00000202C4170A90>, <__main__.Individual object at 0x00000202C4170AF0>, <__main__.Individual object at 0x00000202C4170B50>, <__main__.Individual object at 0x00000202C4170BB0>, <__main__.Individual object at 0x00000202C4170C10>, <__main__.Individual object at 0x00000202C4170C70>, <__main__.Individual object at 0x00000202C4170CD0>, <__main__.Individual object at 0x00000202C4170D30>, <__main__.Individual object at 0x00000202C4170D90>, <__main__.Individual object at 0x00000202C4170DF0>, <__main__.Individual object at 0x00000202C4170E50>, <__main__.Individual object at 0x00000202C4170EB0>, <__main__.Individual object at 0x00000202C4170F10>, <__main__.Individual object at 0x00000202C4170F70>, <__main__.Individual object at 0x00000202C4170FD0>, <__main__.Individual object at 0x00000202C4174070>, <__main__.Individual object at 0x00000202C41740D0>, <__main__.Individual object at 0x00000202C4174130>, <__main__.Individual object at 0x00000202C4174190>, <__main__.Individual object at 0x00000202C41741F0>, <__main__.Individual object at 0x00000202C4174250>, <__main__.Individual object at 0x00000202C41742B0>, <__main__.Individual object at 0x00000202C4174310>, <__main__.Individual object at 0x00000202C4174370>, <__main__.Individual object at 0x00000202C41743D0>, <__main__.Individual object at 0x00000202C4174430>, <__main__.Individual object at 0x00000202C4174490>, <__main__.Individual object at 0x00000202C41744F0>, <__main__.Individual object at 0x00000202C4174550>, <__main__.Individual object at 0x00000202C41745B0>, <__main__.Individual object at 0x00000202C4174610>, <__main__.Individual object at 0x00000202C4174670>, <__main__.Individual object at 0x00000202C41746D0>, <__main__.Individual object at 0x00000202C4174730>, <__main__.Individual object at 0x00000202C4174790>, <__main__.Individual object at 0x00000202C41747F0>, <__main__.Individual object at 0x00000202C4174850>, <__main__.Individual object at 0x00000202C41748B0>, <__main__.Individual object at 0x00000202C4174910>, <__main__.Individual object at 0x00000202C4174970>, <__main__.Individual object at 0x00000202C41749D0>, <__main__.Individual object at 0x00000202C4174A30>, <__main__.Individual object at 0x00000202C4174A90>, <__main__.Individual object at 0x00000202C4174AF0>, <__main__.Individual object at 0x00000202C4174B50>, <__main__.Individual object at 0x00000202C4174BB0>, <__main__.Individual object at 0x00000202C4174C10>, <__main__.Individual object at 0x00000202C4174C70>, <__main__.Individual object at 0x00000202C4174CD0>, <__main__.Individual object at 0x00000202C4174D30>, <__main__.Individual object at 0x00000202C4174D90>, <__main__.Individual object at 0x00000202C4174DF0>, <__main__.Individual object at 0x00000202C4174E50>, <__main__.Individual object at 0x00000202C4174EB0>, <__main__.Individual object at 0x00000202C4174F10>, <__main__.Individual object at 0x00000202C4174F70>, <__main__.Individual object at 0x00000202C4174FD0>, <__main__.Individual object at 0x00000202C4176070>, <__main__.Individual object at 0x00000202C41760D0>, <__main__.Individual object at 0x00000202C4176130>, <__main__.Individual object at 0x00000202C4176190>, <__main__.Individual object at 0x00000202C41761F0>, <__main__.Individual object at 0x00000202C4176250>, <__main__.Individual object at 0x00000202C41762B0>, <__main__.Individual object at 0x00000202C4176310>, <__main__.Individual object at 0x00000202C4176370>, <__main__.Individual object at 0x00000202C41763D0>, <__main__.Individual object at 0x00000202C4176430>, <__main__.Individual object at 0x00000202C4176490>, <__main__.Individual object at 0x00000202C41764F0>, <__main__.Individual object at 0x00000202C4176550>, <__main__.Individual object at 0x00000202C41765B0>, <__main__.Individual object at 0x00000202C4176610>, <__main__.Individual object at 0x00000202C4176670>, <__main__.Individual object at 0x00000202C41766D0>]\n"
     ]
    }
   ],
   "source": []
  },
  {
   "cell_type": "code",
   "execution_count": null,
   "id": "22c0ddc3",
   "metadata": {},
   "outputs": [],
   "source": []
  }
 ],
 "metadata": {
  "kernelspec": {
   "display_name": "Python 3 (ipykernel)",
   "language": "python",
   "name": "python3"
  },
  "language_info": {
   "codemirror_mode": {
    "name": "ipython",
    "version": 3
   },
   "file_extension": ".py",
   "mimetype": "text/x-python",
   "name": "python",
   "nbconvert_exporter": "python",
   "pygments_lexer": "ipython3",
   "version": "3.9.7"
  }
 },
 "nbformat": 4,
 "nbformat_minor": 5
}
